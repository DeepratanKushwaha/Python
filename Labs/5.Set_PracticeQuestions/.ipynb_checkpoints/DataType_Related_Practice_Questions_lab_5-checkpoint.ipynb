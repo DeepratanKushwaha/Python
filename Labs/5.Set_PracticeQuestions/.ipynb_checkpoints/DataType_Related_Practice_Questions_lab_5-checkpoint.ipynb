{
 "cells": [
  {
   "cell_type": "markdown",
   "metadata": {
    "slideshow": {
     "slide_type": "slide"
    }
   },
   "source": [
    "## Important Questions On DataTypes"
   ]
  },
  {
   "cell_type": "code",
   "execution_count": null,
   "metadata": {
    "slideshow": {
     "slide_type": "fragment"
    }
   },
   "outputs": [],
   "source": [
    "Ques 1: Given a string of odd length greater 7, return a string made of the middle three chars of a given String.\n",
    "\n",
    "Case 1:\n",
    "str1 = \"NhonDipGood\"\n",
    "Expected Output: Dip\n",
    "\n",
    "Case 2:\n",
    "str2 = \"HiSonOk\"\n",
    "Expected Output: Son"
   ]
  },
  {
   "cell_type": "code",
   "execution_count": 8,
   "metadata": {},
   "outputs": [
    {
     "name": "stdout",
     "output_type": "stream",
     "text": [
      "Dip\n",
      "Son\n"
     ]
    }
   ],
   "source": [
    "str1 = \"NhonDipGood\"\n",
    "str2 = str1.lstrip('Nhon')\n",
    "str2 = str2.rstrip('Good')\n",
    "print(str2)\n",
    "\n",
    "str3 = \"HiSonOk\"\n",
    "str4 = str3.lstrip('Hi')\n",
    "str4 = str4.rstrip('Ok')\n",
    "print(str4)"
   ]
  },
  {
   "cell_type": "code",
   "execution_count": null,
   "metadata": {
    "slideshow": {
     "slide_type": "fragment"
    }
   },
   "outputs": [],
   "source": [
    "Ques 2: Arrange string characters such that lowercase letters should come first.Given an input string with the combination\n",
    "of the lower and upper case arrange characters in such a way that all lowercase letters should come first.\n",
    "\n",
    "Given:\n",
    "str1 = \"PyNaTive\"\n",
    "Expected Output: yaivePNT"
   ]
  },
  {
   "cell_type": "code",
   "execution_count": 6,
   "metadata": {},
   "outputs": [
    {
     "name": "stdout",
     "output_type": "stream",
     "text": [
      "yaivePNT\n",
      "yaivePNT\n"
     ]
    }
   ],
   "source": [
    "#solution-1\n",
    "s = \"PyNaTive\"\n",
    "lower = []\n",
    "upper = []\n",
    "i = 0\n",
    "while i < len(s):\n",
    "    if s[i].islower():\n",
    "        lower.append(s[i])\n",
    "    elif s[i].isupper():\n",
    "        upper.append(s[i])\n",
    "    i+=1\n",
    "\n",
    "s = lower+upper\n",
    "s1 = ''.join(s)\n",
    "print(s1)\n",
    "\n",
    "#solution-2\n",
    "s = \"PyNaTive\"\n",
    "lower = ''\n",
    "upper = ''\n",
    "i = 0\n",
    "while i < len(s):\n",
    "    if s[i].islower():\n",
    "        lower += s[i]\n",
    "    elif s[i].isupper():\n",
    "        upper += s[i]\n",
    "    i+=1\n",
    "\n",
    "s1 = lower+upper\n",
    "print(s1)"
   ]
  },
  {
   "cell_type": "code",
   "execution_count": null,
   "metadata": {
    "slideshow": {
     "slide_type": "slide"
    }
   },
   "outputs": [],
   "source": [
    "Ques 3: Given a two list. Create a third list by picking an odd-index element from the first list and even index elements \n",
    "    from second.\n",
    "\n",
    "For Example:\n",
    "    listOne = [3, 6, 9, 12, 15, 18, 21]\n",
    "    listTwo = [4, 8, 12, 16, 20, 24, 28]\n",
    "\n",
    "Expected Output:\n",
    "    Element at odd-index positions from list one : [6, 12, 18]\n",
    "    Element at even-index positions from list two : [4, 12, 20, 28]\n",
    "    Printing Final third list : [6, 12, 18, 4, 12, 20, 28]"
   ]
  },
  {
   "cell_type": "code",
   "execution_count": 16,
   "metadata": {
    "slideshow": {
     "slide_type": "-"
    }
   },
   "outputs": [
    {
     "name": "stdout",
     "output_type": "stream",
     "text": [
      "[6, 12, 18, 4, 12, 20, 28]\n"
     ]
    }
   ],
   "source": [
    "listOne = [3, 6, 9, 12, 15, 18, 21]\n",
    "listTwo = [4, 8, 12, 16, 20, 24, 28]\n",
    "listThree = []\n",
    "for i in range(0,len(listOne)):\n",
    "    if i % 2 != 0:\n",
    "        listThree.append(listOne[i])\n",
    "for i in range(0,len(listTwo)):\n",
    "    if i % 2 == 0:\n",
    "        listThree.append(listTwo[i])\n",
    "\n",
    "print(listThree)"
   ]
  },
  {
   "cell_type": "code",
   "execution_count": null,
   "metadata": {
    "slideshow": {
     "slide_type": "fragment"
    }
   },
   "outputs": [],
   "source": [
    "Ques 4: Given a two list of equal size create a list such that it shows the element from both lists in the \n",
    "    pair.\n",
    "\n",
    "First List  [2, 3, 4, 5, 6, 7, 8]\n",
    "Second List  [4, 9, 16, 25, 36, 49, 64]\n",
    "\n",
    "Expected Output:\n",
    "Result is  [(2, 4), (3, 9), (4, 16), (5, 25), (6, 36), (7, 49), (8, 64)]"
   ]
  },
  {
   "cell_type": "code",
   "execution_count": 24,
   "metadata": {},
   "outputs": [
    {
     "name": "stdout",
     "output_type": "stream",
     "text": [
      "<class 'list'> [(2, 4), (3, 9), (4, 16), (5, 25), (6, 36), (7, 49), (8, 64)]\n"
     ]
    }
   ],
   "source": [
    "First_List = [2, 3, 4, 5, 6, 7, 8]\n",
    "Second_List = [4, 9, 16, 25, 36, 49, 64]\n",
    "\n",
    "result = list(zip(First_List, Second_List))\n",
    "print(type(result),result)\n"
   ]
  },
  {
   "cell_type": "code",
   "execution_count": null,
   "metadata": {
    "slideshow": {
     "slide_type": "slide"
    }
   },
   "outputs": [],
   "source": [
    "Ques 5: Concatenate two lists index-wise.\n",
    "list1 = [\"M\", \"na\", \"i\", \"Ar\"] \n",
    "list2 = [\"y\", \"me\", \"s\", \"jun\"]\n",
    "\n",
    "Expected output:\n",
    "['My', 'name', 'is', 'Arjun']"
   ]
  },
  {
   "cell_type": "code",
   "execution_count": 3,
   "metadata": {},
   "outputs": [
    {
     "name": "stdout",
     "output_type": "stream",
     "text": [
      "['My', 'name', 'is', 'Arjun']\n"
     ]
    }
   ],
   "source": [
    "list1 = [\"M\", \"na\", \"i\", \"Ar\"] \n",
    "list2 = [\"y\", \"me\", \"s\", \"jun\"]\n",
    "list3 = []\n",
    "\n",
    "for i in range(len(list1)):\n",
    "    list3.append(list1[i]+list2[i])\n",
    "\n",
    "print(list3)"
   ]
  },
  {
   "cell_type": "code",
   "execution_count": null,
   "metadata": {
    "slideshow": {
     "slide_type": "fragment"
    }
   },
   "outputs": [],
   "source": [
    "Ques 6: Concatenate two lists in the following order\n",
    "list1 = [\"Hello \", \"take \"]\n",
    "list2 = [\"Dear\", \"Sir\"]\n",
    "\n",
    "Expected output:\n",
    "['Hello Dear', 'Hello Sir', 'take Dear', 'take Sir']"
   ]
  },
  {
   "cell_type": "code",
   "execution_count": 6,
   "metadata": {},
   "outputs": [
    {
     "name": "stdout",
     "output_type": "stream",
     "text": [
      "['Hello Dear', 'Hello Sir', 'take Dear', 'take Sir']\n"
     ]
    }
   ],
   "source": [
    "list1 = [\"Hello \", \"take \"]\n",
    "list2 = [\"Dear\", \"Sir\"]\n",
    "\n",
    "list3 = [list1[0] + list2[0], list1[0] + list2[1], list1[1] + list2[0], list1[1] + list2[1]]\n",
    "\n",
    "print(list3)"
   ]
  },
  {
   "cell_type": "code",
   "execution_count": null,
   "metadata": {
    "slideshow": {
     "slide_type": "fragment"
    }
   },
   "outputs": [],
   "source": [
    "Ques 7: Initialize dictionary with default values. ## If we access any keys of employees give the default values. \n",
    "\n",
    "employees = ['Kelly', 'Emma', 'John']\n",
    "defaults = {\"designation\": 'Application Developer', \"salary\": 8000}"
   ]
  },
  {
   "cell_type": "code",
   "execution_count": null,
   "metadata": {},
   "outputs": [],
   "source": [
    "employees = ['Kelly', 'Emma', 'John']\n",
    "defaults = {\"designation\": 'Application Developer', \"salary\": 8000}\n",
    "\n",
    "\n"
   ]
  },
  {
   "cell_type": "code",
   "execution_count": 42,
   "metadata": {
    "slideshow": {
     "slide_type": "slide"
    }
   },
   "outputs": [],
   "source": [
    "#Ques 8: Given a Python dictionary, Change Brad’s salary to 8500.\n",
    "sampleDict = {\n",
    "     'emp1': {'name': 'Jhon', 'salary': 7500},\n",
    "     'emp2': {'name': 'Emma', 'salary': 8000},\n",
    "     'emp3': {'name': 'Brad', 'salary': 6500}\n",
    "}\n",
    "\n",
    "#Expected output:\n",
    "#sampleDict = {\n",
    "#     'emp1': {'name': 'Jhon', 'salary': 7500},\n",
    "#     'emp2': {'name': 'Emma', 'salary': 8000},\n",
    "#     'emp3': {'name': 'Brad', 'salary': 8500}  ## Value salary = 8500.\n",
    "#}"
   ]
  },
  {
   "cell_type": "code",
   "execution_count": 43,
   "metadata": {},
   "outputs": [
    {
     "name": "stdout",
     "output_type": "stream",
     "text": [
      "{'emp1': {'name': 'Jhon', 'salary': 7500}, 'emp2': {'name': 'Emma', 'salary': 8000}, 'emp3': {'name': 'Brad', 'salary': 6500}}\n",
      "{'emp1': {'name': 'Jhon', 'salary': 7500}, 'emp2': {'name': 'Emma', 'salary': 8000}, 'emp3': {'name': 'Brad', 'salary': 8500}}\n"
     ]
    }
   ],
   "source": [
    "print(sampleDict)\n",
    "sampleDict['emp3']['salary'] = 8500\n",
    "print(sampleDict)"
   ]
  },
  {
   "cell_type": "code",
   "execution_count": null,
   "metadata": {
    "slideshow": {
     "slide_type": "fragment"
    }
   },
   "outputs": [],
   "source": [
    "Ques 9: Exercise Question 5: Given a two Python list. Iterate both lists simultaneously such that list1 should display \n",
    "        item in original order and list2 in reverse order.\n",
    "list1 = [10, 20, 30, 40]\n",
    "list2 = [100, 200, 300, 400]\n",
    "\n",
    "Expected output:\n",
    "    10 400\n",
    "    20 300\n",
    "    30 200\n",
    "    40 100"
   ]
  },
  {
   "cell_type": "code",
   "execution_count": 87,
   "metadata": {},
   "outputs": [
    {
     "name": "stdout",
     "output_type": "stream",
     "text": [
      "10 400\n",
      "20 300\n",
      "30 200\n",
      "40 100\n"
     ]
    }
   ],
   "source": [
    "list1 = [10, 20, 30, 40]\n",
    "list2 = [100, 200, 300, 400]\n",
    "j=3\n",
    "\n",
    "for i in list1:\n",
    "    print(i, list2[j])\n",
    "    j-=1"
   ]
  },
  {
   "cell_type": "code",
   "execution_count": null,
   "metadata": {
    "slideshow": {
     "slide_type": "fragment"
    }
   },
   "outputs": [],
   "source": [
    "Ques 10: Given a Python list. Turn every item of a list into its square.\n",
    "aList = [1, 2, 3, 4, 5, 6, 7]\n",
    "\n",
    "Expected output: [1, 8, 27, 64, 125, 216, 343]"
   ]
  },
  {
   "cell_type": "code",
   "execution_count": 59,
   "metadata": {
    "slideshow": {
     "slide_type": "skip"
    }
   },
   "outputs": [
    {
     "name": "stdout",
     "output_type": "stream",
     "text": [
      "[1, 4, 9, 16, 25, 36, 49]\n",
      "[1, 4, 9, 16, 25, 36, 49]\n",
      "[1, 4, 9, 16, 25, 36, 49]\n"
     ]
    }
   ],
   "source": [
    "#solution-1\n",
    "aList = [1, 2, 3, 4, 5, 6, 7]\n",
    "\n",
    "for i in range(0,len(aList)):\n",
    "    aList[i] = aList[i]*aList[i]\n",
    "\n",
    "print(aList)\n",
    "\n",
    "#solution-2\n",
    "aList1 = [1, 2, 3, 4, 5, 6, 7]\n",
    "sList = []\n",
    "for i in aList1:\n",
    "    sList.append(i*i)\n",
    "print(sList)\n",
    "\n",
    "#solution-3\n",
    "def square(i):\n",
    "    return i*i\n",
    "aList2 = [1, 2, 3, 4, 5, 6, 7]\n",
    "\n",
    "sList1 = list(map(square, aList2))\n",
    "print(sList1)"
   ]
  },
  {
   "cell_type": "code",
   "execution_count": null,
   "metadata": {},
   "outputs": [],
   "source": []
  }
 ],
 "metadata": {
  "celltoolbar": "Slideshow",
  "kernelspec": {
   "display_name": "Python 3",
   "language": "python",
   "name": "python3"
  },
  "language_info": {
   "codemirror_mode": {
    "name": "ipython",
    "version": 3
   },
   "file_extension": ".py",
   "mimetype": "text/x-python",
   "name": "python",
   "nbconvert_exporter": "python",
   "pygments_lexer": "ipython3",
   "version": "3.7.9"
  }
 },
 "nbformat": 4,
 "nbformat_minor": 2
}
