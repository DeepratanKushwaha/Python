{
 "cells": [
  {
   "cell_type": "markdown",
   "metadata": {
    "slideshow": {
     "slide_type": "slide"
    }
   },
   "source": [
    "#  If else in Python"
   ]
  },
  {
   "cell_type": "markdown",
   "metadata": {
    "slideshow": {
     "slide_type": "fragment"
    }
   },
   "source": [
    "### Introdution:\n",
    "- There comes situations in real life when we need to make some decisions and based on these decisions, we decide what should we do next. \n",
    "- Similar situations arises in programming also where we need to make some decisions and based on these decisions we will execute the next block of code."
   ]
  },
  {
   "cell_type": "markdown",
   "metadata": {
    "slideshow": {
     "slide_type": "slide"
    }
   },
   "source": [
    "## Decision making statements available in python are:"
   ]
  },
  {
   "cell_type": "markdown",
   "metadata": {
    "slideshow": {
     "slide_type": "fragment"
    }
   },
   "source": [
    "- if statement"
   ]
  },
  {
   "cell_type": "markdown",
   "metadata": {
    "slideshow": {
     "slide_type": "fragment"
    }
   },
   "source": [
    "- if..else statements"
   ]
  },
  {
   "cell_type": "markdown",
   "metadata": {
    "slideshow": {
     "slide_type": "fragment"
    }
   },
   "source": [
    "- nested if statements"
   ]
  },
  {
   "cell_type": "markdown",
   "metadata": {
    "slideshow": {
     "slide_type": "fragment"
    }
   },
   "source": [
    "- if-elif ladder"
   ]
  },
  {
   "cell_type": "markdown",
   "metadata": {
    "slideshow": {
     "slide_type": "fragment"
    }
   },
   "source": [
    "- Short Hand if statement"
   ]
  },
  {
   "cell_type": "markdown",
   "metadata": {
    "slideshow": {
     "slide_type": "fragment"
    }
   },
   "source": [
    "- Short Hand if-else statement"
   ]
  },
  {
   "cell_type": "markdown",
   "metadata": {
    "slideshow": {
     "slide_type": "slide"
    }
   },
   "source": [
    "### If statement:\n",
    "- if statement is the most simple decision making statement.\n",
    "- It is used to decide whether a certain statement or block of statements will be executed or not i.e if a certain condition is true then a block of statement is executed otherwise not."
   ]
  },
  {
   "cell_type": "markdown",
   "metadata": {
    "slideshow": {
     "slide_type": "fragment"
    }
   },
   "source": [
    "### Example\n",
    "#### Python program to illustrate If statement, check the number 10 is greater then 15 using If statement."
   ]
  },
  {
   "cell_type": "code",
   "execution_count": 10,
   "metadata": {
    "slideshow": {
     "slide_type": "fragment"
    }
   },
   "outputs": [
    {
     "name": "stdout",
     "output_type": "stream",
     "text": [
      "Number is Less than 15\n"
     ]
    }
   ],
   "source": [
    "number = 10\n",
    "if (number > 15): \n",
    "    print (\"Number is Greater than 15\") \n",
    "print (\"Number is Less than 15\") \n"
   ]
  },
  {
   "cell_type": "markdown",
   "metadata": {
    "slideshow": {
     "slide_type": "slide"
    }
   },
   "source": [
    "### Example Flow Diagram:\n",
    "<img src='https://drive.google.com/uc?id=1itysAkrsCps4SzOqjog8IDM3yZ8wwYmt' height=400px width=360px/>\n",
    "<!-- https://drive.google.com/file/d/1itysAkrsCps4SzOqjog8IDM3yZ8wwYmt/view?usp=sharing -->"
   ]
  },
  {
   "cell_type": "markdown",
   "metadata": {
    "slideshow": {
     "slide_type": "slide"
    }
   },
   "source": [
    "### If- else Statement:\n",
    "- The if statement alone tells us that if a condition is true it will execute a block of statements and if the condition is false it won’t. \n",
    "- if we want to do something else if the condition is false.  We can use the else statement with if statement to execute a block of code when the condition is false."
   ]
  },
  {
   "cell_type": "markdown",
   "metadata": {
    "slideshow": {
     "slide_type": "slide"
    }
   },
   "source": [
    "### Example Flow Diagram:\n",
    "<img src='https://drive.google.com/uc?id=1tZ12qRtwPAZYZHGT3NZ6SZVrFSUDBs7B' height=400px width=360px/>\n",
    "<!-- https://drive.google.com/file/d/1tZ12qRtwPAZYZHGT3NZ6SZVrFSUDBs7B/view?usp=sharing -->"
   ]
  },
  {
   "cell_type": "markdown",
   "metadata": {
    "slideshow": {
     "slide_type": "slide"
    }
   },
   "source": [
    "##### Python program to illustrate If else statement, check a person can Vote or not using if else condition. A person can vote if He/She greater the 18 year. "
   ]
  },
  {
   "cell_type": "code",
   "execution_count": 11,
   "metadata": {
    "slideshow": {
     "slide_type": "fragment"
    }
   },
   "outputs": [
    {
     "name": "stdout",
     "output_type": "stream",
     "text": [
      "You can Vote\n"
     ]
    }
   ],
   "source": [
    "# Example:\n",
    "number = 20; \n",
    "if (number < 18): \n",
    "    print (\"You cann't Vote\") \n",
    "else: \n",
    "    print (\"You can Vote\") "
   ]
  },
  {
   "cell_type": "markdown",
   "metadata": {
    "slideshow": {
     "slide_type": "slide"
    }
   },
   "source": [
    "### Nested-if Statement\n",
    "- A nested if is an if statement that is the target of another if statement. \n",
    "- Nested if statements means an if statement inside another if statement.\n",
    "- Python allows us to nest if statements within if statements. i.e, we can place an if statement inside another if statement."
   ]
  },
  {
   "cell_type": "markdown",
   "metadata": {
    "slideshow": {
     "slide_type": "slide"
    }
   },
   "source": [
    "### Example Flow Diagram:\n",
    "<img src='https://drive.google.com/uc?id=1eyJHCYnZkusaqvnAD_EP1JvTtI_-HHyh'/> \n",
    "<!-- https://drive.google.com/file/d/1eyJHCYnZkusaqvnAD_EP1JvTtI_-HHyh/view?usp=sharing  -->"
   ]
  },
  {
   "cell_type": "markdown",
   "metadata": {
    "slideshow": {
     "slide_type": "slide"
    }
   },
   "source": [
    "#### Example\n",
    "#### Python program to illustrate nested If, statement check number is less then 15 and 12 using nested if statement."
   ]
  },
  {
   "cell_type": "code",
   "execution_count": 3,
   "metadata": {
    "slideshow": {
     "slide_type": "fragment"
    }
   },
   "outputs": [
    {
     "name": "stdout",
     "output_type": "stream",
     "text": [
      "number is smaller than 15\n",
      "number is smaller than 12 too\n"
     ]
    }
   ],
   "source": [
    "number = 10\n",
    "if (number == 10): \n",
    "    # First if statement \n",
    "    if (number < 15): \n",
    "        print (\"number is smaller than 15\") \n",
    "    # Nested - if statement Will only be executed if statement above it is true \n",
    "    if (number < 12): \n",
    "        print (\"number is smaller than 12 too\") \n",
    "    else: \n",
    "        print (\"number is greater than 15\") \n"
   ]
  },
  {
   "cell_type": "markdown",
   "metadata": {
    "slideshow": {
     "slide_type": "slide"
    }
   },
   "source": [
    "### If-elif-else ladder Statement\n",
    "- A user can decide among multiple options. The if statements are executed from the top down. \n",
    "- As soon as one of the conditions controlling the if is true, the statement associated with that if is executed, and the rest of the ladder is bypassed. If none of the conditions is true, then the final else statement will be executed."
   ]
  },
  {
   "cell_type": "markdown",
   "metadata": {
    "slideshow": {
     "slide_type": "slide"
    }
   },
   "source": [
    "### Example Flow Diagram:\n",
    "<img src='https://drive.google.com/uc?id=1PB-q5EnH6ajIXQkMqtP9P3AJ2lj85YxN' height=500px width=500px> \n",
    "<!-- https://drive.google.com/file/d/1PB-q5EnH6ajIXQkMqtP9P3AJ2lj85YxN/view?usp=sharing -->"
   ]
  },
  {
   "cell_type": "markdown",
   "metadata": {
    "slideshow": {
     "slide_type": "slide"
    }
   },
   "source": [
    "#### Example\n",
    "#### Python program to illustrate if-elif-else, ladder. check a number among all the condition which condition is suitable for that number."
   ]
  },
  {
   "cell_type": "code",
   "execution_count": 7,
   "metadata": {
    "slideshow": {
     "slide_type": "fragment"
    }
   },
   "outputs": [
    {
     "name": "stdout",
     "output_type": "stream",
     "text": [
      "number is 20\n"
     ]
    }
   ],
   "source": [
    "number = 20\n",
    "if (number == 10): \n",
    "    print (\"number is 10\") \n",
    "elif (number == 15): \n",
    "    print (\"number is 15\") \n",
    "elif (number == 20): \n",
    "    print (\"number is 20\") \n",
    "else: \n",
    "    print (\"number is not present\") \n"
   ]
  },
  {
   "cell_type": "markdown",
   "metadata": {
    "slideshow": {
     "slide_type": "slide"
    }
   },
   "source": [
    "### Short Hand if statement:\n",
    "- Whenever there is only a single statement to be executed inside the if block then shorthand if can be used.\n",
    "- The statement can be put on the same line as the if statement."
   ]
  },
  {
   "cell_type": "markdown",
   "metadata": {
    "slideshow": {
     "slide_type": "fragment"
    }
   },
   "source": [
    "#### Example\n",
    "#### Python program to illustrate short hand if, ceck a number is less then 15 or not."
   ]
  },
  {
   "cell_type": "code",
   "execution_count": 8,
   "metadata": {
    "slideshow": {
     "slide_type": "fragment"
    }
   },
   "outputs": [
    {
     "name": "stdout",
     "output_type": "stream",
     "text": [
      "number is less than 15\n"
     ]
    }
   ],
   "source": [
    "number = 10\n",
    "if number < 15: print(\"number is less than 15\") "
   ]
  },
  {
   "cell_type": "markdown",
   "metadata": {
    "slideshow": {
     "slide_type": "slide"
    }
   },
   "source": [
    "### Short Hand if-else statement:\n",
    "- This can be used to write the if-else statements in a single line where there is only one statement to be executed in both if and else block."
   ]
  },
  {
   "cell_type": "markdown",
   "metadata": {
    "slideshow": {
     "slide_type": "fragment"
    }
   },
   "source": [
    "#### Example:\n",
    "#### Python program to illustrate short hand if-else, Check a number is less then 15 or not. If less then print True if not print False."
   ]
  },
  {
   "cell_type": "code",
   "execution_count": 9,
   "metadata": {
    "slideshow": {
     "slide_type": "fragment"
    }
   },
   "outputs": [
    {
     "name": "stdout",
     "output_type": "stream",
     "text": [
      "True\n"
     ]
    }
   ],
   "source": [
    "Number = 10\n",
    "print(True) if Number < 15 else print(False) "
   ]
  },
  {
   "cell_type": "code",
   "execution_count": null,
   "metadata": {
    "slideshow": {
     "slide_type": "slide"
    }
   },
   "outputs": [],
   "source": [
    "Ques: Given an integer N perform the following conditional actions:\n",
    "    If N is odd, print Weird\n",
    "    If N is even and in the inclusive range of 2 to 5, print Not Weird\n",
    "    If N is even and in the inclusive range of 6 to 20, print Weird\n",
    "    If N is even and greater than 20, print Not Weird\n",
    "\n",
    "Input Format: Enter a number.\n",
    "    \n",
    "Output Format: Print Weird or not.\n",
    "    \n",
    "# Example 1:\n",
    "Sample Input: 3\n",
    "Sample Output: Weird\n",
    "\n",
    "# Example 2:\n",
    "Sample Input: 24\n",
    "Sample Output: Not Weird"
   ]
  },
  {
   "cell_type": "code",
   "execution_count": 10,
   "metadata": {},
   "outputs": [
    {
     "name": "stdout",
     "output_type": "stream",
     "text": [
      "Enter number : 24\n",
      "Weird\n"
     ]
    }
   ],
   "source": [
    "N = int(input('Enter number : '))\n",
    "if N % 2 != 0:\n",
    "    print('Weird')\n",
    "elif N % 2 == 0 and 2<=N<5:\n",
    "    print('Not Weird')\n",
    "elif N % 2 == 0 and 6<=N<20:\n",
    "    print('Werid')\n",
    "elif N % 2 == 0 and N>=20:\n",
    "    print('Weird')\n",
    "else:\n",
    "    print('Invalid Input')"
   ]
  },
  {
   "cell_type": "code",
   "execution_count": null,
   "metadata": {
    "slideshow": {
     "slide_type": "slide"
    }
   },
   "outputs": [],
   "source": [
    "Ques : Write a program to input marks of five subjects Physics, Chemistry, Biology, Mathematics and Computer. \n",
    "    Calculate percentage and grade according to following:\n",
    "    Percentage >= 90% : Grade A\n",
    "    Percentage >= 80% : Grade B\n",
    "    Percentage >= 70% : Grade C\n",
    "    Percentage >= 60% : Grade D\n",
    "    Percentage >= 40% : Grade E\n",
    "    Percentage < 40% : Grade F\n",
    "        \n",
    "Input Format: \n",
    "    - Enter five Subject marks one by one. # e.g --> English: 88 ...\n",
    "    \n",
    "Output Format:\n",
    "    - Calculate the sum and Percentage.\n",
    "    - print the grade according to the Percentage.\n",
    "\n",
    "\n",
    "Example :\n",
    "    Total Marks : 457 \n",
    "    Percentage : 91.4 % \n",
    "    Grade : A"
   ]
  },
  {
   "cell_type": "code",
   "execution_count": 15,
   "metadata": {},
   "outputs": [
    {
     "name": "stdout",
     "output_type": "stream",
     "text": [
      "Enter Your Name : Deepratan Kushwaha\n",
      "Enter marks for physics78\n",
      "Enter marks for chemistry76\n",
      "Enter marks for biology65\n",
      "Enter marks for math81\n",
      "Enter marks for computer79\n",
      "DEEPRATAN KUSHWAHA got 379 marks\n",
      "Percentage : 75.8\n",
      "Grade C\n"
     ]
    }
   ],
   "source": [
    "student_name = input('Enter Your Name : ').strip().upper()\n",
    "phy = int(input('Enter marks for physics'))\n",
    "chem = int(input('Enter marks for chemistry'))\n",
    "bio = int(input('Enter marks for biology'))\n",
    "math = int(input('Enter marks for math'))\n",
    "comp = int(input('Enter marks for computer'))\n",
    "\n",
    "total_marks = 500\n",
    "obtained_marks = phy+chem+bio+math+comp\n",
    "percentage = (obtained_marks/total_marks)*100\n",
    "print(f'{student_name} got {obtained_marks} marks')\n",
    "print(f'Percentage : {percentage}')\n",
    "\n",
    "if percentage >= 90:\n",
    "    print('Grade A')\n",
    "elif percentage >= 80:\n",
    "    print('Grade B')\n",
    "elif percentage >= 70:\n",
    "    print('Grade C')\n",
    "elif percentge >= 60:\n",
    "    print('Grade D')\n",
    "elif percentage >= 40:\n",
    "    print('Grade E')\n",
    "elif percentage < 40:\n",
    "    print('Grade F')\n",
    "else:\n",
    "    print('invalid')\n"
   ]
  },
  {
   "cell_type": "code",
   "execution_count": null,
   "metadata": {
    "slideshow": {
     "slide_type": "slide"
    }
   },
   "outputs": [],
   "source": [
    "Ques: Write a program to input basic salary of an employee and calculate its Gross salary according to following:\n",
    "    Basic Salary <= 10000 : HRA = 20%, DA = 80%\n",
    "    Basic Salary <= 20000 : HRA = 25%, DA = 90%\n",
    "    Basic Salary > 20000 : HRA = 30%, DA = 95%\n",
    "        \n",
    "Input Format: Enter the Salary amount.\n",
    "    \n",
    "Output Format: print the Gross salary using the following conditions.\n",
    "\n",
    "Example\n",
    "    Input Format : Basic salary of an employee: 22000\n",
    "    Output : Gross salary = 44000"
   ]
  },
  {
   "cell_type": "code",
   "execution_count": null,
   "metadata": {},
   "outputs": [],
   "source": [
    "salary = int(input('Enter salary : ').strip())\n",
    "if salary <= 10000:\n",
    "    HRA = (salary*20)/100 \n",
    "    DA = (salary*80)/100\n",
    "    gross_salary = salary + HRA + DA\n",
    "    print('Gross salary is', gross_salary)\n",
    "elif salary <= 20000:\n",
    "    HRA = (salary*25)/100 \n",
    "    DA = (salary*90)/100\n",
    "    gross_salary = salary + HRA + DA\n",
    "    print('Gross salary is', gross_salary)\n",
    "elif salary > 20000:\n",
    "    HRA = (salary*30)/100 \n",
    "    DA = (salary*95)/100\n",
    "    gross_salary = salary + HRA + DA\n",
    "    print('Gross salary is', gross_salary)\n"
   ]
  },
  {
   "cell_type": "code",
   "execution_count": null,
   "metadata": {
    "slideshow": {
     "slide_type": "slide"
    }
   },
   "outputs": [],
   "source": [
    "Ques: Write a program to input electricity unit charges and calculate total electricity bill according to the given condition:\n",
    "    For first 50 units Rs. 0.50/unit\n",
    "    For next 100 units Rs. 0.75/unit\n",
    "    For next 100 units Rs. 1.20/unit\n",
    "    For unit above 250 Rs. 1.50/unit\n",
    "    An additional surcharge of 20% is added to the bill\n",
    "    \n",
    "Input Format: Enter the total electricity units consumed \n",
    "    \n",
    "Output Format: print the Total Electricity Bill amount using the following conditions.\n",
    "\n",
    "Example:\n",
    "    Enter total units consumed: 150\n",
    "    Electricity Bill = Rs. 120.00"
   ]
  },
  {
   "cell_type": "code",
   "execution_count": 14,
   "metadata": {},
   "outputs": [
    {
     "name": "stdout",
     "output_type": "stream",
     "text": [
      "Enter units : 10\n",
      "Electricity Bill is :  6.0\n"
     ]
    }
   ],
   "source": [
    "units = int(input('Enter units : '))\n",
    "unit_charges = 0\n",
    "if 0 < units <= 50:\n",
    "    unit_charges = units * 0.50\n",
    "elif 50 < units <= 150:\n",
    "    unit_charges = (units - 50) * 0.75 + 25\n",
    "elif 150 < units <= 250:\n",
    "    unit_charges = (units - 150) * 1.20 + 100\n",
    "elif units > 250:\n",
    "    unit_charges = (units - 250) * 1.50 + 220\n",
    "\n",
    "additional_surcharge = (unit_charges * 20) / 100\n",
    "electricity_bill = unit_charges + additional_surcharge\n",
    "print('Electricity Bill is : ', electricity_bill )"
   ]
  },
  {
   "cell_type": "code",
   "execution_count": null,
   "metadata": {},
   "outputs": [],
   "source": []
  }
 ],
 "metadata": {
  "celltoolbar": "Slideshow",
  "kernelspec": {
   "display_name": "Python 3",
   "language": "python",
   "name": "python3"
  },
  "language_info": {
   "codemirror_mode": {
    "name": "ipython",
    "version": 3
   },
   "file_extension": ".py",
   "mimetype": "text/x-python",
   "name": "python",
   "nbconvert_exporter": "python",
   "pygments_lexer": "ipython3",
   "version": "3.7.9"
  }
 },
 "nbformat": 4,
 "nbformat_minor": 4
}
