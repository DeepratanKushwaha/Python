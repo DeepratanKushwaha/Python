{
 "cells": [
  {
   "cell_type": "markdown",
   "metadata": {
    "slideshow": {
     "slide_type": "slide"
    }
   },
   "source": [
    "# While Loop in Python"
   ]
  },
  {
   "cell_type": "markdown",
   "metadata": {
    "slideshow": {
     "slide_type": "fragment"
    }
   },
   "source": [
    "- While Loops is used to execute a block of statements repeatedly until a given condition is satisfied. "
   ]
  },
  {
   "cell_type": "markdown",
   "metadata": {
    "slideshow": {
     "slide_type": "fragment"
    }
   },
   "source": [
    "- when the condition becomes false, the line immediately after the loop in the program is executed. "
   ]
  },
  {
   "cell_type": "markdown",
   "metadata": {
    "slideshow": {
     "slide_type": "fragment"
    }
   },
   "source": [
    "- While loop falls under the category of indefinite iteration."
   ]
  },
  {
   "cell_type": "markdown",
   "metadata": {
    "slideshow": {
     "slide_type": "fragment"
    }
   },
   "source": [
    "- Indefinite iteration means that the number of times the loop is executed isn’t specified explicitly in advance."
   ]
  },
  {
   "cell_type": "code",
   "execution_count": 1,
   "metadata": {
    "slideshow": {
     "slide_type": "slide"
    }
   },
   "outputs": [
    {
     "name": "stdout",
     "output_type": "stream",
     "text": [
      "1\n",
      "2\n",
      "3\n",
      "4\n",
      "5\n"
     ]
    }
   ],
   "source": [
    "# Example\n",
    "# Python program to illustrate while loop, print 1 to 5 number.\n",
    "count = 0\n",
    "while (count < 5):\n",
    "    count = count + 1 \n",
    "    print(count) "
   ]
  },
  {
   "cell_type": "markdown",
   "metadata": {
    "slideshow": {
     "slide_type": "fragment"
    }
   },
   "source": [
    "<!-- https://drive.google.com/file/d/1R8IDW1PeHV1eh9XQ6gvOD9rpDAvhAUYp/view?usp=sharing -->\n",
    "<!-- ![image](https://drive.google.com/uc?export=view&id=1R8IDW1PeHV1eh9XQ6gvOD9rpDAvhAUYp \"While\") -->\n",
    "<img src='https://drive.google.com/uc?id=1R8IDW1PeHV1eh9XQ6gvOD9rpDAvhAUYp' height=400px width=500px> "
   ]
  },
  {
   "cell_type": "markdown",
   "metadata": {
    "slideshow": {
     "slide_type": "slide"
    }
   },
   "source": [
    "## Single statement while block"
   ]
  },
  {
   "cell_type": "markdown",
   "metadata": {
    "slideshow": {
     "slide_type": "fragment"
    }
   },
   "source": [
    "- Just like the if block, if the while block consists of a single statement the we can declare the entire loop in a single line."
   ]
  },
  {
   "cell_type": "markdown",
   "metadata": {
    "slideshow": {
     "slide_type": "fragment"
    }
   },
   "source": [
    "- If there are multiple statements in the block that makes up the loop body, they can be separated by semicolons (;)."
   ]
  },
  {
   "cell_type": "code",
   "execution_count": 5,
   "metadata": {
    "slideshow": {
     "slide_type": "slide"
    }
   },
   "outputs": [
    {
     "name": "stdout",
     "output_type": "stream",
     "text": [
      "Hello, world\n",
      "Hello, world\n",
      "Hello, world\n",
      "Hello, world\n",
      "Hello, world\n"
     ]
    }
   ],
   "source": [
    "# Python program to illustrate Single statement while block, Print 5 times Hello, world using While loop. \n",
    "count = 0\n",
    "while (count < 5): count += 1; print(\"Hello, world\") "
   ]
  },
  {
   "cell_type": "markdown",
   "metadata": {
    "slideshow": {
     "slide_type": "slide"
    }
   },
   "source": [
    "## Loop Control Statements"
   ]
  },
  {
   "cell_type": "markdown",
   "metadata": {
    "slideshow": {
     "slide_type": "fragment"
    }
   },
   "source": [
    "Python supports the following control statements."
   ]
  },
  {
   "cell_type": "markdown",
   "metadata": {
    "slideshow": {
     "slide_type": "fragment"
    }
   },
   "source": [
    "### Continue Statement: "
   ]
  },
  {
   "cell_type": "markdown",
   "metadata": {
    "slideshow": {
     "slide_type": "fragment"
    }
   },
   "source": [
    "- It returns the control to the beginning of the loop."
   ]
  },
  {
   "cell_type": "markdown",
   "metadata": {
    "slideshow": {
     "slide_type": "slide"
    }
   },
   "source": [
    "#### Example\n",
    "#### Write a program using while loop prints all letters except 'e', 's', ' ', ',' and 'l'."
   ]
  },
  {
   "cell_type": "code",
   "execution_count": 11,
   "metadata": {
    "slideshow": {
     "slide_type": "fragment"
    }
   },
   "outputs": [
    {
     "name": "stdout",
     "output_type": "stream",
     "text": [
      "Current Letter : H\n",
      "Current Letter : o\n",
      "Current Letter : G\n",
      "Current Letter : k\n",
      "Current Letter : W\n",
      "Current Letter : c\n",
      "Current Letter : o\n",
      "Current Letter : m\n",
      "Current Letter : t\n",
      "Current Letter : o\n",
      "Current Letter : G\n",
      "Current Letter : r\n",
      "Current Letter : r\n",
      "Current Letter : a\n"
     ]
    }
   ],
   "source": [
    "i = 0\n",
    "string = 'Hello,Geeks Welcome to Grras'\n",
    "\n",
    "while i < len(string): \n",
    "    if string[i] == 'e' or string[i] == 's' or string[i] == ' ' or string[i] == ',' or string[i] == 'l': \n",
    "        i += 1\n",
    "        continue\n",
    "    print('Current Letter :', string[i]) \n",
    "    i += 1\n"
   ]
  },
  {
   "cell_type": "markdown",
   "metadata": {
    "slideshow": {
     "slide_type": "slide"
    }
   },
   "source": [
    "### Pass Statement: "
   ]
  },
  {
   "cell_type": "markdown",
   "metadata": {
    "slideshow": {
     "slide_type": "fragment"
    }
   },
   "source": [
    "- We use pass statement to write empty loops. Pass is also used for empty control statements, functions and classes."
   ]
  },
  {
   "cell_type": "markdown",
   "metadata": {},
   "source": [
    "#### Example\n",
    "#### Write a program to check how many latters in the string using while loop."
   ]
  },
  {
   "cell_type": "code",
   "execution_count": 4,
   "metadata": {
    "slideshow": {
     "slide_type": "fragment"
    }
   },
   "outputs": [
    {
     "name": "stdout",
     "output_type": "stream",
     "text": [
      "Value of i : 28\n"
     ]
    }
   ],
   "source": [
    "string = 'Hello,Geeks Welcome to Grras'\n",
    "i = 0\n",
    "\n",
    "while i < len(string): \n",
    "    i += 1\n",
    "    pass\n",
    "print('Value of i :', i) \n"
   ]
  },
  {
   "cell_type": "markdown",
   "metadata": {
    "slideshow": {
     "slide_type": "slide"
    }
   },
   "source": [
    "## while-else loop"
   ]
  },
  {
   "cell_type": "markdown",
   "metadata": {
    "slideshow": {
     "slide_type": "fragment"
    }
   },
   "source": [
    "- While loop executes the block until a condition is satisfied. When the condition becomes false, the statement immediately after the loop is executed.\n",
    "- The else clause is only executed when your while condition becomes false. If you break out of the loop, or if an exception is raised, it won’t be executed."
   ]
  },
  {
   "cell_type": "markdown",
   "metadata": {
    "slideshow": {
     "slide_type": "fragment"
    }
   },
   "source": [
    "**The else block just after for/while is executed only when the loop is NOT terminated by a break statement.**"
   ]
  },
  {
   "cell_type": "markdown",
   "metadata": {},
   "source": [
    "#### Example\n",
    "#### Python program to demonstrate while-else loop, Using this loop check how the break and else statement work."
   ]
  },
  {
   "cell_type": "code",
   "execution_count": 15,
   "metadata": {
    "slideshow": {
     "slide_type": "slide"
    }
   },
   "outputs": [
    {
     "name": "stdout",
     "output_type": "stream",
     "text": [
      "1\n",
      "2\n",
      "3\n",
      "4\n",
      "No Break\n",
      "\n",
      "1\n"
     ]
    }
   ],
   "source": [
    "num = 0\n",
    "while num < 4: \n",
    "    num += 1\n",
    "    print(num) \n",
    "else: # Executed because no break in for \n",
    "    print(\"No Break\\n\") \n",
    "\n",
    "num = 0\n",
    "while num < 4: \n",
    "    num += 1\n",
    "    print(num) \n",
    "    break\n",
    "else: # Not executed as there is a break \n",
    "    print(\"No Break\") \n"
   ]
  },
  {
   "cell_type": "code",
   "execution_count": null,
   "metadata": {
    "slideshow": {
     "slide_type": "slide"
    }
   },
   "outputs": [],
   "source": [
    "# Do It Yourself\n",
    "Ques: You have given a non-negative number between 0 to 30. Your task is to print integers cube till the number.\n",
    "    For all non-negative integers i<n.\n",
    "    \n",
    "Input Format:\n",
    "    - The first and only line contains the integer N.\n",
    "\n",
    "Output Format:\n",
    "    - Print N lines, one corresponding to each i.\n",
    "    \n",
    "Example: \n",
    "    Input : N=5 #The list of non-negative integers that are less than n==3 is [0,1,2]. Print the square of each number on a separate line.\n",
    "    Output :    0\n",
    "                1\n",
    "                4\n",
    "                9\n",
    "                16"
   ]
  },
  {
   "cell_type": "code",
   "execution_count": 3,
   "metadata": {},
   "outputs": [
    {
     "name": "stdout",
     "output_type": "stream",
     "text": [
      "0 1 8 27 64 125 216 343 512 729 1000 1331 1728 2197 2744 3375 4096 4913 5832 6859 8000 9261 10648 12167 13824 15625 17576 19683 21952 24389 27000 "
     ]
    }
   ],
   "source": [
    "i = 0\n",
    "n = 30\n",
    "while i <= n:\n",
    "    print(i*i*i, end=' ')\n",
    "    i += 1"
   ]
  },
  {
   "cell_type": "code",
   "execution_count": null,
   "metadata": {
    "slideshow": {
     "slide_type": "slide"
    }
   },
   "outputs": [],
   "source": [
    "Ques: Write a Python program to count frequency of digits in a given number. How to find frequency of digits in a given \n",
    "    number using loop in Pyhton programming. \n",
    "\n",
    "# hint: Use dictionary\n",
    "    \n",
    "Input Format:    \n",
    "    - Enter a Number ## length > 6\n",
    "\n",
    "Output Format:\n",
    "    - Print the frequency of each digit.\n",
    "    \n",
    "Example : \n",
    "    Input number: 116540\n",
    "    \n",
    "    Output :     \n",
    "    Frequency of 0 = 1 \n",
    "    Frequency of 1 = 2 \n",
    "    Frequency of 2 = 0 \n",
    "    Frequency of 3 = 0 \n",
    "    Frequency of 4 = 1 \n",
    "    Frequency of 5 = 1 \n",
    "    Frequency of 6 = 1 \n",
    "    Frequency of 7 = 0 \n",
    "    Frequency of 8 = 0 \n",
    "    Frequency of 9 = 0    "
   ]
  },
  {
   "cell_type": "code",
   "execution_count": 5,
   "metadata": {},
   "outputs": [
    {
     "name": "stdout",
     "output_type": "stream",
     "text": [
      "11223344556677889900\n",
      "Frequency of 0 = 2\n",
      "Frequency of 1 = 2\n",
      "Frequency of 2 = 2\n",
      "Frequency of 3 = 2\n",
      "Frequency of 4 = 2\n",
      "Frequency of 5 = 2\n",
      "Frequency of 6 = 2\n",
      "Frequency of 7 = 2\n",
      "Frequency of 8 = 2\n",
      "Frequency of 9 = 2\n"
     ]
    }
   ],
   "source": [
    "#using for loop\n",
    "num = int(input())\n",
    "count = {0:0, 1:0, 2:0, 3:0, 4:0, 5:0, 6:0, 7:0, 8:0, 9:0}\n",
    "for i in str(num):\n",
    "    count[int(i)] += 1\n",
    "for i in count.keys():\n",
    "    print(f'Frequency of {i} = {count[i]}')"
   ]
  },
  {
   "cell_type": "code",
   "execution_count": 3,
   "metadata": {},
   "outputs": [
    {
     "name": "stdout",
     "output_type": "stream",
     "text": [
      "343434343434343434343\n",
      "frequency of 0 = 0\n",
      "frequency of 1 = 0\n",
      "frequency of 2 = 0\n",
      "frequency of 3 = 11\n",
      "frequency of 4 = 10\n",
      "frequency of 5 = 0\n",
      "frequency of 6 = 0\n",
      "frequency of 7 = 0\n",
      "frequency of 8 = 0\n",
      "frequency of 9 = 0\n"
     ]
    }
   ],
   "source": [
    "# using while loop\n",
    "num = int(input())\n",
    "count = {0:0, 1:0, 2:0, 3:0, 4:0, 5:0, 6:0, 7:0, 8:0, 9:0}\n",
    "while num > 0:\n",
    "    r = num % 10\n",
    "    count[r] += 1\n",
    "    num = num // 10\n",
    "    \n",
    "for key in count:\n",
    "    print(f'frequency of {key} = {count[key]}')"
   ]
  },
  {
   "cell_type": "code",
   "execution_count": null,
   "metadata": {
    "slideshow": {
     "slide_type": "slide"
    }
   },
   "outputs": [],
   "source": [
    "Ques: Write a program to print all Prime numbers between 1 to N using loop. How to print all prime numbers between given \n",
    "    interval using loop in python program. \n",
    "\n",
    "Input Format:    \n",
    "    - Enter the lower limit\n",
    "    - Enter the higher limit\n",
    "\n",
    "Output Format:\n",
    "    - print the all prime number between range.\n",
    "    \n",
    "Example:\n",
    "Input\n",
    "    Input lower limit: 1\n",
    "    Input upper limit: 20\n",
    "\n",
    "Output\n",
    "    Prime numbers between 1-20: 2, 3, 5, 7, 13, 17, 19"
   ]
  },
  {
   "cell_type": "code",
   "execution_count": null,
   "metadata": {},
   "outputs": [],
   "source": [
    "lower = int(input('Enter lower limit : '))\n",
    "higher = int(input('Enter higher limit : '))\n",
    "\n",
    "num = 2\n",
    "\n",
    "while lower <= higher:\n",
    "    while num < lower:\n",
    "        if lower % num == 0:\n",
    "            num += 1\n",
    "            break\n",
    "    else:\n",
    "        print(lower)\n",
    "    lower += 1\n",
    "\n",
    "    "
   ]
  },
  {
   "cell_type": "code",
   "execution_count": null,
   "metadata": {
    "slideshow": {
     "slide_type": "slide"
    }
   },
   "outputs": [],
   "source": [
    "Ques: Write a program to input a number from user and check whether given number is Armstrong number or not. \n",
    "    How to check Armstrong numbers in python program. Logic to check Armstrong numbers in C programming.\n",
    "\n",
    "Input Format:    \n",
    "    - Enter a number\n",
    "\n",
    "Output Format:\n",
    "    - Print the number is armstrong number or not.\n",
    "\n",
    "Example:\n",
    "Input\n",
    " - Input number: 371\n",
    "\n",
    "Output\n",
    " - 371 is armstrong number"
   ]
  },
  {
   "cell_type": "code",
   "execution_count": 6,
   "metadata": {},
   "outputs": [
    {
     "name": "stdout",
     "output_type": "stream",
     "text": [
      "153\n",
      "153 is an armstrong number\n"
     ]
    }
   ],
   "source": [
    "n = int(input())\n",
    "sum = 0\n",
    "order = len(str(n))\n",
    "number = n\n",
    "\n",
    "while n > 0:\n",
    "    digit = n % 10\n",
    "    sum += digit ** order\n",
    "    n = n // 10\n",
    "    \n",
    "if sum == number:\n",
    "    print(f'{number} is an armstrong number')\n",
    "else:\n",
    "    print(f'{number} is not an armstrong number')\n"
   ]
  },
  {
   "cell_type": "code",
   "execution_count": null,
   "metadata": {},
   "outputs": [],
   "source": []
  }
 ],
 "metadata": {
  "celltoolbar": "Slideshow",
  "kernelspec": {
   "display_name": "Python 3",
   "language": "python",
   "name": "python3"
  },
  "language_info": {
   "codemirror_mode": {
    "name": "ipython",
    "version": 3
   },
   "file_extension": ".py",
   "mimetype": "text/x-python",
   "name": "python",
   "nbconvert_exporter": "python",
   "pygments_lexer": "ipython3",
   "version": "3.7.9"
  }
 },
 "nbformat": 4,
 "nbformat_minor": 4
}
