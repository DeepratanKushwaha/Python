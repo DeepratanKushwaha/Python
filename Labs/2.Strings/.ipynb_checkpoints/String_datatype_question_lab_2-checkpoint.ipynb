{
 "cells": [
  {
   "cell_type": "markdown",
   "metadata": {
    "slideshow": {
     "slide_type": "slide"
    }
   },
   "source": [
    "## Sequence Type of DataType"
   ]
  },
  {
   "cell_type": "markdown",
   "metadata": {
    "slideshow": {
     "slide_type": "fragment"
    }
   },
   "source": [
    "- In Python, sequence is the ordered collection of similar or different data types.\n",
    "- Sequences allows to store multiple values in an organized and efficient fashion.\n",
    "- There are several sequence types in Python\n",
    "    - String \n",
    "    - List\n",
    "    - Tuple"
   ]
  },
  {
   "cell_type": "markdown",
   "metadata": {
    "slideshow": {
     "slide_type": "slide"
    }
   },
   "source": [
    "## String DataType"
   ]
  },
  {
   "cell_type": "markdown",
   "metadata": {
    "slideshow": {
     "slide_type": "fragment"
    }
   },
   "source": [
    "- In Python, Strings are arrays of bytes representing Unicode characters.\n",
    "- A string is a collection of one or more characters put in a single quote, double-quote or triple quote. \n",
    "- In python there is no character data type, a character is a string of length one. It is represented by str class."
   ]
  },
  {
   "cell_type": "markdown",
   "metadata": {
    "slideshow": {
     "slide_type": "slide"
    }
   },
   "source": [
    "## Examples: "
   ]
  },
  {
   "cell_type": "code",
   "execution_count": 10,
   "metadata": {
    "slideshow": {
     "slide_type": "fragment"
    }
   },
   "outputs": [
    {
     "name": "stdout",
     "output_type": "stream",
     "text": [
      "String with the use of Single Quotes: \n",
      "Welcome to the Grass. \n",
      "Class : <class 'str'>\n"
     ]
    }
   ],
   "source": [
    "String1 = 'Welcome to the Grras.'\n",
    "print(\"String with the use of Single Quotes: \")\n",
    "print(String1,'\\nClass :',type(String1)) "
   ]
  },
  {
   "cell_type": "code",
   "execution_count": 19,
   "metadata": {
    "slideshow": {
     "slide_type": "slide"
    }
   },
   "outputs": [
    {
     "name": "stdout",
     "output_type": "stream",
     "text": [
      "All the method in String :  ['__repr__', '__hash__', '__str__', '__getattribute__', '__lt__', '__le__', '__eq__', '__ne__', '__gt__', '__ge__', '__iter__', '__mod__', '__rmod__', '__len__', '__getitem__', '__add__', '__mul__', '__rmul__', '__contains__', '__new__', 'encode', 'replace', 'split', 'rsplit', 'join', 'capitalize', 'casefold', 'title', 'center', 'count', 'expandtabs', 'find', 'partition', 'index', 'ljust', 'lower', 'lstrip', 'rfind', 'rindex', 'rjust', 'rstrip', 'rpartition', 'splitlines', 'strip', 'swapcase', 'translate', 'upper', 'startswith', 'endswith', 'isascii', 'islower', 'isupper', 'istitle', 'isspace', 'isdecimal', 'isdigit', 'isnumeric', 'isalpha', 'isalnum', 'isidentifier', 'isprintable', 'zfill', 'format', 'format_map', '__format__', 'maketrans', '__sizeof__', '__getnewargs__', '__doc__', '__setattr__', '__delattr__', '__init__', '__reduce_ex__', '__reduce__', '__subclasshook__', '__init_subclass__', '__dir__', '__class__']\n"
     ]
    }
   ],
   "source": [
    "print('All the method in String : ',String1.__dir__())"
   ]
  },
  {
   "cell_type": "markdown",
   "metadata": {
    "slideshow": {
     "slide_type": "slide"
    }
   },
   "source": [
    "## Two Important Method in String "
   ]
  },
  {
   "cell_type": "markdown",
   "metadata": {
    "slideshow": {
     "slide_type": "fragment"
    }
   },
   "source": [
    "- Split method\n",
    "- join method"
   ]
  },
  {
   "cell_type": "markdown",
   "metadata": {
    "slideshow": {
     "slide_type": "slide"
    }
   },
   "source": [
    "### 1. Split Method"
   ]
  },
  {
   "cell_type": "markdown",
   "metadata": {
    "slideshow": {
     "slide_type": "fragment"
    }
   },
   "source": [
    "* The **split()** method splits a string into a list.\n",
    "* You can specify the separator, default separator is whitespace."
   ]
  },
  {
   "cell_type": "code",
   "execution_count": 6,
   "metadata": {
    "slideshow": {
     "slide_type": "fragment"
    }
   },
   "outputs": [
    {
     "name": "stdout",
     "output_type": "stream",
     "text": [
      "['hello', 'my name is Peter', 'I am 26 years old']\n"
     ]
    }
   ],
   "source": [
    "# Example\n",
    "txt = \"hello, my name is Peter, I am 26 years old\"\n",
    "x = txt.split(\", \") ## Syntex : string.split(sep, maxsplit)\n",
    "print(x)"
   ]
  },
  {
   "cell_type": "markdown",
   "metadata": {
    "slideshow": {
     "slide_type": "slide"
    }
   },
   "source": [
    "### 2. Join Method"
   ]
  },
  {
   "cell_type": "markdown",
   "metadata": {
    "slideshow": {
     "slide_type": "fragment"
    }
   },
   "source": [
    "* The join() method takes all items in an iterable and joins them into one string.\n",
    "* A string must be specified as the separator."
   ]
  },
  {
   "cell_type": "code",
   "execution_count": 12,
   "metadata": {
    "slideshow": {
     "slide_type": "fragment"
    }
   },
   "outputs": [
    {
     "name": "stdout",
     "output_type": "stream",
     "text": [
      "We are study in Grass.\n"
     ]
    }
   ],
   "source": [
    "# Example\n",
    "myList = [\"We\",'are',\"\"\"study in Grass.\"\"\"]\n",
    "x = ' '.join(myList)  # Syntex  : string.join(iterable)\n",
    "\n",
    "print(x)"
   ]
  },
  {
   "cell_type": "markdown",
   "metadata": {
    "slideshow": {
     "slide_type": "slide"
    }
   },
   "source": [
    "### String Related Questions"
   ]
  },
  {
   "cell_type": "code",
   "execution_count": 1,
   "metadata": {},
   "outputs": [
    {
     "name": "stdout",
     "output_type": "stream",
     "text": [
      "eneicS\n"
     ]
    }
   ],
   "source": [
    "# Ques 1: write the output of the following code.\n",
    "string = 'DataSciene'\n",
    "print(string[-1:-7:-1])"
   ]
  },
  {
   "cell_type": "code",
   "execution_count": 3,
   "metadata": {},
   "outputs": [
    {
     "name": "stdout",
     "output_type": "stream",
     "text": [
      "hOWaREyOU123\n"
     ]
    }
   ],
   "source": [
    "# Ques 2: Write a code to print.\n",
    "string = 'HowAreYou123'\n",
    "# output : 'hOWaREyOU123'\n",
    "    \n",
    "print(string.swapcase())   ## try other method to slove lab questions."
   ]
  },
  {
   "cell_type": "code",
   "execution_count": 4,
   "metadata": {},
   "outputs": [
    {
     "name": "stdout",
     "output_type": "stream",
     "text": [
      "['python', 'java', 'c++', 'c']\n"
     ]
    }
   ],
   "source": [
    "# Ques 3: Write a code.\n",
    "word = 'python:java:c++:c'\n",
    "# output : ['python', 'java','c++','c'] \n",
    "print(word.split(':'))"
   ]
  },
  {
   "cell_type": "code",
   "execution_count": null,
   "metadata": {
    "slideshow": {
     "slide_type": "fragment"
    }
   },
   "outputs": [],
   "source": [
    "## Do it your self.\n",
    "Ques 4: Define DataType? How many type of datatype in python."
   ]
  },
  {
   "cell_type": "code",
   "execution_count": 18,
   "metadata": {
    "slideshow": {
     "slide_type": "fragment"
    }
   },
   "outputs": [
    {
     "name": "stdout",
     "output_type": "stream",
     "text": [
      "\n"
     ]
    }
   ],
   "source": [
    "#Ques 5: write the output of the following code.\n",
    "string = 'DataSciene'\n",
    "print(string[-1:-5])\n",
    "\n",
    "#Answer is : Empty string or None"
   ]
  },
  {
   "cell_type": "code",
   "execution_count": null,
   "metadata": {
    "slideshow": {
     "slide_type": "fragment"
    }
   },
   "outputs": [],
   "source": [
    "Ques 6: Write a code to print.\n",
    "string = 'DataScience'\n",
    "output : 'DtSin'"
   ]
  },
  {
   "cell_type": "code",
   "execution_count": 27,
   "metadata": {},
   "outputs": [
    {
     "name": "stdout",
     "output_type": "stream",
     "text": [
      "DtSin\n"
     ]
    }
   ],
   "source": [
    "# Answer 6 : \n",
    "string = 'DataScience'\n",
    "s1 = string[0],string[2],string[4],string[6],string[8]\n",
    "print(''.join(s1))"
   ]
  },
  {
   "cell_type": "code",
   "execution_count": null,
   "metadata": {
    "slideshow": {
     "slide_type": "slide"
    }
   },
   "outputs": [],
   "source": [
    "Ques 7: Write a code to print.\n",
    "string  = '    Talk Is Cheap! Show me the code.      '\n",
    "output1 : '    TALK IS CHEAP! SHOW ME THE CODE.      '\n",
    "output2 : '    Talk Is Cheap! Show Me The Code.      '\n",
    "output3 : '    TALK IS CHEAP! SHOW ME THE CODE.      '\n",
    "output4 : '    Talk Is Cheap! Show me the code.'\n",
    "output5 : 'Talk Is Cheap! Show me the code.      '\n",
    "output6 : 'Talk Is Cheap! Show me the code.'\n",
    "output7 : '    TALK IS CHEAP! SHOW ME THE CODE.      '\n",
    "output8 : '***************************    Talking Is Cheap! Show me the code.      ****************************'"
   ]
  },
  {
   "cell_type": "code",
   "execution_count": 12,
   "metadata": {},
   "outputs": [
    {
     "name": "stdout",
     "output_type": "stream",
     "text": [
      "output1 :      TALK IS CHEAP! SHOW ME THE CODE.      \n",
      "output2 :      Talk Is Cheap! Show Me The Code.      \n",
      "output3 :      TALK IS CHEAP! SHOW ME THE CODE.      \n",
      "output4 :      Talk Is Cheap! Show me the code.\n",
      "output5 :  Talk Is Cheap! Show me the code.      \n",
      "output6 :  Talk Is Cheap! Show me the code.\n",
      "output7 :      TALK IS CHEAP! SHOW ME THE CODE.      \n",
      "output8 :  *****************************    Talk Is Cheap! Show me the code.      *****************************\n"
     ]
    }
   ],
   "source": [
    "# Answer 7:\n",
    "string  = '    Talk Is Cheap! Show me the code.      '\n",
    "s1 = string.upper()\n",
    "print('output1 : ', s1)\n",
    "s2 = string.title()\n",
    "print('output2 : ', s2)\n",
    "s3 = string.upper()\n",
    "print('output3 : ', s3)\n",
    "s4 = string.rstrip()\n",
    "print('output4 : ', s4)\n",
    "s5 = string.lstrip()\n",
    "print('output5 : ', s5)\n",
    "s6 = string.strip()\n",
    "print('output6 : ', s6)\n",
    "s7 = string.upper()\n",
    "print('output7 : ', s7)\n",
    "s8 = string.center(100, '*')\n",
    "print('output8 : ', s8)"
   ]
  },
  {
   "cell_type": "code",
   "execution_count": null,
   "metadata": {
    "slideshow": {
     "slide_type": "fragment"
    }
   },
   "outputs": [],
   "source": [
    "Ques 8: Write a code.\n",
    "word = 'Sunday;Monday;Tuesday;Wednesday'\n",
    "output : ['Sunday', 'Monday', 'Tuesday', 'Wednesday']"
   ]
  },
  {
   "cell_type": "code",
   "execution_count": 43,
   "metadata": {},
   "outputs": [
    {
     "name": "stdout",
     "output_type": "stream",
     "text": [
      "['Sunday', 'Monday', 'Tuesday', 'Wednesday']\n"
     ]
    }
   ],
   "source": [
    "# Answer 8:\n",
    "word = 'Sunday;Monday;Tuesday;Wednesday'\n",
    "print(word.split(';'))"
   ]
  },
  {
   "cell_type": "code",
   "execution_count": null,
   "metadata": {
    "slideshow": {
     "slide_type": "slide"
    }
   },
   "outputs": [],
   "source": [
    "Ques 9: Write a code.\n",
    "lst = ['Work','for','it.','more','then','you','hope','for','it.']\n",
    "output : 'Work**for**it.**more**then**you**hope**for**it.'"
   ]
  },
  {
   "cell_type": "code",
   "execution_count": 44,
   "metadata": {},
   "outputs": [
    {
     "name": "stdout",
     "output_type": "stream",
     "text": [
      "Work**for**it.**more**then**you**hope**for**it.\n"
     ]
    }
   ],
   "source": [
    "# Answer 9:\n",
    "lst = ['Work','for','it.','more','then','you','hope','for','it.']\n",
    "print('**'.join(lst))"
   ]
  },
  {
   "cell_type": "code",
   "execution_count": null,
   "metadata": {
    "slideshow": {
     "slide_type": "fragment"
    }
   },
   "outputs": [],
   "source": [
    "Ques 10: Find the index{'y', rightindex->'e', rightindex->'f'}.  \n",
    "string = \"Work for it. more then you hope for it.\""
   ]
  },
  {
   "cell_type": "code",
   "execution_count": 16,
   "metadata": {},
   "outputs": [
    {
     "name": "stdout",
     "output_type": "stream",
     "text": [
      "23\n",
      "30\n",
      "32\n"
     ]
    }
   ],
   "source": [
    "# Answer 10:\n",
    "string = \"Work for it. more then you hope for it.\"\n",
    "print(string.index('y'))\n",
    "print(string.rindex('e'))\n",
    "print(string.rindex('f'))"
   ]
  }
 ],
 "metadata": {
  "celltoolbar": "Slideshow",
  "kernelspec": {
   "display_name": "Python 3",
   "language": "python",
   "name": "python3"
  },
  "language_info": {
   "codemirror_mode": {
    "name": "ipython",
    "version": 3
   },
   "file_extension": ".py",
   "mimetype": "text/x-python",
   "name": "python",
   "nbconvert_exporter": "python",
   "pygments_lexer": "ipython3",
   "version": "3.7.9"
  }
 },
 "nbformat": 4,
 "nbformat_minor": 2
}
