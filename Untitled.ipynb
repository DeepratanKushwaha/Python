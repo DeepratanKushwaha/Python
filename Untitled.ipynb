{
 "cells": [
  {
   "cell_type": "code",
   "execution_count": 6,
   "metadata": {},
   "outputs": [
    {
     "name": "stdout",
     "output_type": "stream",
     "text": [
      "cneicS at\n"
     ]
    }
   ],
   "source": [
    "str1 = 'Data Science'\n",
    "print(str1[-2:1:-1])"
   ]
  },
  {
   "cell_type": "code",
   "execution_count": 7,
   "metadata": {},
   "outputs": [
    {
     "name": "stdout",
     "output_type": "stream",
     "text": [
      "deep 885289196336\n"
     ]
    }
   ],
   "source": [
    "str1 = 'deep'\n",
    "print(str1, id(str1))"
   ]
  },
  {
   "cell_type": "code",
   "execution_count": 9,
   "metadata": {},
   "outputs": [
    {
     "name": "stdout",
     "output_type": "stream",
     "text": [
      "enter Your Number-5\n",
      "enter Your Number-7\n",
      "enter Your Number-8\n"
     ]
    }
   ],
   "source": [
    "num1=int(input('enter Your Number-'))\n",
    "num2=int(input('enter Your Number-'))\n",
    "num3=int(input('enter Your Number-'))\n",
    "if num1>num2 and num1>num3:\n",
    "    print('Num1 is Greatest')"
   ]
  },
  {
   "cell_type": "code",
   "execution_count": 10,
   "metadata": {},
   "outputs": [
    {
     "name": "stdout",
     "output_type": "stream",
     "text": [
      "Help on method_descriptor:\n",
      "\n",
      "strip(self, chars=None, /)\n",
      "    Return a copy of the string with leading and trailing whitespace removed.\n",
      "    \n",
      "    If chars is given and not None, remove characters in chars instead.\n",
      "\n"
     ]
    }
   ],
   "source": [
    "help(str.strip)"
   ]
  },
  {
   "cell_type": "code",
   "execution_count": 47,
   "metadata": {},
   "outputs": [
    {
     "name": "stdout",
     "output_type": "stream",
     "text": [
      "aman   \n"
     ]
    }
   ],
   "source": [
    "name = 'naman   '\n",
    "s1 = name.lstrip('n')\n",
    "print(s1)"
   ]
  },
  {
   "cell_type": "code",
   "execution_count": 20,
   "metadata": {},
   "outputs": [
    {
     "name": "stdout",
     "output_type": "stream",
     "text": [
      "Help on method_descriptor:\n",
      "\n",
      "rstrip(self, chars=None, /)\n",
      "    Return a copy of the string with trailing whitespace removed.\n",
      "    \n",
      "    If chars is given and not None, remove characters in chars instead.\n",
      "\n"
     ]
    }
   ],
   "source": [
    "help(str.rstrip)"
   ]
  },
  {
   "cell_type": "code",
   "execution_count": 21,
   "metadata": {},
   "outputs": [
    {
     "name": "stdout",
     "output_type": "stream",
     "text": [
      "Help on method_descriptor:\n",
      "\n",
      "lstrip(self, chars=None, /)\n",
      "    Return a copy of the string with leading whitespace removed.\n",
      "    \n",
      "    If chars is given and not None, remove characters in chars instead.\n",
      "\n"
     ]
    }
   ],
   "source": [
    "help(str.lstrip)"
   ]
  },
  {
   "cell_type": "code",
   "execution_count": 48,
   "metadata": {},
   "outputs": [
    {
     "name": "stdout",
     "output_type": "stream",
     "text": [
      "Help on method_descriptor:\n",
      "\n",
      "split(self, /, sep=None, maxsplit=-1)\n",
      "    Return a list of the words in the string, using sep as the delimiter string.\n",
      "    \n",
      "    sep\n",
      "      The delimiter according which to split the string.\n",
      "      None (the default value) means split according to any whitespace,\n",
      "      and discard empty strings from the result.\n",
      "    maxsplit\n",
      "      Maximum number of splits to do.\n",
      "      -1 (the default value) means no limit.\n",
      "\n"
     ]
    }
   ],
   "source": [
    "help(str.split)"
   ]
  },
  {
   "cell_type": "code",
   "execution_count": 49,
   "metadata": {},
   "outputs": [
    {
     "name": "stdout",
     "output_type": "stream",
     "text": [
      "Help on method_descriptor:\n",
      "\n",
      "lower(self, /)\n",
      "    Return a copy of the string converted to lowercase.\n",
      "\n"
     ]
    }
   ],
   "source": [
    "help(str.lower)"
   ]
  },
  {
   "cell_type": "code",
   "execution_count": 50,
   "metadata": {},
   "outputs": [
    {
     "name": "stdout",
     "output_type": "stream",
     "text": [
      "Help on method_descriptor:\n",
      "\n",
      "upper(self, /)\n",
      "    Return a copy of the string converted to uppercase.\n",
      "\n"
     ]
    }
   ],
   "source": [
    "help(str.upper)"
   ]
  },
  {
   "cell_type": "code",
   "execution_count": 51,
   "metadata": {},
   "outputs": [
    {
     "name": "stdout",
     "output_type": "stream",
     "text": [
      "Help on method_descriptor:\n",
      "\n",
      "join(self, iterable, /)\n",
      "    Concatenate any number of strings.\n",
      "    \n",
      "    The string whose method is called is inserted in between each given string.\n",
      "    The result is returned as a new string.\n",
      "    \n",
      "    Example: '.'.join(['ab', 'pq', 'rs']) -> 'ab.pq.rs'\n",
      "\n"
     ]
    }
   ],
   "source": [
    "help(str.join)"
   ]
  },
  {
   "cell_type": "code",
   "execution_count": 52,
   "metadata": {},
   "outputs": [
    {
     "name": "stdout",
     "output_type": "stream",
     "text": [
      "True\n"
     ]
    }
   ],
   "source": [
    "x = y = 10, 20\n",
    "res = x == y\n",
    "print(res)"
   ]
  },
  {
   "cell_type": "code",
   "execution_count": 53,
   "metadata": {},
   "outputs": [
    {
     "name": "stdout",
     "output_type": "stream",
     "text": [
      "Help on method_descriptor:\n",
      "\n",
      "center(self, width, fillchar=' ', /)\n",
      "    Return a centered string of length width.\n",
      "    \n",
      "    Padding is done using the specified fill character (default is a space).\n",
      "\n"
     ]
    }
   ],
   "source": [
    "help(str.center)"
   ]
  },
  {
   "cell_type": "code",
   "execution_count": 58,
   "metadata": {},
   "outputs": [
    {
     "name": "stdout",
     "output_type": "stream",
     "text": [
      "***2***\n"
     ]
    }
   ],
   "source": [
    "print('2'.center(7,'*'))"
   ]
  },
  {
   "cell_type": "code",
   "execution_count": 59,
   "metadata": {},
   "outputs": [
    {
     "name": "stdout",
     "output_type": "stream",
     "text": [
      "---121----\n"
     ]
    }
   ],
   "source": [
    "print('121'.center(10, '-'))"
   ]
  },
  {
   "cell_type": "code",
   "execution_count": 60,
   "metadata": {},
   "outputs": [
    {
     "name": "stdout",
     "output_type": "stream",
     "text": [
      "Help on method_descriptor:\n",
      "\n",
      "ljust(self, width, fillchar=' ', /)\n",
      "    Return a left-justified string of length width.\n",
      "    \n",
      "    Padding is done using the specified fill character (default is a space).\n",
      "\n"
     ]
    }
   ],
   "source": [
    "help(str.ljust)"
   ]
  },
  {
   "cell_type": "code",
   "execution_count": 61,
   "metadata": {},
   "outputs": [
    {
     "name": "stdout",
     "output_type": "stream",
     "text": [
      "Help on method_descriptor:\n",
      "\n",
      "rjust(self, width, fillchar=' ', /)\n",
      "    Return a right-justified string of length width.\n",
      "    \n",
      "    Padding is done using the specified fill character (default is a space).\n",
      "\n"
     ]
    }
   ],
   "source": [
    "help(str.rjust)"
   ]
  },
  {
   "cell_type": "code",
   "execution_count": 62,
   "metadata": {},
   "outputs": [
    {
     "name": "stdout",
     "output_type": "stream",
     "text": [
      "Help on method_descriptor:\n",
      "\n",
      "zfill(self, width, /)\n",
      "    Pad a numeric string with zeros on the left, to fill a field of the given width.\n",
      "    \n",
      "    The string is never truncated.\n",
      "\n"
     ]
    }
   ],
   "source": [
    "help(str.zfill)"
   ]
  },
  {
   "cell_type": "code",
   "execution_count": 63,
   "metadata": {},
   "outputs": [
    {
     "name": "stdout",
     "output_type": "stream",
     "text": [
      "0000000121\n"
     ]
    }
   ],
   "source": [
    "print('121'.zfill(10))"
   ]
  },
  {
   "cell_type": "code",
   "execution_count": 64,
   "metadata": {},
   "outputs": [
    {
     "name": "stdout",
     "output_type": "stream",
     "text": [
      "000000000r\n"
     ]
    }
   ],
   "source": [
    "print('r'.zfill(10))"
   ]
  },
  {
   "cell_type": "code",
   "execution_count": 66,
   "metadata": {},
   "outputs": [
    {
     "name": "stdout",
     "output_type": "stream",
     "text": [
      "Help on method_descriptor:\n",
      "\n",
      "startswith(...)\n",
      "    S.startswith(prefix[, start[, end]]) -> bool\n",
      "    \n",
      "    Return True if S starts with the specified prefix, False otherwise.\n",
      "    With optional start, test S beginning at that position.\n",
      "    With optional end, stop comparing S at that position.\n",
      "    prefix can also be a tuple of strings to try.\n",
      "\n"
     ]
    }
   ],
   "source": [
    "help(str.startswith)"
   ]
  },
  {
   "cell_type": "code",
   "execution_count": 76,
   "metadata": {},
   "outputs": [
    {
     "name": "stdout",
     "output_type": "stream",
     "text": [
      "True\n"
     ]
    }
   ],
   "source": [
    "text = 'geeks for geeks'\n",
    "res = text.startswith('for geeks', 6)\n",
    "print(res)"
   ]
  },
  {
   "cell_type": "code",
   "execution_count": 72,
   "metadata": {},
   "outputs": [
    {
     "name": "stdout",
     "output_type": "stream",
     "text": [
      "Help on method_descriptor:\n",
      "\n",
      "endswith(...)\n",
      "    S.endswith(suffix[, start[, end]]) -> bool\n",
      "    \n",
      "    Return True if S ends with the specified suffix, False otherwise.\n",
      "    With optional start, test S beginning at that position.\n",
      "    With optional end, stop comparing S at that position.\n",
      "    suffix can also be a tuple of strings to try.\n",
      "\n"
     ]
    }
   ],
   "source": [
    "help(str.endswith)"
   ]
  },
  {
   "cell_type": "code",
   "execution_count": null,
   "metadata": {},
   "outputs": [],
   "source": []
  },
  {
   "cell_type": "code",
   "execution_count": null,
   "metadata": {},
   "outputs": [],
   "source": [
    "a = int(input('enter first number : '))\n",
    "b = int(input('enter first number : '))\n",
    "c = int(input('enter first number : '))\n",
    "\n",
    "if a>b:\n",
    "    if a>c:\n",
    "        print()"
   ]
  },
  {
   "cell_type": "code",
   "execution_count": 78,
   "metadata": {},
   "outputs": [
    {
     "name": "stderr",
     "output_type": "stream",
     "text": [
      "unknown option --version\\"
     ]
    },
    {
     "name": "stdout",
     "output_type": "stream",
     "text": [
      "Python 3.9.1\n"
     ]
    },
    {
     "name": "stderr",
     "output_type": "stream",
     "text": [
      "\n",
      "usage: python [option] ... [-c cmd | -m mod | file | -] [arg] ...\n",
      "Try `python -h' for more information.\n"
     ]
    }
   ],
   "source": [
    "!python --version"
   ]
  },
  {
   "cell_type": "code",
   "execution_count": 1,
   "metadata": {},
   "outputs": [
    {
     "name": "stdout",
     "output_type": "stream",
     "text": [
      "Help on method_descriptor:\n",
      "\n",
      "append(self, object, /)\n",
      "    Append object to the end of the list.\n",
      "\n"
     ]
    }
   ],
   "source": [
    "help(list.append)"
   ]
  },
  {
   "cell_type": "code",
   "execution_count": 2,
   "metadata": {},
   "outputs": [
    {
     "name": "stdout",
     "output_type": "stream",
     "text": [
      "Help on method_descriptor:\n",
      "\n",
      "insert(self, index, object, /)\n",
      "    Insert object before index.\n",
      "\n"
     ]
    }
   ],
   "source": [
    "help(list.insert)"
   ]
  },
  {
   "cell_type": "code",
   "execution_count": 4,
   "metadata": {},
   "outputs": [
    {
     "name": "stdout",
     "output_type": "stream",
     "text": [
      "Help on method_descriptor:\n",
      "\n",
      "extend(self, iterable, /)\n",
      "    Extend list by appending elements from the iterable.\n",
      "\n"
     ]
    }
   ],
   "source": [
    "help(list.extend)"
   ]
  },
  {
   "cell_type": "code",
   "execution_count": 5,
   "metadata": {},
   "outputs": [
    {
     "name": "stdout",
     "output_type": "stream",
     "text": [
      "Help on method_descriptor:\n",
      "\n",
      "remove(self, value, /)\n",
      "    Remove first occurrence of value.\n",
      "    \n",
      "    Raises ValueError if the value is not present.\n",
      "\n"
     ]
    }
   ],
   "source": [
    "help(list.remove)"
   ]
  },
  {
   "cell_type": "code",
   "execution_count": 6,
   "metadata": {},
   "outputs": [
    {
     "name": "stdout",
     "output_type": "stream",
     "text": [
      "Help on method_descriptor:\n",
      "\n",
      "pop(self, index=-1, /)\n",
      "    Remove and return item at index (default last).\n",
      "    \n",
      "    Raises IndexError if list is empty or index is out of range.\n",
      "\n"
     ]
    }
   ],
   "source": [
    "help(list.pop)"
   ]
  },
  {
   "cell_type": "code",
   "execution_count": 9,
   "metadata": {},
   "outputs": [
    {
     "name": "stdout",
     "output_type": "stream",
     "text": [
      "4 6 5\n",
      "6 is greater\n"
     ]
    }
   ],
   "source": [
    "a, b, c = list(map(int, input().split()))\n",
    "\n",
    "if a > b:\n",
    "    if a > c:\n",
    "        print(f'{a} is greater')\n",
    "    else:\n",
    "        print(f'{c} is greater')\n",
    "else:\n",
    "    if b > c:\n",
    "        print(f'{b} is greater')\n",
    "    else:\n",
    "        print(f'{c} is greater')\n",
    "        "
   ]
  },
  {
   "cell_type": "code",
   "execution_count": 11,
   "metadata": {},
   "outputs": [
    {
     "name": "stdout",
     "output_type": "stream",
     "text": [
      "8 9 5\n",
      "b is biggest\n"
     ]
    }
   ],
   "source": [
    "a, b, c = list(map(int, input().split()))\n",
    "\n",
    "if a>b and a>c:\n",
    "    print('a is biggest')\n",
    "elif b>c:\n",
    "    print('b is biggest')\n",
    "else:\n",
    "    print('c is biggest')\n",
    "    "
   ]
  },
  {
   "cell_type": "code",
   "execution_count": 12,
   "metadata": {},
   "outputs": [
    {
     "name": "stdout",
     "output_type": "stream",
     "text": [
      "4 6 9 10\n",
      "d is biggest\n"
     ]
    }
   ],
   "source": [
    "a, b, c, d = list(map(int, input().split()))\n",
    "\n",
    "if a>b and a>c and a>d:\n",
    "    print('a is biggest')\n",
    "elif b>c and b>d:\n",
    "    print('b is biggest')\n",
    "elif c>d:\n",
    "    print('c is biggest')\n",
    "else:\n",
    "    print('d is biggest')\n",
    "    "
   ]
  },
  {
   "cell_type": "code",
   "execution_count": 21,
   "metadata": {},
   "outputs": [
    {
     "name": "stdout",
     "output_type": "stream",
     "text": [
      "Enter  day number : -1\n",
      "invalid input not allowed\n"
     ]
    }
   ],
   "source": [
    "day_num = int(input('Enter  day number : '))\n",
    "if day_num == 0:\n",
    "    print('sunday')\n",
    "elif day_num == 7:\n",
    "    print('sunday')\n",
    "elif day_num == 1:\n",
    "    print('monday')\n",
    "elif day_num == 2:\n",
    "    print('tuesday')\n",
    "elif day_num == 3:\n",
    "    print('wednesday')\n",
    "elif day_num == 4:\n",
    "    print('thursday')\n",
    "elif day_num == 5:\n",
    "    print('friday')\n",
    "elif day_num == 6:\n",
    "    print('saturday')\n",
    "else:\n",
    "    print('invalid input not allowed')"
   ]
  },
  {
   "cell_type": "code",
   "execution_count": 46,
   "metadata": {},
   "outputs": [
    {
     "name": "stdout",
     "output_type": "stream",
     "text": [
      "Enter  day number : 4\n",
      "thrusday\n"
     ]
    }
   ],
   "source": [
    "day = int(input('Enter  day number : '))\n",
    "\n",
    "dict_1 = {0:'sunday', 1:'monday', 2:'tuesday', 3:'wednesday', 4:'thrusday', 5:'friday', 6:'saturday', 7:'sunday'}\n",
    "print(dict_1.get(day, 'invalid day number'))"
   ]
  },
  {
   "cell_type": "code",
   "execution_count": 33,
   "metadata": {},
   "outputs": [
    {
     "name": "stdout",
     "output_type": "stream",
     "text": [
      "1, 2, 3, 4, 5, 6, 7, 8, 9, 10, 11, 12, 13, 14, 15, 16, 17, 18, 19, 20, 21, 22, 23, 24, 25, 26, 27, 28, 29, 30, 31, 32, 33, 34, 35, 36, 37, 38, 39, 40, 41, 42, 43, 44, 45, 46, 47, 48, 49, 50, 51, 52, 53, 54, 55, 56, 57, 58, 59, 60, 61, 62, 63, 64, 65, 66, 67, 68, 69, 70, 71, 72, 73, 74, 75, 76, 77, 78, 79, 80, 81, 82, 83, 84, 85, 86, 87, 88, 89, 90, 91, 92, 93, 94, 95, 96, 97, 98, 99, 100, "
     ]
    }
   ],
   "source": [
    "for i in range(1, 101):\n",
    "    print(i, end=', ')"
   ]
  },
  {
   "cell_type": "code",
   "execution_count": 44,
   "metadata": {},
   "outputs": [
    {
     "name": "stdout",
     "output_type": "stream",
     "text": [
      "Enter  day number : 4\n",
      "friday\n"
     ]
    }
   ],
   "source": [
    "day = int(input('Enter  day number : '))\n",
    "lst_1 = ['sunday', 'monday', 'tuesday', 'thrusday', 'friday', 'saturday', 'sunday']\n",
    "if 0<=day<=6:\n",
    "    print(lst_1[day])\n",
    "else:\n",
    "    print('invalid day')"
   ]
  },
  {
   "cell_type": "code",
   "execution_count": null,
   "metadata": {},
   "outputs": [],
   "source": []
  },
  {
   "cell_type": "code",
   "execution_count": 1,
   "metadata": {},
   "outputs": [
    {
     "name": "stdout",
     "output_type": "stream",
     "text": [
      "Help on method_descriptor:\n",
      "\n",
      "clear(self, /)\n",
      "    Remove all items from list.\n",
      "\n"
     ]
    }
   ],
   "source": [
    "help(list.clear)"
   ]
  },
  {
   "cell_type": "code",
   "execution_count": 5,
   "metadata": {},
   "outputs": [
    {
     "name": "stdout",
     "output_type": "stream",
     "text": [
      "None\n"
     ]
    }
   ],
   "source": [
    "lst = [1,2,3,4,5,6]\n",
    "d=lst.clear()\n",
    "print(d)"
   ]
  },
  {
   "cell_type": "code",
   "execution_count": 6,
   "metadata": {},
   "outputs": [
    {
     "name": "stdout",
     "output_type": "stream",
     "text": [
      "[1, 2, 3, 4]\n",
      "None\n"
     ]
    }
   ],
   "source": [
    "d= lst.extend([1,2,3,4])\n",
    "print(lst)\n",
    "print(d)"
   ]
  },
  {
   "cell_type": "code",
   "execution_count": 35,
   "metadata": {},
   "outputs": [
    {
     "name": "stdout",
     "output_type": "stream",
     "text": [
      "None\n"
     ]
    }
   ],
   "source": [
    "d = lst.insert(3,5)\n",
    "print(d)"
   ]
  },
  {
   "cell_type": "code",
   "execution_count": 9,
   "metadata": {},
   "outputs": [
    {
     "name": "stdout",
     "output_type": "stream",
     "text": [
      "None\n"
     ]
    }
   ],
   "source": [
    "d = lst.append(5)\n",
    "print(d)"
   ]
  },
  {
   "cell_type": "code",
   "execution_count": 36,
   "metadata": {},
   "outputs": [],
   "source": [
    "lst.remove(5)"
   ]
  },
  {
   "cell_type": "code",
   "execution_count": 15,
   "metadata": {},
   "outputs": [
    {
     "name": "stdout",
     "output_type": "stream",
     "text": [
      "Help on method_descriptor:\n",
      "\n",
      "index(self, value, start=0, stop=9223372036854775807, /)\n",
      "    Return first index of value.\n",
      "    \n",
      "    Raises ValueError if the value is not present.\n",
      "\n"
     ]
    }
   ],
   "source": [
    "help(list.index)"
   ]
  },
  {
   "cell_type": "code",
   "execution_count": 18,
   "metadata": {},
   "outputs": [
    {
     "name": "stdout",
     "output_type": "stream",
     "text": [
      "0\n"
     ]
    }
   ],
   "source": [
    "d = lst.index(1)\n",
    "print(d)"
   ]
  },
  {
   "cell_type": "code",
   "execution_count": 19,
   "metadata": {},
   "outputs": [
    {
     "name": "stdout",
     "output_type": "stream",
     "text": [
      "Help on method_descriptor:\n",
      "\n",
      "count(self, value, /)\n",
      "    Return number of occurrences of value.\n",
      "\n"
     ]
    }
   ],
   "source": [
    "help(list.count)"
   ]
  },
  {
   "cell_type": "code",
   "execution_count": 20,
   "metadata": {},
   "outputs": [
    {
     "data": {
      "text/plain": [
       "[1, 3, 5]"
      ]
     },
     "execution_count": 20,
     "metadata": {},
     "output_type": "execute_result"
    }
   ],
   "source": [
    "lst"
   ]
  },
  {
   "cell_type": "code",
   "execution_count": 21,
   "metadata": {},
   "outputs": [
    {
     "data": {
      "text/plain": [
       "1"
      ]
     },
     "execution_count": 21,
     "metadata": {},
     "output_type": "execute_result"
    }
   ],
   "source": [
    "lst.count(3)"
   ]
  },
  {
   "cell_type": "code",
   "execution_count": 37,
   "metadata": {},
   "outputs": [
    {
     "name": "stdout",
     "output_type": "stream",
     "text": [
      "Help on method_descriptor:\n",
      "\n",
      "sort(self, /, *, key=None, reverse=False)\n",
      "    Stable sort *IN PLACE*.\n",
      "\n"
     ]
    }
   ],
   "source": [
    "\n",
    "help(list.sort)"
   ]
  },
  {
   "cell_type": "code",
   "execution_count": 38,
   "metadata": {},
   "outputs": [
    {
     "name": "stdout",
     "output_type": "stream",
     "text": [
      "Help on method_descriptor:\n",
      "\n",
      "reverse(self, /)\n",
      "    Reverse *IN PLACE*.\n",
      "\n"
     ]
    }
   ],
   "source": [
    "help(list.reverse)"
   ]
  },
  {
   "cell_type": "code",
   "execution_count": 40,
   "metadata": {},
   "outputs": [],
   "source": [
    "lst.extend([2,4,5,6,3,2,])"
   ]
  },
  {
   "cell_type": "code",
   "execution_count": 41,
   "metadata": {},
   "outputs": [
    {
     "data": {
      "text/plain": [
       "[1, 2, 4, 5, 6, 3, 2]"
      ]
     },
     "execution_count": 41,
     "metadata": {},
     "output_type": "execute_result"
    }
   ],
   "source": [
    "lst"
   ]
  },
  {
   "cell_type": "code",
   "execution_count": 44,
   "metadata": {},
   "outputs": [
    {
     "name": "stdout",
     "output_type": "stream",
     "text": [
      "None\n"
     ]
    }
   ],
   "source": [
    "d = lst.reverse()\n",
    "print(d)"
   ]
  },
  {
   "cell_type": "code",
   "execution_count": 45,
   "metadata": {},
   "outputs": [
    {
     "data": {
      "text/plain": [
       "[2, 3, 6, 5, 4, 2, 1]"
      ]
     },
     "execution_count": 45,
     "metadata": {},
     "output_type": "execute_result"
    }
   ],
   "source": [
    "lst"
   ]
  },
  {
   "cell_type": "code",
   "execution_count": 46,
   "metadata": {},
   "outputs": [
    {
     "name": "stdout",
     "output_type": "stream",
     "text": [
      "Help on method_descriptor:\n",
      "\n",
      "copy(self, /)\n",
      "    Return a shallow copy of the list.\n",
      "\n"
     ]
    }
   ],
   "source": [
    "help(list.copy)"
   ]
  },
  {
   "cell_type": "code",
   "execution_count": 47,
   "metadata": {},
   "outputs": [
    {
     "name": "stdout",
     "output_type": "stream",
     "text": [
      "Help on class list in module builtins:\n",
      "\n",
      "class list(object)\n",
      " |  list(iterable=(), /)\n",
      " |  \n",
      " |  Built-in mutable sequence.\n",
      " |  \n",
      " |  If no argument is given, the constructor creates a new empty list.\n",
      " |  The argument must be an iterable if specified.\n",
      " |  \n",
      " |  Methods defined here:\n",
      " |  \n",
      " |  __add__(self, value, /)\n",
      " |      Return self+value.\n",
      " |  \n",
      " |  __contains__(self, key, /)\n",
      " |      Return key in self.\n",
      " |  \n",
      " |  __delitem__(self, key, /)\n",
      " |      Delete self[key].\n",
      " |  \n",
      " |  __eq__(self, value, /)\n",
      " |      Return self==value.\n",
      " |  \n",
      " |  __ge__(self, value, /)\n",
      " |      Return self>=value.\n",
      " |  \n",
      " |  __getattribute__(self, name, /)\n",
      " |      Return getattr(self, name).\n",
      " |  \n",
      " |  __getitem__(...)\n",
      " |      x.__getitem__(y) <==> x[y]\n",
      " |  \n",
      " |  __gt__(self, value, /)\n",
      " |      Return self>value.\n",
      " |  \n",
      " |  __iadd__(self, value, /)\n",
      " |      Implement self+=value.\n",
      " |  \n",
      " |  __imul__(self, value, /)\n",
      " |      Implement self*=value.\n",
      " |  \n",
      " |  __init__(self, /, *args, **kwargs)\n",
      " |      Initialize self.  See help(type(self)) for accurate signature.\n",
      " |  \n",
      " |  __iter__(self, /)\n",
      " |      Implement iter(self).\n",
      " |  \n",
      " |  __le__(self, value, /)\n",
      " |      Return self<=value.\n",
      " |  \n",
      " |  __len__(self, /)\n",
      " |      Return len(self).\n",
      " |  \n",
      " |  __lt__(self, value, /)\n",
      " |      Return self<value.\n",
      " |  \n",
      " |  __mul__(self, value, /)\n",
      " |      Return self*value.\n",
      " |  \n",
      " |  __ne__(self, value, /)\n",
      " |      Return self!=value.\n",
      " |  \n",
      " |  __repr__(self, /)\n",
      " |      Return repr(self).\n",
      " |  \n",
      " |  __reversed__(self, /)\n",
      " |      Return a reverse iterator over the list.\n",
      " |  \n",
      " |  __rmul__(self, value, /)\n",
      " |      Return value*self.\n",
      " |  \n",
      " |  __setitem__(self, key, value, /)\n",
      " |      Set self[key] to value.\n",
      " |  \n",
      " |  __sizeof__(self, /)\n",
      " |      Return the size of the list in memory, in bytes.\n",
      " |  \n",
      " |  append(self, object, /)\n",
      " |      Append object to the end of the list.\n",
      " |  \n",
      " |  clear(self, /)\n",
      " |      Remove all items from list.\n",
      " |  \n",
      " |  copy(self, /)\n",
      " |      Return a shallow copy of the list.\n",
      " |  \n",
      " |  count(self, value, /)\n",
      " |      Return number of occurrences of value.\n",
      " |  \n",
      " |  extend(self, iterable, /)\n",
      " |      Extend list by appending elements from the iterable.\n",
      " |  \n",
      " |  index(self, value, start=0, stop=9223372036854775807, /)\n",
      " |      Return first index of value.\n",
      " |      \n",
      " |      Raises ValueError if the value is not present.\n",
      " |  \n",
      " |  insert(self, index, object, /)\n",
      " |      Insert object before index.\n",
      " |  \n",
      " |  pop(self, index=-1, /)\n",
      " |      Remove and return item at index (default last).\n",
      " |      \n",
      " |      Raises IndexError if list is empty or index is out of range.\n",
      " |  \n",
      " |  remove(self, value, /)\n",
      " |      Remove first occurrence of value.\n",
      " |      \n",
      " |      Raises ValueError if the value is not present.\n",
      " |  \n",
      " |  reverse(self, /)\n",
      " |      Reverse *IN PLACE*.\n",
      " |  \n",
      " |  sort(self, /, *, key=None, reverse=False)\n",
      " |      Stable sort *IN PLACE*.\n",
      " |  \n",
      " |  ----------------------------------------------------------------------\n",
      " |  Static methods defined here:\n",
      " |  \n",
      " |  __new__(*args, **kwargs) from builtins.type\n",
      " |      Create and return a new object.  See help(type) for accurate signature.\n",
      " |  \n",
      " |  ----------------------------------------------------------------------\n",
      " |  Data and other attributes defined here:\n",
      " |  \n",
      " |  __hash__ = None\n",
      "\n"
     ]
    }
   ],
   "source": [
    "help(list)"
   ]
  },
  {
   "cell_type": "code",
   "execution_count": 48,
   "metadata": {},
   "outputs": [
    {
     "name": "stdout",
     "output_type": "stream",
     "text": [
      "Help on class tuple in module builtins:\n",
      "\n",
      "class tuple(object)\n",
      " |  tuple(iterable=(), /)\n",
      " |  \n",
      " |  Built-in immutable sequence.\n",
      " |  \n",
      " |  If no argument is given, the constructor returns an empty tuple.\n",
      " |  If iterable is specified the tuple is initialized from iterable's items.\n",
      " |  \n",
      " |  If the argument is a tuple, the return value is the same object.\n",
      " |  \n",
      " |  Methods defined here:\n",
      " |  \n",
      " |  __add__(self, value, /)\n",
      " |      Return self+value.\n",
      " |  \n",
      " |  __contains__(self, key, /)\n",
      " |      Return key in self.\n",
      " |  \n",
      " |  __eq__(self, value, /)\n",
      " |      Return self==value.\n",
      " |  \n",
      " |  __ge__(self, value, /)\n",
      " |      Return self>=value.\n",
      " |  \n",
      " |  __getattribute__(self, name, /)\n",
      " |      Return getattr(self, name).\n",
      " |  \n",
      " |  __getitem__(self, key, /)\n",
      " |      Return self[key].\n",
      " |  \n",
      " |  __getnewargs__(self, /)\n",
      " |  \n",
      " |  __gt__(self, value, /)\n",
      " |      Return self>value.\n",
      " |  \n",
      " |  __hash__(self, /)\n",
      " |      Return hash(self).\n",
      " |  \n",
      " |  __iter__(self, /)\n",
      " |      Implement iter(self).\n",
      " |  \n",
      " |  __le__(self, value, /)\n",
      " |      Return self<=value.\n",
      " |  \n",
      " |  __len__(self, /)\n",
      " |      Return len(self).\n",
      " |  \n",
      " |  __lt__(self, value, /)\n",
      " |      Return self<value.\n",
      " |  \n",
      " |  __mul__(self, value, /)\n",
      " |      Return self*value.\n",
      " |  \n",
      " |  __ne__(self, value, /)\n",
      " |      Return self!=value.\n",
      " |  \n",
      " |  __repr__(self, /)\n",
      " |      Return repr(self).\n",
      " |  \n",
      " |  __rmul__(self, value, /)\n",
      " |      Return value*self.\n",
      " |  \n",
      " |  count(self, value, /)\n",
      " |      Return number of occurrences of value.\n",
      " |  \n",
      " |  index(self, value, start=0, stop=9223372036854775807, /)\n",
      " |      Return first index of value.\n",
      " |      \n",
      " |      Raises ValueError if the value is not present.\n",
      " |  \n",
      " |  ----------------------------------------------------------------------\n",
      " |  Static methods defined here:\n",
      " |  \n",
      " |  __new__(*args, **kwargs) from builtins.type\n",
      " |      Create and return a new object.  See help(type) for accurate signature.\n",
      "\n"
     ]
    }
   ],
   "source": [
    "help(tuple)"
   ]
  },
  {
   "cell_type": "code",
   "execution_count": 55,
   "metadata": {},
   "outputs": [
    {
     "name": "stdout",
     "output_type": "stream",
     "text": [
      "('geeks',)\n"
     ]
    }
   ],
   "source": [
    "tup = tuple(['geeks'])\n",
    "print(tup)"
   ]
  },
  {
   "cell_type": "code",
   "execution_count": 54,
   "metadata": {},
   "outputs": [
    {
     "name": "stdout",
     "output_type": "stream",
     "text": [
      "[12345]\n"
     ]
    }
   ],
   "source": [
    "lst = list([12345])\n",
    "print(lst)"
   ]
  },
  {
   "cell_type": "code",
   "execution_count": 57,
   "metadata": {},
   "outputs": [
    {
     "name": "stdout",
     "output_type": "stream",
     "text": [
      "100 99 98 97 96 95 94 93 92 91 90 89 88 87 86 85 84 83 82 81 80 79 78 77 76 75 74 73 72 71 70 69 68 67 66 65 64 63 62 61 60 59 58 57 56 55 54 53 52 51 50 49 48 47 46 45 44 43 42 41 40 39 38 37 36 35 34 33 32 31 30 29 28 27 26 25 24 23 22 21 20 19 18 17 16 15 14 13 12 11 10 9 8 7 6 5 4 3 2 1 "
     ]
    }
   ],
   "source": [
    "\n",
    "c = 100\n",
    "while c>=1:\n",
    "    print(c, end=' ')\n",
    "    c = c-1"
   ]
  },
  {
   "cell_type": "code",
   "execution_count": 68,
   "metadata": {},
   "outputs": [
    {
     "name": "stdout",
     "output_type": "stream",
     "text": [
      "30\n",
      "60\n",
      "30\n",
      "32\n",
      "34\n",
      "36\n",
      "38\n",
      "40\n",
      "42\n",
      "44\n",
      "46\n",
      "48\n",
      "50\n",
      "52\n",
      "54\n",
      "56\n",
      "58\n",
      "60\n"
     ]
    }
   ],
   "source": [
    "a= int(input())\n",
    "b= int(input())\n",
    "\n",
    "while a <=b:\n",
    "    if a % 2==0:\n",
    "        print(a)\n",
    "    a +=1\n",
    "    "
   ]
  },
  {
   "cell_type": "code",
   "execution_count": null,
   "metadata": {},
   "outputs": [],
   "source": [
    "i = 1\n",
    "while i<=100:\n",
    "    if "
   ]
  },
  {
   "cell_type": "code",
   "execution_count": 79,
   "metadata": {},
   "outputs": [
    {
     "name": "stdout",
     "output_type": "stream",
     "text": [
      "15 30 45 60 75 90 "
     ]
    }
   ],
   "source": [
    "i = 1\n",
    "while i<=100:\n",
    "    if i%3==0 and i%5==0:\n",
    "        print(i, end=' ')\n",
    "    i+=1"
   ]
  },
  {
   "cell_type": "code",
   "execution_count": 78,
   "metadata": {},
   "outputs": [
    {
     "name": "stdout",
     "output_type": "stream",
     "text": [
      "Hello everyone my name is naman\n",
      "Hello everyone my name is deep\n",
      "Hello everyone my name is gaurav\n",
      "Hello everyone my name is ankur\n",
      "Hello everyone my name is arshika\n"
     ]
    }
   ],
   "source": [
    "name = ['naman', 'deep', 'gaurav', 'ankur', 'arshika']\n",
    "i=0\n",
    "while i<len(name):\n",
    "    print(f'Hello everyone my name is {name[i]}')\n",
    "    i+=1"
   ]
  },
  {
   "cell_type": "code",
   "execution_count": 80,
   "metadata": {},
   "outputs": [
    {
     "name": "stdout",
     "output_type": "stream",
     "text": [
      "Help on method_descriptor:\n",
      "\n",
      "index(self, value, start=0, stop=9223372036854775807, /)\n",
      "    Return first index of value.\n",
      "    \n",
      "    Raises ValueError if the value is not present.\n",
      "\n"
     ]
    }
   ],
   "source": [
    "help(tuple.index)"
   ]
  },
  {
   "cell_type": "code",
   "execution_count": 9,
   "metadata": {},
   "outputs": [
    {
     "name": "stdout",
     "output_type": "stream",
     "text": [
      "-5\n",
      "-5 is negative number.\n"
     ]
    }
   ],
   "source": [
    "num = int(input())\n",
    "if num > 0:\n",
    "    print(f'{num} is positive number.')\n",
    "elif num == 0:\n",
    "    print(f'{num } is neutral number.')\n",
    "else:\n",
    "    print(f'{num} is negative number.')"
   ]
  },
  {
   "cell_type": "code",
   "execution_count": 4,
   "metadata": {},
   "outputs": [
    {
     "name": "stdout",
     "output_type": "stream",
     "text": [
      "5654\n",
      "not divisible by 5 and 11\n"
     ]
    }
   ],
   "source": [
    "num_1 = int(input())\n",
    "if num_1 % 5 == 0 and num_1 % 11 == 0:\n",
    "    print('divisible by 5 and 11')\n",
    "else:\n",
    "    print('not divisible by 5 and 11')"
   ]
  },
  {
   "cell_type": "code",
   "execution_count": 23,
   "metadata": {},
   "outputs": [
    {
     "name": "stdout",
     "output_type": "stream",
     "text": [
      "d\n",
      "d is an Alphabet\n"
     ]
    }
   ],
   "source": [
    "char = input()\n",
    "if (char>='a' and char<='z') or (char>='A' and char<='Z'):\n",
    "    print(char, 'is an Alphabet')\n",
    "else:\n",
    "    print(char, 'is not an Alphabet')\n",
    "    "
   ]
  },
  {
   "cell_type": "code",
   "execution_count": 13,
   "metadata": {},
   "outputs": [
    {
     "name": "stdout",
     "output_type": "stream",
     "text": [
      "    F    \n",
      "f is consonant\n"
     ]
    }
   ],
   "source": [
    "alphabet = input().strip().lower()\n",
    "vowel = ['a', 'e', 'i', 'o', 'u']\n",
    "consonant = ['b', 'c', 'd', 'f', 'g', 'h', 'j', 'k', 'l', 'm', 'n', 'p', 'q', 'r', 's', 't', 'v', 'w', 'x', 'y', 'z']\n",
    "if alphabet in vowel:\n",
    "    print(f'{alphabet} is vowel')\n",
    "elif alphabet in consonant:\n",
    "    print(f'{alphabet} is consonant')\n",
    "else:\n",
    "    print('invalid input')\n"
   ]
  },
  {
   "cell_type": "code",
   "execution_count": 77,
   "metadata": {},
   "outputs": [
    {
     "name": "stdout",
     "output_type": "stream",
     "text": [
      "D\n",
      "UpperCase\n"
     ]
    }
   ],
   "source": [
    "char_1 = input().strip()\n",
    "if char_1.isupper():\n",
    "    print('UpperCase')\n",
    "elif char_1.islower():\n",
    "    print('LowerCase')\n",
    "else:\n",
    "    print('invalid input')"
   ]
  },
  {
   "cell_type": "code",
   "execution_count": 46,
   "metadata": {},
   "outputs": [
    {
     "name": "stdout",
     "output_type": "stream",
     "text": [
      "60 90 30\n",
      "triangle is valid\n"
     ]
    }
   ],
   "source": [
    "a,b,c = list(map(int, input('Enter angles of triangle : ').strip().split()))\n",
    "if a + b + c == 180:\n",
    "    print('triangle is valid')\n",
    "else:\n",
    "    print('not valid')\n",
    "    "
   ]
  },
  {
   "cell_type": "code",
   "execution_count": 58,
   "metadata": {},
   "outputs": [
    {
     "name": "stdout",
     "output_type": "stream",
     "text": [
      "Enter marks for physics56\n",
      "Enter marks for chemistry65\n",
      "Enter marks for biology65\n",
      "Enter marks for math78\n",
      "Enter marks for computer89\n",
      "Grade C\n"
     ]
    }
   ],
   "source": [
    "phy = int(input('Enter marks for physics'))\n",
    "chem = int(input('Enter marks for chemistry'))\n",
    "bio = int(input('Enter marks for biology'))\n",
    "math = int(input('Enter marks for math'))\n",
    "comp = int(input('Enter marks for computer'))\n",
    "\n",
    "total_marks = 500\n",
    "percentage = ((phy+chem+bio+math+comp)/total_marks)*100\n",
    "\n",
    "if percentage >= 90:\n",
    "    print('Grade A')\n",
    "elif percentage >= 80:\n",
    "    print('Grade B')\n",
    "elif percentage >= 70:\n",
    "    print('Grade C')\n",
    "elif percentge >= 60:\n",
    "    print('Grade D')\n",
    "elif percentage >= 40:\n",
    "    print('Grade E')\n",
    "elif percentage < 40:\n",
    "    print('Grade F')\n",
    "else:\n",
    "    print('invalid')"
   ]
  },
  {
   "cell_type": "markdown",
   "metadata": {},
   "source": []
  },
  {
   "cell_type": "code",
   "execution_count": 68,
   "metadata": {},
   "outputs": [
    {
     "name": "stdout",
     "output_type": "stream",
     "text": [
      "1900\n",
      "1900 is a not leap year\n"
     ]
    }
   ],
   "source": [
    "year = int(input().strip())\n",
    "if year % 4 == 0 and year % 100 != 0 or year % 400 == 0:\n",
    "    print(f'{year} is a leap year')\n",
    "else:\n",
    "    print(f'{year} is a not leap year')\n",
    "\n",
    "    "
   ]
  },
  {
   "cell_type": "code",
   "execution_count": 75,
   "metadata": {},
   "outputs": [
    {
     "name": "stdout",
     "output_type": "stream",
     "text": [
      "Enter salary : 40000\n",
      "Gross salary is 90000.0\n"
     ]
    }
   ],
   "source": [
    "salary = int(input('Enter salary : ').strip())\n",
    "if salary <= 10000:\n",
    "    HRA = (salary*20)/100 \n",
    "    DA = (salary*80)/100\n",
    "    gross_salary = salary + HRA + DA\n",
    "    print('Gross salary is', gross_salary)\n",
    "elif salary <= 20000:\n",
    "    HRA = (salary*25)/100 \n",
    "    DA = (salary*90)/100\n",
    "    gross_salary = salary + HRA + DA\n",
    "    print('Gross salary is', gross_salary)\n",
    "elif salary > 20000:\n",
    "    HRA = (salary*30)/100 \n",
    "    DA = (salary*95)/100\n",
    "    gross_salary = salary + HRA + DA\n",
    "    print('Gross salary is', gross_salary)\n",
    "    "
   ]
  },
  {
   "cell_type": "code",
   "execution_count": null,
   "metadata": {},
   "outputs": [],
   "source": []
  },
  {
   "cell_type": "code",
   "execution_count": 44,
   "metadata": {},
   "outputs": [
    {
     "name": "stdout",
     "output_type": "stream",
     "text": [
      "dsfw34\n",
      "dsfw34 is alphanumnric\n"
     ]
    }
   ],
   "source": [
    "char = input().strip().lower()\n",
    "special_char = ['!', '@', '#', '$', '%', '^', '&', '*', '(', ')', '-', '+', '=', '/', '?', '~']\n",
    "if char.isalpha():\n",
    "    print(f'{char} is alphabet')\n",
    "elif char.isdigit():\n",
    "    print(f'{char} is digit')\n",
    "elif char in special_char:\n",
    "                print(f'{char} is special character')\n",
    "elif char.isalnum():\n",
    "    print(f'{char} is alphanumnric')\n",
    "else:\n",
    "    print('invalid character')"
   ]
  },
  {
   "cell_type": "code",
   "execution_count": null,
   "metadata": {},
   "outputs": [],
   "source": []
  },
  {
   "cell_type": "code",
   "execution_count": 50,
   "metadata": {},
   "outputs": [
    {
     "name": "stdout",
     "output_type": "stream",
     "text": [
      "Enter all sides of triangle : 1 12 13 \n",
      "Triangle is valid\n"
     ]
    }
   ],
   "source": [
    "a, b, c = list(map(int, input('Enter all sides of triangle : ').split()))\n",
    "if (a+b) > c or (a+c) > b or (b+c) > a:\n",
    "    print('Triangle is valid')\n",
    "else:\n",
    "    print('Triangle is not valid')"
   ]
  },
  {
   "cell_type": "code",
   "execution_count": null,
   "metadata": {},
   "outputs": [],
   "source": []
  },
  {
   "cell_type": "code",
   "execution_count": 16,
   "metadata": {},
   "outputs": [
    {
     "name": "stdout",
     "output_type": "stream",
     "text": [
      "{'chicken_tikka': 150,\n",
      " 'chole_bhature': 120,\n",
      " 'momos': 50,\n",
      " 'pizza': 350,\n",
      " 'spring_roll': 60}\n",
      "enter item : momos\n",
      "enter quantity2\n",
      "8\n",
      "140\n"
     ]
    }
   ],
   "source": []
  },
  {
   "cell_type": "code",
   "execution_count": 2,
   "metadata": {},
   "outputs": [
    {
     "name": "stdout",
     "output_type": "stream",
     "text": [
      "2013\n",
      "2013 is a not leap year\n"
     ]
    }
   ],
   "source": [
    "year = int(input().strip())\n",
    "if year % 4 == 0 and year % 100 != 0 or year % 400 == 0:\n",
    "    print(f'{year} is a leap year')\n",
    "else:\n",
    "    print(f'{year} is a not leap year')\n"
   ]
  },
  {
   "cell_type": "code",
   "execution_count": 4,
   "metadata": {},
   "outputs": [
    {
     "name": "stdout",
     "output_type": "stream",
     "text": [
      "2022\n",
      "not a leap year\n"
     ]
    }
   ],
   "source": [
    "year = int(input())\n",
    "if (year%100) != 0 and (year%4) == 0:\n",
    "    print('leap year')\n",
    "elif (year%100) == 0 and (year% 400) == 0:\n",
    "    print('leap year')\n",
    "else:\n",
    "     print('not a leap year')"
   ]
  },
  {
   "cell_type": "code",
   "execution_count": null,
   "metadata": {},
   "outputs": [],
   "source": [
    "year = int(input())\n"
   ]
  },
  {
   "cell_type": "code",
   "execution_count": 1,
   "metadata": {},
   "outputs": [
    {
     "name": "stdout",
     "output_type": "stream",
     "text": [
      "enter player 1 namedeep\n",
      "enter player 2 nameshruti\n",
      "player1 choice(rock, paper, scissor): ········\n",
      "player2 choice(rock, paper, scissor): ········\n",
      "shruti win\n"
     ]
    }
   ],
   "source": [
    "from getpass import getpass\n",
    "player1 = input('enter player 1 name')\n",
    "player2 = input('enter player 2 name')\n",
    "\n",
    "ch1 = getpass('player1 choice(rock, paper, scissor): ')\n",
    "ch2 = getpass('player2 choice(rock, paper, scissor): ')\n",
    "\n",
    "\n",
    "\n",
    "if ch1 == ch2:\n",
    "    print('Tie')\n",
    "elif ch1 == 'rock' and ch2 == 'scissor':\n",
    "    print(f'{player1} win')\n",
    "elif ch1 == 'scissor' and ch2 == 'paper':\n",
    "    print(f'{player1} win')\n",
    "elif ch1 == 'paper' and ch2 == 'rock':\n",
    "    print(f'{player1} win')\n",
    "    \n",
    "else:\n",
    "    print(f'{player2} win')\n",
    "\n"
   ]
  },
  {
   "cell_type": "code",
   "execution_count": null,
   "metadata": {},
   "outputs": [],
   "source": []
  },
  {
   "cell_type": "code",
   "execution_count": 16,
   "metadata": {},
   "outputs": [
    {
     "name": "stdout",
     "output_type": "stream",
     "text": [
      "Enter day number : 3\n",
      "wednesday\n"
     ]
    }
   ],
   "source": [
    "day = ['monday', 'tuesday', 'wednesday', 'thrusday', 'friday', 'saturday', 'sunday']\n",
    "day_num = int(input('Enter day number : '))\n",
    "print(day[day_num-1])"
   ]
  },
  {
   "cell_type": "code",
   "execution_count": 24,
   "metadata": {},
   "outputs": [
    {
     "name": "stdout",
     "output_type": "stream",
     "text": [
      "Enter all sides of triangle : 2 2 2\n",
      "Triangle is equilateral\n"
     ]
    }
   ],
   "source": [
    "a, b, c = list(map(int, input('Enter all sides of triangle : ').split()))\n",
    "if a == b ==c:\n",
    "    print('Triangle is equilateral')\n",
    "elif (a==b) or (b==c) or (a==c):\n",
    "    print('Triangle is isosceles')\n",
    "elif a != b != c:\n",
    "    print('Triangle is scalene ')\n",
    "else:\n",
    "    print('invalid')"
   ]
  },
  {
   "cell_type": "code",
   "execution_count": 27,
   "metadata": {},
   "outputs": [
    {
     "name": "stdout",
     "output_type": "stream",
     "text": [
      "Invalid\n"
     ]
    }
   ],
   "source": [
    "def checkValidity(a, b, c):\n",
    "     \n",
    "    # check condition\n",
    "    if (a + b <= c) or (a + c <= b) or (b + c <= a) :\n",
    "        return False\n",
    "    else:\n",
    "        return True       \n",
    " \n",
    "# driver code\n",
    "a = 7\n",
    "b = 2\n",
    "c = 5\n",
    "if checkValidity(a, b, c):\n",
    "    print(\"Valid\")\n",
    "else:\n",
    "    print(\"Invalid\")"
   ]
  },
  {
   "cell_type": "code",
   "execution_count": 46,
   "metadata": {},
   "outputs": [
    {
     "name": "stdout",
     "output_type": "stream",
     "text": [
      "Enter all sides of triangle : 4 3 7\n",
      "Triangle is valid\n"
     ]
    }
   ],
   "source": [
    "a, b, c = list(map(int, input('Enter all sides of triangle : ').split()))\n",
    "if a+b > c or a+c > b or b+c > a:\n",
    "    print('Triangle is valid')\n",
    "else:\n",
    "    print('Triangle is not valid')"
   ]
  },
  {
   "cell_type": "code",
   "execution_count": 31,
   "metadata": {},
   "outputs": [
    {
     "data": {
      "text/plain": [
       "'hello'"
      ]
     },
     "execution_count": 31,
     "metadata": {},
     "output_type": "execute_result"
    }
   ],
   "source": [
    "'Hello'.upper().lower()"
   ]
  },
  {
   "cell_type": "code",
   "execution_count": 35,
   "metadata": {},
   "outputs": [
    {
     "data": {
      "text/plain": [
       "['Remember,', 'remember,', 'the', 'fifth', 'of', 'November.']"
      ]
     },
     "execution_count": 35,
     "metadata": {},
     "output_type": "execute_result"
    }
   ],
   "source": [
    "'Remember, remember, the fifth of November.'.split()"
   ]
  },
  {
   "cell_type": "code",
   "execution_count": 33,
   "metadata": {},
   "outputs": [
    {
     "data": {
      "text/plain": [
       "'There-can-be-only-one.'"
      ]
     },
     "execution_count": 33,
     "metadata": {},
     "output_type": "execute_result"
    }
   ],
   "source": [
    "'-'.join('There can be only one.'.split())"
   ]
  },
  {
   "cell_type": "code",
   "execution_count": 40,
   "metadata": {},
   "outputs": [
    {
     "name": "stdout",
     "output_type": "stream",
     "text": [
      "Help on method_descriptor:\n",
      "\n",
      "center(self, width, fillchar=' ', /)\n",
      "    Return a centered string of length width.\n",
      "    \n",
      "    Padding is done using the specified fill character (default is a space).\n",
      "\n"
     ]
    }
   ],
   "source": [
    "help(str.center)"
   ]
  },
  {
   "cell_type": "code",
   "execution_count": 44,
   "metadata": {},
   "outputs": [
    {
     "data": {
      "text/plain": [
       "'lo world!'"
      ]
     },
     "execution_count": 44,
     "metadata": {},
     "output_type": "execute_result"
    }
   ],
   "source": [
    "'Hello world!'[3:]"
   ]
  },
  {
   "cell_type": "code",
   "execution_count": 52,
   "metadata": {},
   "outputs": [
    {
     "name": "stdout",
     "output_type": "stream",
     "text": [
      "2\n",
      "4\n"
     ]
    }
   ],
   "source": [
    "c = 2\n",
    "while c<=10:\n",
    "    print(c)\n",
    "    c=c**2\n",
    "    "
   ]
  },
  {
   "cell_type": "code",
   "execution_count": 55,
   "metadata": {},
   "outputs": [
    {
     "name": "stdout",
     "output_type": "stream",
     "text": [
      "Enter your number : 123\n"
     ]
    },
    {
     "ename": "KeyboardInterrupt",
     "evalue": "",
     "output_type": "error",
     "traceback": [
      "\u001b[1;31m---------------------------------------------------------------------------\u001b[0m",
      "\u001b[1;31mKeyboardInterrupt\u001b[0m                         Traceback (most recent call last)",
      "\u001b[1;32m<ipython-input-55-8b314f849e9c>\u001b[0m in \u001b[0;36m<module>\u001b[1;34m\u001b[0m\n\u001b[0;32m      4\u001b[0m \u001b[1;33m\u001b[0m\u001b[0m\n\u001b[0;32m      5\u001b[0m \u001b[1;32mwhile\u001b[0m \u001b[0mnumber\u001b[0m \u001b[1;33m>=\u001b[0m\u001b[1;36m0\u001b[0m\u001b[1;33m:\u001b[0m\u001b[1;33m\u001b[0m\u001b[1;33m\u001b[0m\u001b[0m\n\u001b[1;32m----> 6\u001b[1;33m     \u001b[0mdigits\u001b[0m \u001b[1;33m+=\u001b[0m \u001b[1;36m1\u001b[0m\u001b[1;33m\u001b[0m\u001b[1;33m\u001b[0m\u001b[0m\n\u001b[0m\u001b[0;32m      7\u001b[0m     \u001b[0mnumber\u001b[0m \u001b[1;33m=\u001b[0m \u001b[0mnumber\u001b[0m \u001b[1;33m//\u001b[0m \u001b[1;36m10\u001b[0m\u001b[1;33m\u001b[0m\u001b[1;33m\u001b[0m\u001b[0m\n\u001b[0;32m      8\u001b[0m \u001b[0mprint\u001b[0m\u001b[1;33m(\u001b[0m\u001b[1;34mf'{num} has {digits} in it'\u001b[0m\u001b[1;33m)\u001b[0m\u001b[1;33m\u001b[0m\u001b[1;33m\u001b[0m\u001b[0m\n",
      "\u001b[1;31mKeyboardInterrupt\u001b[0m: "
     ]
    }
   ],
   "source": [
    "num = int(input('Enter your number : '))\n",
    "number = num\n",
    "digits = 0\n",
    "\n",
    "while number >=0:\n",
    "    digits += 1\n",
    "    number = number // 10\n",
    "print(f'{num} has {digits} in it')"
   ]
  },
  {
   "cell_type": "code",
   "execution_count": null,
   "metadata": {},
   "outputs": [],
   "source": []
  },
  {
   "cell_type": "code",
   "execution_count": null,
   "metadata": {},
   "outputs": [],
   "source": [
    "num = int(input('Enter your number : ))\n",
    "number = num\n",
    "digits = 0\n",
    "\n",
    "last_digit = num%10\n",
    "number = num//10\n",
    "\n"
   ]
  },
  {
   "cell_type": "code",
   "execution_count": 68,
   "metadata": {},
   "outputs": [
    {
     "name": "stdout",
     "output_type": "stream",
     "text": [
      "{1: 'geeks', 2: 'for', 3: 'geeks', 'A': {1: 'c++', 2: 'java'}, 'B': {1: 'Ruby', 2: 'Perl'}}\n",
      "{1: 'c++', 2: 'java'}\n",
      "c++\n",
      "Perl\n",
      "{1: 'Ruby', 2: 'Perl'}\n",
      "{1: 'geeks', 2: 'for', 3: 'geeks', 'A': {1: 'c++', 2: 'java'}, 'B': {1: 'Ruby', 2: 'Perl'}, 'C': {'Name': 'deep', 'Age': 22}}\n"
     ]
    }
   ],
   "source": [
    "dict = {1:'geeks', 2:'for', 3:'geeks', 'A':{1:'c++', 2:'java'}, 'B':{1:'Ruby', 2:'Perl'}}\n",
    "print(dict)\n",
    "print(dict['A'])\n",
    "print(dict['A'][1])\n",
    "print(dict['B'][2])\n",
    "print(dict['B'])\n",
    "dict['C'] = {'Name':'deep', 'Age':22}\n",
    "print(dict)"
   ]
  },
  {
   "cell_type": "code",
   "execution_count": 70,
   "metadata": {},
   "outputs": [
    {
     "name": "stdout",
     "output_type": "stream",
     "text": [
      "geeks\n"
     ]
    }
   ],
   "source": [
    "dict = {1:'geeks', 2:'for', 3:'geeks', 'A':{1:'c++', 2:'java'}, 'B':{1:'Ruby', 2:'Perl'}}\n",
    "print(dict.pop(1))"
   ]
  },
  {
   "cell_type": "code",
   "execution_count": 71,
   "metadata": {},
   "outputs": [
    {
     "data": {
      "text/plain": [
       "{2: 'for', 3: 'geeks', 'A': {1: 'c++', 2: 'java'}, 'B': {1: 'Ruby', 2: 'Perl'}}"
      ]
     },
     "execution_count": 71,
     "metadata": {},
     "output_type": "execute_result"
    }
   ],
   "source": [
    "dict"
   ]
  },
  {
   "cell_type": "code",
   "execution_count": 81,
   "metadata": {},
   "outputs": [
    {
     "ename": "KeyError",
     "evalue": "'popitem(): dictionary is empty'",
     "output_type": "error",
     "traceback": [
      "\u001b[1;31m---------------------------------------------------------------------------\u001b[0m",
      "\u001b[1;31mKeyError\u001b[0m                                  Traceback (most recent call last)",
      "\u001b[1;32m<ipython-input-81-12284ca57f64>\u001b[0m in \u001b[0;36m<module>\u001b[1;34m\u001b[0m\n\u001b[1;32m----> 1\u001b[1;33m \u001b[0mprint\u001b[0m\u001b[1;33m(\u001b[0m\u001b[0mdict\u001b[0m\u001b[1;33m.\u001b[0m\u001b[0mpopitem\u001b[0m\u001b[1;33m(\u001b[0m\u001b[1;33m)\u001b[0m\u001b[1;33m)\u001b[0m\u001b[1;33m\u001b[0m\u001b[1;33m\u001b[0m\u001b[0m\n\u001b[0m",
      "\u001b[1;31mKeyError\u001b[0m: 'popitem(): dictionary is empty'"
     ]
    }
   ],
   "source": [
    "print(dict.popitem())"
   ]
  },
  {
   "cell_type": "code",
   "execution_count": 75,
   "metadata": {},
   "outputs": [
    {
     "name": "stdout",
     "output_type": "stream",
     "text": [
      "Help on built-in function pop:\n",
      "\n",
      "pop(...) method of builtins.dict instance\n",
      "    D.pop(k[,d]) -> v, remove specified key and return the corresponding value.\n",
      "    If key is not found, d is returned if given, otherwise KeyError is raised\n",
      "\n"
     ]
    }
   ],
   "source": [
    "help(dict.pop)"
   ]
  },
  {
   "cell_type": "code",
   "execution_count": 76,
   "metadata": {},
   "outputs": [
    {
     "name": "stdout",
     "output_type": "stream",
     "text": [
      "Help on built-in function popitem:\n",
      "\n",
      "popitem(...) method of builtins.dict instance\n",
      "    D.popitem() -> (k, v), remove and return some (key, value) pair as a\n",
      "    2-tuple; but raise KeyError if D is empty.\n",
      "\n"
     ]
    }
   ],
   "source": [
    "help(dict.popitem)"
   ]
  },
  {
   "cell_type": "code",
   "execution_count": null,
   "metadata": {},
   "outputs": [],
   "source": []
  },
  {
   "cell_type": "code",
   "execution_count": 89,
   "metadata": {},
   "outputs": [],
   "source": [
    "dict[2] = 'c++'\n",
    "dict[3] = 'java'\n",
    "dict[4] = {'A':'ruby','C':'perl'}"
   ]
  },
  {
   "cell_type": "code",
   "execution_count": 90,
   "metadata": {},
   "outputs": [
    {
     "data": {
      "text/plain": [
       "{2: 'c++', 3: 'java', 4: {'A': 'ruby', 'C': 'perl'}}"
      ]
     },
     "execution_count": 90,
     "metadata": {},
     "output_type": "execute_result"
    }
   ],
   "source": [
    "dict"
   ]
  },
  {
   "cell_type": "code",
   "execution_count": 92,
   "metadata": {},
   "outputs": [
    {
     "name": "stdout",
     "output_type": "stream",
     "text": [
      "(4, {'A': 'ruby', 'C': 'perl'})\n"
     ]
    }
   ],
   "source": [
    "print(dict.popitem())"
   ]
  },
  {
   "cell_type": "code",
   "execution_count": 93,
   "metadata": {},
   "outputs": [
    {
     "data": {
      "text/plain": [
       "{2: 'c++', 3: 'java'}"
      ]
     },
     "execution_count": 93,
     "metadata": {},
     "output_type": "execute_result"
    }
   ],
   "source": [
    "dict"
   ]
  },
  {
   "cell_type": "code",
   "execution_count": 95,
   "metadata": {},
   "outputs": [
    {
     "ename": "TypeError",
     "evalue": "pop expected at least 1 arguments, got 0",
     "output_type": "error",
     "traceback": [
      "\u001b[1;31m---------------------------------------------------------------------------\u001b[0m",
      "\u001b[1;31mTypeError\u001b[0m                                 Traceback (most recent call last)",
      "\u001b[1;32m<ipython-input-95-78915b68ddfe>\u001b[0m in \u001b[0;36m<module>\u001b[1;34m\u001b[0m\n\u001b[1;32m----> 1\u001b[1;33m \u001b[0mprint\u001b[0m\u001b[1;33m(\u001b[0m\u001b[0mdict\u001b[0m\u001b[1;33m.\u001b[0m\u001b[0mpop\u001b[0m\u001b[1;33m(\u001b[0m\u001b[1;33m)\u001b[0m\u001b[1;33m)\u001b[0m\u001b[1;33m\u001b[0m\u001b[1;33m\u001b[0m\u001b[0m\n\u001b[0m",
      "\u001b[1;31mTypeError\u001b[0m: pop expected at least 1 arguments, got 0"
     ]
    }
   ],
   "source": [
    "print(dict.pop())"
   ]
  },
  {
   "cell_type": "code",
   "execution_count": 96,
   "metadata": {},
   "outputs": [
    {
     "data": {
      "text/plain": [
       "{3: 'java'}"
      ]
     },
     "execution_count": 96,
     "metadata": {},
     "output_type": "execute_result"
    }
   ],
   "source": [
    "dict"
   ]
  },
  {
   "cell_type": "code",
   "execution_count": 97,
   "metadata": {},
   "outputs": [
    {
     "name": "stdout",
     "output_type": "stream",
     "text": [
      "Help on built-in function clear:\n",
      "\n",
      "clear(...) method of builtins.dict instance\n",
      "    D.clear() -> None.  Remove all items from D.\n",
      "\n"
     ]
    }
   ],
   "source": [
    "help(dict.clear)"
   ]
  },
  {
   "cell_type": "code",
   "execution_count": 98,
   "metadata": {},
   "outputs": [
    {
     "name": "stdout",
     "output_type": "stream",
     "text": [
      "None\n"
     ]
    }
   ],
   "source": [
    "print(dict.clear())"
   ]
  },
  {
   "cell_type": "code",
   "execution_count": 99,
   "metadata": {},
   "outputs": [
    {
     "data": {
      "text/plain": [
       "{}"
      ]
     },
     "execution_count": 99,
     "metadata": {},
     "output_type": "execute_result"
    }
   ],
   "source": [
    "dict"
   ]
  },
  {
   "cell_type": "code",
   "execution_count": 105,
   "metadata": {},
   "outputs": [
    {
     "name": "stdout",
     "output_type": "stream",
     "text": [
      "Help on built-in function keys:\n",
      "\n",
      "keys(...) method of builtins.dict instance\n",
      "    D.keys() -> a set-like object providing a view on D's keys\n",
      "\n"
     ]
    }
   ],
   "source": [
    "help(dict.keys)"
   ]
  },
  {
   "cell_type": "code",
   "execution_count": 107,
   "metadata": {},
   "outputs": [
    {
     "name": "stdout",
     "output_type": "stream",
     "text": [
      "dict_keys([])\n"
     ]
    }
   ],
   "source": [
    "print(dict.keys())"
   ]
  },
  {
   "cell_type": "code",
   "execution_count": 108,
   "metadata": {},
   "outputs": [
    {
     "name": "stdout",
     "output_type": "stream",
     "text": [
      "dict_values([])\n"
     ]
    }
   ],
   "source": [
    "print(dict.values())"
   ]
  },
  {
   "cell_type": "code",
   "execution_count": 109,
   "metadata": {},
   "outputs": [
    {
     "name": "stdout",
     "output_type": "stream",
     "text": [
      "dict_items([])\n"
     ]
    }
   ],
   "source": [
    "print(dict.items())"
   ]
  },
  {
   "cell_type": "code",
   "execution_count": 113,
   "metadata": {},
   "outputs": [
    {
     "name": "stdout",
     "output_type": "stream",
     "text": [
      "None\n"
     ]
    }
   ],
   "source": [
    "print(dict.get('d'))"
   ]
  },
  {
   "cell_type": "code",
   "execution_count": 3,
   "metadata": {},
   "outputs": [
    {
     "name": "stdout",
     "output_type": "stream",
     "text": [
      "Help on method_descriptor:\n",
      "\n",
      "update(...)\n",
      "    D.update([E, ]**F) -> None.  Update D from dict/iterable E and F.\n",
      "    If E is present and has a .keys() method, then does:  for k in E: D[k] = E[k]\n",
      "    If E is present and lacks a .keys() method, then does:  for k, v in E: D[k] = v\n",
      "    In either case, this is followed by: for k in F:  D[k] = F[k]\n",
      "\n"
     ]
    }
   ],
   "source": [
    "help(dict.update)"
   ]
  },
  {
   "cell_type": "code",
   "execution_count": 5,
   "metadata": {},
   "outputs": [
    {
     "data": {
      "text/plain": [
       "dict"
      ]
     },
     "execution_count": 5,
     "metadata": {},
     "output_type": "execute_result"
    }
   ],
   "source": [
    "dict"
   ]
  },
  {
   "cell_type": "code",
   "execution_count": 8,
   "metadata": {},
   "outputs": [
    {
     "name": "stdout",
     "output_type": "stream",
     "text": [
      "{'name': 'python', 'father': 'Guido Van Rossum', 'launch': 1994, 'versions': ['1.X', '2.X', '3.X']}\n",
      "{'name': 'python', 'father': 'Guido Van Rossum', 'launch': 1994, 'versions': ['1.X', '2.X', '3.X']}\n"
     ]
    }
   ],
   "source": [
    "info = { 'name': \"python\", 'father': 'Guido Van Rossum',\n",
    "       'launch': 1994, 'versions': ['1.X', '2.X', '3.X'],\n",
    "       }\n",
    "print(str(info))\n",
    "print(info)"
   ]
  },
  {
   "cell_type": "code",
   "execution_count": 14,
   "metadata": {},
   "outputs": [
    {
     "ename": "AttributeError",
     "evalue": "'dict' object has no attribute 'has_key'",
     "output_type": "error",
     "traceback": [
      "\u001b[1;31m---------------------------------------------------------------------------\u001b[0m",
      "\u001b[1;31mAttributeError\u001b[0m                            Traceback (most recent call last)",
      "\u001b[1;32m<ipython-input-14-d93c2bf5651d>\u001b[0m in \u001b[0;36m<module>\u001b[1;34m\u001b[0m\n\u001b[1;32m----> 1\u001b[1;33m \u001b[0mprint\u001b[0m\u001b[1;33m(\u001b[0m\u001b[0minfo\u001b[0m\u001b[1;33m.\u001b[0m\u001b[0mhas_key\u001b[0m\u001b[1;33m(\u001b[0m\u001b[1;34m'name'\u001b[0m\u001b[1;33m)\u001b[0m\u001b[1;33m)\u001b[0m\u001b[1;33m\u001b[0m\u001b[1;33m\u001b[0m\u001b[0m\n\u001b[0m",
      "\u001b[1;31mAttributeError\u001b[0m: 'dict' object has no attribute 'has_key'"
     ]
    }
   ],
   "source": [
    "print(info.has_key('name'))"
   ]
  },
  {
   "cell_type": "code",
   "execution_count": 16,
   "metadata": {},
   "outputs": [
    {
     "data": {
      "text/plain": [
       "'key not available'"
      ]
     },
     "execution_count": 16,
     "metadata": {},
     "output_type": "execute_result"
    }
   ],
   "source": [
    "info.pop('color', 'key not available')"
   ]
  },
  {
   "cell_type": "code",
   "execution_count": 17,
   "metadata": {},
   "outputs": [
    {
     "data": {
      "text/plain": [
       "{'father': 'Guido Van Rossum',\n",
       " 'launch': 1994,\n",
       " 'versions': ['1.X', '2.X', '3.X']}"
      ]
     },
     "execution_count": 17,
     "metadata": {},
     "output_type": "execute_result"
    }
   ],
   "source": [
    "info"
   ]
  },
  {
   "cell_type": "code",
   "execution_count": 18,
   "metadata": {},
   "outputs": [
    {
     "name": "stdout",
     "output_type": "stream",
     "text": [
      "{'father': 'Guido Van Rossum', 'launch': 1994, 'versions': ['1.X', '2.X', '3.X']}\n"
     ]
    }
   ],
   "source": [
    " print(info)"
   ]
  },
  {
   "cell_type": "code",
   "execution_count": 24,
   "metadata": {},
   "outputs": [
    {
     "name": "stdout",
     "output_type": "stream",
     "text": [
      "{'father', 'versions', 'launch'}\n"
     ]
    }
   ],
   "source": [
    "dict3 = {*info, *info}\n",
    "print(dict3)"
   ]
  },
  {
   "cell_type": "code",
   "execution_count": 26,
   "metadata": {},
   "outputs": [
    {
     "name": "stdout",
     "output_type": "stream",
     "text": [
      "Help on method_descriptor:\n",
      "\n",
      "lstrip(self, chars=None, /)\n",
      "    Return a copy of the string with leading whitespace removed.\n",
      "    \n",
      "    If chars is given and not None, remove characters in chars instead.\n",
      "\n"
     ]
    }
   ],
   "source": [
    "help(str.lstrip)"
   ]
  },
  {
   "cell_type": "code",
   "execution_count": 10,
   "metadata": {},
   "outputs": [
    {
     "name": "stdout",
     "output_type": "stream",
     "text": [
      "{'t', 'P', 'y', 'o', 'n', 'h'}\n"
     ]
    }
   ],
   "source": [
    "s = set(\"Python\")\n",
    "print(s)"
   ]
  },
  {
   "cell_type": "code",
   "execution_count": 12,
   "metadata": {},
   "outputs": [
    {
     "name": "stdout",
     "output_type": "stream",
     "text": [
      "{'t', 'P', 'y', 'o', 'n', 'h'}\n"
     ]
    }
   ],
   "source": [
    "string = 'Python'\n",
    "set2 = set(string)\n",
    "print(set2)"
   ]
  },
  {
   "cell_type": "code",
   "execution_count": 4,
   "metadata": {},
   "outputs": [
    {
     "name": "stdout",
     "output_type": "stream",
     "text": [
      "0\n",
      "1\n"
     ]
    }
   ],
   "source": [
    "s = 'HelloWorld'\n",
    "i = 0\n",
    "j = 0\n",
    "k = 0\n",
    "while k <len(s):\n",
    "    if s[i].islower():\n",
    "        i += 1\n",
    "    elif s[j].isupper():\n",
    "        j += 1\n",
    "    k+=1\n",
    "print(i)\n",
    "print(j)"
   ]
  },
  {
   "cell_type": "code",
   "execution_count": 27,
   "metadata": {},
   "outputs": [
    {
     "name": "stdout",
     "output_type": "stream",
     "text": [
      "aweSOME\n"
     ]
    }
   ],
   "source": [
    "s = 'SaOwMEe'\n",
    "lower = []\n",
    "upper = []\n",
    "i = 0\n",
    "while i < len(s):\n",
    "    if s[i].islower():\n",
    "        lower.append(s[i])\n",
    "    elif s[i].isupper():\n",
    "        upper.append(s[i])\n",
    "    i+=1\n",
    "\n",
    "s = lower+upper\n",
    "s1 = ''.join(s)\n",
    "print(s1)"
   ]
  },
  {
   "cell_type": "code",
   "execution_count": 28,
   "metadata": {},
   "outputs": [
    {
     "name": "stdout",
     "output_type": "stream",
     "text": [
      "gaurav\n",
      "deepratan\n",
      "naman\n",
      "arshika\n",
      "ankur\n"
     ]
    }
   ],
   "source": [
    "data = ['gaurav', 'deepratan', 'naman', 'arshika', 'ankur']\n",
    "i = 0\n",
    "while i<len(data):\n",
    "    print(data[i])\n",
    "    i+=1"
   ]
  },
  {
   "cell_type": "code",
   "execution_count": 37,
   "metadata": {},
   "outputs": [
    {
     "name": "stdout",
     "output_type": "stream",
     "text": [
      "name : deepratan\n",
      "name exists\n"
     ]
    }
   ],
   "source": [
    "data = ['gaurav', 'deepratan', 'naman', 'arshika', 'ankur']\n",
    "name = input('name : ').strip().lower()\n",
    "i = 0\n",
    "while i<len(data):\n",
    "    if name == data[i]:\n",
    "        print('name exists')\n",
    "        break\n",
    "    i+=1\n",
    "\n",
    "if i == len(data):\n",
    "    print('not exist')\n",
    "    "
   ]
  },
  {
   "cell_type": "code",
   "execution_count": 40,
   "metadata": {},
   "outputs": [
    {
     "name": "stdout",
     "output_type": "stream",
     "text": [
      "name : sachin\n",
      "not exist\n"
     ]
    }
   ],
   "source": [
    "data = ['gaurav', 'deepratan', 'naman', 'arshika', 'ankur']\n",
    "name = input('name : ').strip().lower()\n",
    "i = 0\n",
    "\n",
    "flag = False\n",
    "\n",
    "while i<len(data):\n",
    "    if name == data[i]:\n",
    "        flag = True\n",
    "        break\n",
    "    i+=1\n",
    "\n",
    "if flag:\n",
    "    print('Exists')\n",
    "else:\n",
    "    print('not exist')"
   ]
  },
  {
   "cell_type": "code",
   "execution_count": 42,
   "metadata": {},
   "outputs": [
    {
     "name": "stdout",
     "output_type": "stream",
     "text": [
      "name : sachin\n",
      "not exist\n"
     ]
    }
   ],
   "source": [
    "data = ['gaurav', 'deepratan', 'naman', 'arshika', 'ankur']\n",
    "name = input('name : ').strip().lower()\n",
    "i = 0\n",
    "while i<len(data):\n",
    "    if name == data[i]:\n",
    "        print('name exists')\n",
    "        break\n",
    "    i+=1\n",
    "else:\n",
    "    print('not exist')"
   ]
  },
  {
   "cell_type": "code",
   "execution_count": 49,
   "metadata": {},
   "outputs": [
    {
     "name": "stdout",
     "output_type": "stream",
     "text": [
      "{2, 3, 4, 5, 6, 7, 8, (6, 7)}\n"
     ]
    }
   ],
   "source": [
    "set1 = set([4,5,6,4,3,2,7,8,(6,7)])\n",
    "print(set1)"
   ]
  },
  {
   "cell_type": "code",
   "execution_count": 50,
   "metadata": {},
   "outputs": [],
   "source": [
    "set1.update([10, 11])"
   ]
  },
  {
   "cell_type": "code",
   "execution_count": 51,
   "metadata": {},
   "outputs": [
    {
     "data": {
      "text/plain": [
       "{(6, 7), 10, 11, 2, 3, 4, 5, 6, 7, 8}"
      ]
     },
     "execution_count": 51,
     "metadata": {},
     "output_type": "execute_result"
    }
   ],
   "source": [
    "set1"
   ]
  },
  {
   "cell_type": "code",
   "execution_count": 54,
   "metadata": {},
   "outputs": [
    {
     "name": "stdout",
     "output_type": "stream",
     "text": [
      "10\n"
     ]
    }
   ],
   "source": [
    "lst = [1,2,3,4]\n",
    "result = sum(lst)\n",
    "print(result)"
   ]
  },
  {
   "cell_type": "code",
   "execution_count": 55,
   "metadata": {},
   "outputs": [
    {
     "name": "stdout",
     "output_type": "stream",
     "text": [
      "frozenset({'k', 's', 'f', 'o', 'e', 'r', 'g'})\n"
     ]
    }
   ],
   "source": [
    "s = {'g', 'e', 'e', 'k', 's', 'f', 'o', 'r', 'g', 'e', 'e', 'k', 's' }\n",
    "fSet1 = frozenset(s)\n",
    "print(fSet1)"
   ]
  },
  {
   "cell_type": "code",
   "execution_count": 57,
   "metadata": {},
   "outputs": [
    {
     "name": "stdout",
     "output_type": "stream",
     "text": [
      "frozenset({'a', 'n', 'p', 'e', 'r', 'd', 't'})\n"
     ]
    }
   ],
   "source": [
    "s = {'d','e','e','p','r','a','t','a','n'}\n",
    "fSet1 = frozenset(s)\n",
    "print(fSet1)"
   ]
  },
  {
   "cell_type": "code",
   "execution_count": 10,
   "metadata": {},
   "outputs": [
    {
     "name": "stdout",
     "output_type": "stream",
     "text": [
      "[4, 2, 10, 2, 4, 6, 6, 7, 10, 9]\n",
      "[4, 2, 10, 2, 4, 6, 6, 10]\n"
     ]
    }
   ],
   "source": [
    "import random\n",
    "d = [random.randint(1,10) for i in range(10)]\n",
    "print(d)\n",
    "d1 = []\n",
    "for x in d:\n",
    "    if x%2==0:\n",
    "        d1.append(x)\n",
    "print(d1)"
   ]
  },
  {
   "cell_type": "code",
   "execution_count": 19,
   "metadata": {},
   "outputs": [
    {
     "name": "stdout",
     "output_type": "stream",
     "text": [
      "____________Available Items_____________\n",
      "Dish = \"       PIZZA        \" Price =  350\n",
      "Dish = \"    SPRING_ROLL     \" Price =  60\n",
      "Dish = \"       MOMOS        \" Price =  50\n",
      "Dish = \"   CHOLE_BHATURE    \" Price =  120\n",
      "Dish = \"   CHICKEN_TIKKA    \" Price =  150\n",
      "enter item : MoMos\n",
      "enter quantity2\n",
      "Enter distance : 10\n",
      "120\n"
     ]
    }
   ],
   "source": [
    "from pprint import pprint\n",
    "\n",
    "menu = {'pizza':350, 'spring_roll':60, 'momos':50, 'chole_bhature':120, 'chicken_tikka':150}\n",
    "\n",
    "print('Available Items'.center(40, '_'))\n",
    "\n",
    "for i in menu:\n",
    "    print(f'Dish = \"{i.upper().center(20)}\" Price =  {menu[i]}')\n",
    "    \n",
    "item = input('enter item : ').strip().lower()\n",
    "\n",
    "qty = int(input('enter quantity').strip())\n",
    "\n",
    "distance = int(input('Enter distance : ').strip())\n",
    "\n",
    "amount = menu[item] * qty\n",
    "\n",
    "delivery_charge = 0\n",
    "\n",
    "if distance == 3:\n",
    "    delivery_charge=0\n",
    "    \n",
    "if 3 < distance <= 6:\n",
    "    delivery_charge = (distance-3)*2\n",
    "    \n",
    "if 6 < distance <= 9:\n",
    "    delivery_charge = (distance-6)*3 + 6\n",
    "    \n",
    "if distance > 9:\n",
    "    delivery_charge = (distance-9)*5 + 15\n",
    "    \n",
    "final_amount = amount + delivery_charge\n",
    "\n",
    "print(final_amount)"
   ]
  },
  {
   "cell_type": "code",
   "execution_count": 31,
   "metadata": {},
   "outputs": [
    {
     "name": "stdout",
     "output_type": "stream",
     "text": [
      "8 -10\n",
      "5 6 7\n",
      "5\n",
      "6\n",
      "7\n",
      "8\n",
      "-10\n"
     ]
    }
   ],
   "source": [
    "# Enter your code here. Read input from STDIN. Print output to STDOUT\n",
    "\n",
    "M = input().split()\n",
    "lis1 = list(map(int, M))\n",
    "N = input().split()\n",
    "lis2 = list(map(int, N))\n",
    "set1 = set(lis1)\n",
    "set2 = set(lis2)\n",
    "set3 = set1.symmetric_difference(set2)\n",
    "print(*set3, sep='\\n')"
   ]
  },
  {
   "cell_type": "code",
   "execution_count": 37,
   "metadata": {},
   "outputs": [
    {
     "name": "stdout",
     "output_type": "stream",
     "text": [
      "5\n",
      "1 2 3 4 5 6 7 8 9\n",
      "3\n",
      "pop remove discard\n",
      "9\n",
      "8\n",
      "44\n"
     ]
    }
   ],
   "source": [
    "n = int(input())\n",
    "s = set(map(int, input().split()))\n",
    "N = int(input())\n",
    "\n",
    "for i in range(N):\n",
    "    choice=input().split()\n",
    "    \n",
    "    if choice[0]==\"pop\" :\n",
    "        s.pop()\n",
    "    elif choice[0]==\"remove\" :\n",
    "        s.remove(int(choice[1]))\n",
    "    elif choice[0]==\"discard\" :\n",
    "        s.discard(int(choice[1]))\n",
    "\n",
    "print(sum(s))\n"
   ]
  },
  {
   "cell_type": "code",
   "execution_count": 46,
   "metadata": {},
   "outputs": [
    {
     "name": "stdout",
     "output_type": "stream",
     "text": [
      "1 2 3 4 5 6\n",
      "2 \n",
      "1 2 3 4\n",
      "6 3 2 3 1\n",
      "False\n"
     ]
    }
   ],
   "source": [
    "# not good # wrong\n",
    "\n",
    "setA = set(map(int, input().split()))\n",
    "n = int(input())\n",
    "other_set = set()\n",
    "result1 = []\n",
    "for i in range(n):\n",
    "    other_set.add(map(int,input().split()))\n",
    "    result = setA.issuperset(other_set)\n",
    "    result1.append(result)\n",
    "    other_set.clear()\n",
    "print(all(result1))"
   ]
  },
  {
   "cell_type": "code",
   "execution_count": 45,
   "metadata": {},
   "outputs": [
    {
     "name": "stdout",
     "output_type": "stream",
     "text": [
      "1 2 3 4 5 6 7 8 9 10\n",
      "2\n",
      "1 2 3 4 5\n",
      "8 5 6 7 9 2\n",
      "True\n"
     ]
    }
   ],
   "source": [
    "# right solution\n",
    "setA = set(map(int, input().split()))\n",
    "n = int(input())\n",
    "result1 = []\n",
    "for i in range(n):\n",
    "    result = setA.issuperset(set(map(int,input().split())))\n",
    "    result1.append(result)\n",
    "print(all(result1))"
   ]
  },
  {
   "cell_type": "code",
   "execution_count": 9,
   "metadata": {},
   "outputs": [
    {
     "name": "stdout",
     "output_type": "stream",
     "text": [
      "2\n",
      "deep 34  56  78\n",
      "shruti 32 45 57\n",
      "deep\n",
      "56.00\n"
     ]
    }
   ],
   "source": [
    "if __name__ == '__main__':\n",
    "    n = int(input())\n",
    "    dict1 = {}\n",
    "    for _ in range(n):\n",
    "        name, s1,s2,s3 = input().split()\n",
    "        if '.' in s1:\n",
    "            s1=float(s1)\n",
    "        else:\n",
    "            s1=int(s1)\n",
    "        if '.' in s2:\n",
    "            s2 = float(s2)\n",
    "        else:\n",
    "            s2=int(s2)\n",
    "        if '.' in s3:\n",
    "            s3 = float(s3)\n",
    "        else:\n",
    "            s3=int(s3)\n",
    "            \n",
    "        dict1[name] = [s1, s2, s3]\n",
    "\n",
    "    s_name = input()\n",
    "    average = (f'{sum(dict1[s_name])/3:.2f}')\n",
    "    print(average)\n",
    "    \n"
   ]
  },
  {
   "cell_type": "code",
   "execution_count": 6,
   "metadata": {},
   "outputs": [
    {
     "name": "stdout",
     "output_type": "stream",
     "text": [
      "---------.|.---------\n"
     ]
    }
   ],
   "source": [
    "print('.|.'.center(21, '-'))"
   ]
  },
  {
   "cell_type": "code",
   "execution_count": 3,
   "metadata": {},
   "outputs": [
    {
     "name": "stdout",
     "output_type": "stream",
     "text": [
      "Help on method_descriptor:\n",
      "\n",
      "center(self, width, fillchar=' ', /)\n",
      "    Return a centered string of length width.\n",
      "    \n",
      "    Padding is done using the specified fill character (default is a space).\n",
      "\n"
     ]
    }
   ],
   "source": [
    "help(str.center)"
   ]
  },
  {
   "cell_type": "code",
   "execution_count": 26,
   "metadata": {},
   "outputs": [
    {
     "data": {
      "text/plain": [
       "'.|.'"
      ]
     },
     "execution_count": 26,
     "metadata": {},
     "output_type": "execute_result"
    }
   ],
   "source": [
    "str = '.|.'\n",
    "str2=str *3\n",
    "str"
   ]
  },
  {
   "cell_type": "code",
   "execution_count": 27,
   "metadata": {},
   "outputs": [
    {
     "data": {
      "text/plain": [
       "'.|..|..|.'"
      ]
     },
     "execution_count": 27,
     "metadata": {},
     "output_type": "execute_result"
    }
   ],
   "source": [
    "\n",
    "\n",
    "str2"
   ]
  },
  {
   "cell_type": "code",
   "execution_count": 31,
   "metadata": {},
   "outputs": [
    {
     "name": "stdout",
     "output_type": "stream",
     "text": [
      "7 21\n",
      "---------.|.---------\n",
      "------.|..|..|.------\n",
      "---.|..|..|..|..|.---\n",
      ".|..|..|..|..|..|..|.\n",
      ".|..|..|..|..|..|..|..|..|.\n",
      ".|..|..|..|..|..|..|..|..|..|..|.\n",
      ".|..|..|..|..|..|..|..|..|..|..|..|..|.\n"
     ]
    }
   ],
   "source": [
    "N, M = map(int, input().split())\n",
    "str = '.|.'\n",
    "n = 1\n",
    "for _ in range(N):\n",
    "    str1 = str*n\n",
    "    print(str1.center(M, '-'))\n",
    "    n += 2"
   ]
  },
  {
   "cell_type": "code",
   "execution_count": 32,
   "metadata": {},
   "outputs": [
    {
     "name": "stdout",
     "output_type": "stream",
     "text": [
      "Help on built-in function startswith:\n",
      "\n",
      "startswith(...) method of builtins.str instance\n",
      "    S.startswith(prefix[, start[, end]]) -> bool\n",
      "    \n",
      "    Return True if S starts with the specified prefix, False otherwise.\n",
      "    With optional start, test S beginning at that position.\n",
      "    With optional end, stop comparing S at that position.\n",
      "    prefix can also be a tuple of strings to try.\n",
      "\n"
     ]
    }
   ],
   "source": [
    "help(str.startswith)"
   ]
  },
  {
   "cell_type": "code",
   "execution_count": 1,
   "metadata": {
    "scrolled": true
   },
   "outputs": [
    {
     "name": "stdout",
     "output_type": "stream",
     "text": [
      "5 3\n",
      "12 23 12 10 34\n",
      "23 34 12 45 45\n",
      "23 34 12 34 12\n",
      "23 45 12 13 34\n",
      "34 12 34 23 34\n",
      "[[12.0, 23.0, 12.0, 10.0, 34.0], [23.0, 34.0, 12.0, 45.0, 45.0], [23.0, 34.0, 12.0, 34.0, 12.0], [23.0, 45.0, 12.0, 13.0, 34.0], [34.0, 12.0, 34.0, 23.0, 34.0]]\n",
      "18.2\n",
      "31.8\n",
      "23.0\n",
      "25.4\n",
      "27.4\n"
     ]
    }
   ],
   "source": [
    "N, X = map(int, input().split())\n",
    "\n",
    "lst = []\n",
    "lst1 = []\n",
    "\n",
    "for _ in range(1, N+1):\n",
    "    lst.append(_)\n",
    "    for _ in range(1):\n",
    "        lst1.append(list(map(float, input().split())))\n",
    "\n",
    "print(lst1)\n",
    "dict1 = dict(zip(lst, lst1))\n",
    "\n",
    "for i in dict1.keys():\n",
    "    average = sum(dict1[i])/len(dict1[i])\n",
    "    print(f'{average:.1f}')"
   ]
  },
  {
   "cell_type": "code",
   "execution_count": null,
   "metadata": {},
   "outputs": [],
   "source": []
  },
  {
   "cell_type": "code",
   "execution_count": 17,
   "metadata": {},
   "outputs": [
    {
     "name": "stdout",
     "output_type": "stream",
     "text": [
      "100 13\n",
      "50 86 89 51 57 98 99 69 60 94 52 87 69 79 70 93 94 90 53 60 60 55 61 52 71 67 64 53 86 84 86 55 59 81 64 50 64 52 93 82 83 60 69 99 88 96 84 70 82 55 61 94 96 82 72 60 74 56 58 85 70 81 52 63 60 75 74 80 58 51 95 70 76 75 54 61 97 64 58 61 80 81 53 91 69 64 95 84 86 65 67 93 95 85 60 82 85 79 66 88\n",
      "73 77 62 79 85 86 93 69 82 79 51 99 70 99 50 52 85 98 79 62 74 79 79 87 65 54 62 77 63 64 86 79 84 90 71 59 79 78 97 81 54 73 72 85 97 77 97 62 81 92 89 76 68 96 63 52 84 97 88 99 80 59 62 90 99 78 54 68 72 98 78 97 84 74 71 87 82 95 55 51 90 88 51 60 83 89 62 58 93 53 60 59 58 77 68 91 50 77 68 71\n",
      "83 76 75 80 90 58 60 66 59 76 85 62 94 67 80 70 77 98 78 66 55 86 97 84 50 84 99 62 62 82 93 70 77 56 66 67 93 96 63 82 70 90 63 87 72 86 82 79 88 85 60 88 93 56 65 88 53 95 83 82 55 70 64 86 99 99 99 90 77 51 79 93 64 78 75 63 84 58 56 61 73 87 63 61 66 52 56 86 60 91 61 84 81 98 69 71 76 89 78 55\n",
      "76 61 79 68 50 93 65 70 80 75 81 99 66 57 75 91 70 62 58 95 90 56 80 67 94 96 78 52 66 57 60 51 71 64 81 78 84 52 63 85 99 51 95 56 77 64 87 57 75 72 89 53 52 96 98 71 61 73 51 95 86 57 65 74 72 93 63 83 65 96 77 78 60 72 87 88 61 54 93 56 53 57 57 98 68 76 88 70 89 70 96 65 83 81 94 98 71 84 93 90\n",
      "57 56 88 73 78 61 93 63 59 95 82 55 74 54 96 99 50 83 51 55 76 95 67 60 66 66 77 80 99 55 50 83 64 88 53 90 86 79 82 55 84 64 64 93 80 75 67 51 81 58 80 81 93 51 86 62 55 82 87 68 51 86 98 92 83 66 74 59 56 70 59 96 55 79 79 95 89 59 75 77 92 52 70 89 83 59 69 67 90 99 71 57 95 51 79 70 91 97 59 85\n",
      "64 70 97 67 89 79 62 91 61 76 53 51 83 51 97 81 68 77 99 92 97 65 59 95 89 90 83 97 60 51 51 94 67 83 61 87 91 99 93 61 71 95 86 65 64 54 80 92 63 54 62 62 66 99 58 63 66 74 85 94 86 77 95 73 93 56 68 73 57 68 88 88 77 79 77 64 66 84 83 91 94 79 55 58 75 66 76 80 73 81 92 99 63 59 88 51 68 96 95 97\n",
      "76 58 53 74 88 98 80 60 73 61 74 98 88 93 80 96 85 56 94 88 64 91 92 90 77 62 77 72 82 74 88 98 97 55 67 88 97 71 57 83 68 84 61 61 82 57 58 75 84 86 84 81 81 99 54 66 82 52 73 67 83 56 97 75 79 75 51 93 77 60 75 97 83 91 77 66 67 67 70 73 62 78 80 64 56 66 65 60 54 71 80 93 90 51 75 74 98 92 69 98\n",
      "86 50 75 60 83 85 91 52 67 85 58 67 73 52 96 63 93 84 56 61 75 88 95 56 53 70 69 51 58 78 77 59 96 60 85 99 85 71 94 83 82 90 53 71 74 57 51 98 67 89 62 58 63 60 95 97 99 97 72 54 98 95 76 86 90 77 63 85 71 98 84 88 96 58 94 68 85 92 74 78 77 58 99 58 64 73 67 97 74 89 82 68 63 98 93 56 66 92 97 77\n",
      "90 95 86 89 52 99 74 71 99 55 56 86 70 94 76 67 80 67 62 66 55 73 81 66 84 57 61 74 55 62 90 62 52 67 84 60 77 84 98 68 59 79 91 95 57 52 95 89 80 53 96 97 80 81 90 60 96 64 82 59 90 87 86 92 97 68 62 73 98 92 92 61 83 88 64 92 71 50 71 51 68 70 52 91 80 99 88 70 59 85 97 74 60 56 50 72 83 58 51 60\n",
      "57 86 62 56 84 89 79 97 57 88 84 61 62 92 62 70 92 58 63 57 77 51 51 72 93 85 56 85 97 79 90 77 61 52 82 60 80 98 66 96 97 64 56 89 98 87 50 76 63 94 75 77 56 85 57 98 65 68 60 74 90 94 99 62 55 79 60 88 99 52 51 73 59 64 85 62 86 81 80 74 52 51 50 76 78 62 97 83 94 56 61 52 59 52 62 69 70 50 84 72\n",
      "82 99 70 63 88 87 70 79 62 81 99 58 54 83 80 67 65 92 58 52 70 96 90 84 90 99 64 68 61 73 65 50 85 59 87 88 79 80 55 59 63 67 94 84 81 69 57 76 71 68 75 79 79 62 53 92 85 91 65 64 59 68 55 93 85 71 57 99 88 62 82 68 69 54 55 75 96 94 54 89 64 93 76 81 58 84 52 93 61 90 62 85 71 90 78 62 69 69 82 57\n",
      "54 87 70 61 56 98 89 86 86 99 73 90 53 51 62 75 50 56 83 90 82 62 76 71 65 91 73 54 62 69 98 99 88 68 77 55 93 83 77 91 57 97 56 89 62 55 67 84 56 73 78 79 85 79 81 90 85 98 94 55 65 94 67 87 83 80 59 84 89 74 64 88 84 94 89 77 64 71 72 70 65 95 80 89 86 78 72 88 90 62 98 81 71 58 64 75 88 54 97 76\n",
      "60 79 95 76 95 54 90 79 55 57 98 75 84 97 55 81 98 55 89 92 81 50 70 94 68 60 88 65 52 56 98 63 98 72 88 78 98 99 95 51 74 77 83 63 89 82 88 52 56 91 63 50 60 83 63 75 63 58 94 60 59 69 77 88 51 75 68 94 93 84 86 91 97 62 83 84 57 61 59 90 87 92 50 89 90 58 81 82 50 74 54 98 74 81 97 70 85 75 52 76\n"
     ]
    },
    {
     "ename": "ValueError",
     "evalue": "too many values to unpack (expected 3)",
     "output_type": "error",
     "traceback": [
      "\u001b[1;31m---------------------------------------------------------------------------\u001b[0m",
      "\u001b[1;31mValueError\u001b[0m                                Traceback (most recent call last)",
      "\u001b[1;32m<ipython-input-17-5dbccfac2be2>\u001b[0m in \u001b[0;36m<module>\u001b[1;34m\u001b[0m\n\u001b[0;32m      9\u001b[0m     \u001b[0mlst1\u001b[0m\u001b[1;33m.\u001b[0m\u001b[0mappend\u001b[0m\u001b[1;33m(\u001b[0m\u001b[0mlist\u001b[0m\u001b[1;33m(\u001b[0m\u001b[0mmap\u001b[0m\u001b[1;33m(\u001b[0m\u001b[0mfloat\u001b[0m\u001b[1;33m,\u001b[0m \u001b[0minput\u001b[0m\u001b[1;33m(\u001b[0m\u001b[1;33m)\u001b[0m\u001b[1;33m.\u001b[0m\u001b[0msplit\u001b[0m\u001b[1;33m(\u001b[0m\u001b[1;33m)\u001b[0m\u001b[1;33m)\u001b[0m\u001b[1;33m)\u001b[0m\u001b[1;33m)\u001b[0m\u001b[1;33m\u001b[0m\u001b[1;33m\u001b[0m\u001b[0m\n\u001b[0;32m     10\u001b[0m \u001b[1;33m\u001b[0m\u001b[0m\n\u001b[1;32m---> 11\u001b[1;33m \u001b[0ms1\u001b[0m\u001b[1;33m,\u001b[0m\u001b[0ms2\u001b[0m\u001b[1;33m,\u001b[0m\u001b[0ms3\u001b[0m \u001b[1;33m=\u001b[0m \u001b[0mlst1\u001b[0m\u001b[1;33m\u001b[0m\u001b[1;33m\u001b[0m\u001b[0m\n\u001b[0m\u001b[0;32m     12\u001b[0m \u001b[1;33m\u001b[0m\u001b[0m\n\u001b[0;32m     13\u001b[0m \u001b[0mlst2\u001b[0m \u001b[1;33m=\u001b[0m \u001b[0mlist\u001b[0m\u001b[1;33m(\u001b[0m\u001b[0mzip\u001b[0m\u001b[1;33m(\u001b[0m\u001b[0ms1\u001b[0m\u001b[1;33m,\u001b[0m \u001b[0ms2\u001b[0m\u001b[1;33m,\u001b[0m \u001b[0ms3\u001b[0m\u001b[1;33m)\u001b[0m\u001b[1;33m)\u001b[0m\u001b[1;33m\u001b[0m\u001b[1;33m\u001b[0m\u001b[0m\n",
      "\u001b[1;31mValueError\u001b[0m: too many values to unpack (expected 3)"
     ]
    }
   ],
   "source": [
    "N, X = map(int, input().split())\n",
    "\n",
    "lst = []\n",
    "lst1 = []\n",
    "\n",
    "for i in range(1,N+1):\n",
    "    lst.append(i)\n",
    "for j in range(X):\n",
    "    lst1.append(list(map(float, input().split())))\n",
    "\n",
    "s1,s2,s3 = lst1\n",
    "\n",
    "lst2 = list(zip(s1, s2, s3))\n",
    "\n",
    "dict1 = dict(zip(lst, lst2))\n",
    "\n",
    "for i in dict1.keys():\n",
    "    average = sum(dict1[i])/len(dict1[i])\n",
    "    print(f'{average:.1f}')\n"
   ]
  },
  {
   "cell_type": "code",
   "execution_count": 1,
   "metadata": {},
   "outputs": [
    {
     "name": "stdout",
     "output_type": "stream",
     "text": [
      "df\n"
     ]
    },
    {
     "ename": "ValueError",
     "evalue": "invalid literal for int() with base 10: 'df'",
     "output_type": "error",
     "traceback": [
      "\u001b[1;31m---------------------------------------------------------------------------\u001b[0m",
      "\u001b[1;31mValueError\u001b[0m                                Traceback (most recent call last)",
      "\u001b[1;32m<ipython-input-1-c0823165c20e>\u001b[0m in \u001b[0;36m<module>\u001b[1;34m\u001b[0m\n\u001b[0;32m      2\u001b[0m \u001b[1;33m\u001b[0m\u001b[0m\n\u001b[0;32m      3\u001b[0m \u001b[0mdict1\u001b[0m \u001b[1;33m=\u001b[0m \u001b[1;33m{\u001b[0m\u001b[1;33m}\u001b[0m\u001b[1;33m\u001b[0m\u001b[1;33m\u001b[0m\u001b[0m\n\u001b[1;32m----> 4\u001b[1;33m \u001b[0mn\u001b[0m \u001b[1;33m=\u001b[0m \u001b[0mint\u001b[0m\u001b[1;33m(\u001b[0m\u001b[0minput\u001b[0m\u001b[1;33m(\u001b[0m\u001b[1;33m)\u001b[0m\u001b[1;33m)\u001b[0m\u001b[1;33m\u001b[0m\u001b[1;33m\u001b[0m\u001b[0m\n\u001b[0m\u001b[0;32m      5\u001b[0m \u001b[1;32mfor\u001b[0m \u001b[0mi\u001b[0m \u001b[1;32min\u001b[0m \u001b[0mrange\u001b[0m\u001b[1;33m(\u001b[0m\u001b[0mn\u001b[0m\u001b[1;33m)\u001b[0m\u001b[1;33m:\u001b[0m\u001b[1;33m\u001b[0m\u001b[1;33m\u001b[0m\u001b[0m\n\u001b[0;32m      6\u001b[0m     \u001b[0mname\u001b[0m\u001b[1;33m,\u001b[0m \u001b[0mnumber\u001b[0m \u001b[1;33m=\u001b[0m \u001b[0minput\u001b[0m\u001b[1;33m(\u001b[0m\u001b[1;33m)\u001b[0m\u001b[1;33m.\u001b[0m\u001b[0msplit\u001b[0m\u001b[1;33m(\u001b[0m\u001b[1;33m)\u001b[0m\u001b[1;33m\u001b[0m\u001b[1;33m\u001b[0m\u001b[0m\n",
      "\u001b[1;31mValueError\u001b[0m: invalid literal for int() with base 10: 'df'"
     ]
    }
   ],
   "source": [
    "# Enter your code here. Read input from STDIN. Print output to STDOUT\n",
    "\n",
    "dict1 = {}\n",
    "n = int(input()) \n",
    "for i in range(n):\n",
    "    name, number = input().split()\n",
    "    dict1[name] = int(number)\n",
    "\n",
    "N = int(input()) \n",
    "lst = []\n",
    "for i in range(N):\n",
    "    query = input()\n",
    "    lst.append(query)\n",
    "    \n",
    "for j in lst:\n",
    "    if j in dict1.keys():\n",
    "        print(f'{j}={dict1[j]}')\n",
    "    else:\n",
    "        print('Not Found')\n"
   ]
  },
  {
   "cell_type": "code",
   "execution_count": 3,
   "metadata": {},
   "outputs": [
    {
     "data": {
      "text/plain": [
       "13"
      ]
     },
     "execution_count": 3,
     "metadata": {},
     "output_type": "execute_result"
    }
   ],
   "source": [
    "square_add = lambda a,b: a**2+b**2\n",
    "square_add(2,3)"
   ]
  },
  {
   "cell_type": "code",
   "execution_count": 19,
   "metadata": {},
   "outputs": [
    {
     "data": {
      "text/plain": [
       "True"
      ]
     },
     "execution_count": 19,
     "metadata": {},
     "output_type": "execute_result"
    }
   ],
   "source": [
    "is_even = lambda num:True if num%2==0 else False\n",
    "is_even(4)"
   ]
  },
  {
   "cell_type": "code",
   "execution_count": 23,
   "metadata": {},
   "outputs": [
    {
     "name": "stdout",
     "output_type": "stream",
     "text": [
      "12\n"
     ]
    }
   ],
   "source": [
    "greatest = lambda a,b:print(a) if a>b else print(b)\n",
    "greatest(9,12)"
   ]
  },
  {
   "cell_type": "code",
   "execution_count": 34,
   "metadata": {},
   "outputs": [
    {
     "data": {
      "text/plain": [
       "4"
      ]
     },
     "execution_count": 34,
     "metadata": {},
     "output_type": "execute_result"
    }
   ],
   "source": [
    "great = lambda a,b,c: a if a>b and a>c else b if b>c else c\n",
    "great(1,4,3)"
   ]
  },
  {
   "cell_type": "code",
   "execution_count": 80,
   "metadata": {},
   "outputs": [
    {
     "name": "stdout",
     "output_type": "stream",
     "text": [
      "11 33\n",
      "---------------.|.---------------\n",
      "------------.|..|..|.------------\n",
      "---------.|..|..|..|..|.---------\n",
      "------.|..|..|..|..|..|..|.------\n",
      "---.|..|..|..|..|..|..|..|..|.---\n",
      "-------------WELCOME-------------\n",
      "---.|..|..|..|..|..|..|..|..|.---\n",
      "------.|..|..|..|..|..|..|.------\n",
      "---------.|..|..|..|..|.---------\n",
      "------------.|..|..|.------------\n",
      "---------------.|.---------------\n"
     ]
    }
   ],
   "source": [
    "N, M = map(int, input().split())\n",
    "str = '.|.'\n",
    "n = 1\n",
    "\n",
    "for _ in range(int(N/2)):\n",
    "    str1 = str*n\n",
    "    print(str1.center(M, '-'))\n",
    "    n += 2\n",
    "n -= 2\n",
    "print('WELCOME'.center(M, '-'))\n",
    "\n",
    "for _ in range(int(N/2)):\n",
    "    str2 = str*n\n",
    "    print(str2.center(M, '-'))\n",
    "    n -= 2\n",
    "    "
   ]
  },
  {
   "cell_type": "code",
   "execution_count": 29,
   "metadata": {},
   "outputs": [
    {
     "name": "stdout",
     "output_type": "stream",
     "text": [
      "1\n",
      "2\n",
      "3\n"
     ]
    }
   ],
   "source": [
    "for i in [1,2,3,4,5,6,7,8,9,10]:\n",
    "    if i == 4:\n",
    "        break\n",
    "    print(i)"
   ]
  },
  {
   "cell_type": "code",
   "execution_count": 31,
   "metadata": {},
   "outputs": [
    {
     "name": "stdout",
     "output_type": "stream",
     "text": [
      "8\n"
     ]
    }
   ],
   "source": [
    "for i in [1,2,3,4,5,6,7,8,]:\n",
    "    pass\n",
    "print(i)"
   ]
  },
  {
   "cell_type": "code",
   "execution_count": 34,
   "metadata": {},
   "outputs": [
    {
     "name": "stdout",
     "output_type": "stream",
     "text": [
      "<list_iterator object at 0x0000001442AB9908>\n",
      "1\n",
      "2\n",
      "3\n",
      "4\n",
      "5\n",
      "6\n",
      "7\n",
      "deep learning\n",
      "devops\n",
      "aws\n",
      "redhat\n"
     ]
    }
   ],
   "source": [
    "ls = [1,2,3,4,5,6,7,'deep learning', 'devops', 'aws', 'redhat']\n",
    "iter_obj = iter(ls)\n",
    "print(iter_obj)\n",
    "while True:\n",
    "    try:\n",
    "        value = next(iter_obj)\n",
    "        print(value)\n",
    "    except StopIteration:\n",
    "        break"
   ]
  },
  {
   "cell_type": "code",
   "execution_count": 2,
   "metadata": {},
   "outputs": [
    {
     "name": "stdout",
     "output_type": "stream",
     "text": [
      "Writing student.txt\n"
     ]
    }
   ],
   "source": [
    "%%writefile student.txt\n",
    "name,batch,Engilsh,Hindi,Science\n",
    "Arshika,10A,98,67,86\n",
    "Deep,10B,90,67,66\n",
    "Gaurav,10c,95,70,56"
   ]
  },
  {
   "cell_type": "code",
   "execution_count": 27,
   "metadata": {},
   "outputs": [
    {
     "name": "stdout",
     "output_type": "stream",
     "text": [
      "Source file namestudent.txt\n",
      "destination file nameC:\\Users\\deepr_000\\Desktop\\result.csv\n"
     ]
    }
   ],
   "source": [
    "def fun(src, dest):\n",
    "    with open(src) as f:\n",
    "        data = f.read()\n",
    "        lst = data.split('\\n')\n",
    "        with open(dest, 'w') as fp:\n",
    "            fp.write(\"Name,Batch,Percentage\")\n",
    "            for line in range(1,len(lst)-1):\n",
    "                name = lst[line].split(',')[0]\n",
    "                batch = lst[line].split(',')[1]\n",
    "                percentage = sum(map(int,lst[line].split(',')[2:]))/300\n",
    "                fp.write(\"\\n{}, {}, {:.2%}\".format(name,batch,percentage))\n",
    "                \n",
    "    \n",
    "src = input('Source file name')\n",
    "dest = input('destination file name')\n",
    "fun(src, dest)"
   ]
  },
  {
   "cell_type": "code",
   "execution_count": 30,
   "metadata": {},
   "outputs": [
    {
     "name": "stdout",
     "output_type": "stream",
     "text": [
      "10\n",
      "20\n",
      "30\n",
      "40\n",
      "50\n",
      "60\n",
      "70\n",
      "80\n",
      "90\n",
      "100\n"
     ]
    }
   ],
   "source": [
    "tables = [lambda x=x: x*10 for x in range(1, 11)]\n",
    "\n",
    "for table in tables:\n",
    "    print(table())\n"
   ]
  },
  {
   "cell_type": "code",
   "execution_count": 31,
   "metadata": {},
   "outputs": [
    {
     "name": "stdout",
     "output_type": "stream",
     "text": [
      "Help on class filter in module builtins:\n",
      "\n",
      "class filter(object)\n",
      " |  filter(function or None, iterable) --> filter object\n",
      " |  \n",
      " |  Return an iterator yielding those items of iterable for which function(item)\n",
      " |  is true. If function is None, return the items that are true.\n",
      " |  \n",
      " |  Methods defined here:\n",
      " |  \n",
      " |  __getattribute__(self, name, /)\n",
      " |      Return getattr(self, name).\n",
      " |  \n",
      " |  __iter__(self, /)\n",
      " |      Implement iter(self).\n",
      " |  \n",
      " |  __next__(self, /)\n",
      " |      Implement next(self).\n",
      " |  \n",
      " |  __reduce__(...)\n",
      " |      Return state information for pickling.\n",
      " |  \n",
      " |  ----------------------------------------------------------------------\n",
      " |  Static methods defined here:\n",
      " |  \n",
      " |  __new__(*args, **kwargs) from builtins.type\n",
      " |      Create and return a new object.  See help(type) for accurate signature.\n",
      "\n"
     ]
    }
   ],
   "source": [
    "help(filter)"
   ]
  },
  {
   "cell_type": "code",
   "execution_count": 1,
   "metadata": {},
   "outputs": [],
   "source": [
    "import socket"
   ]
  },
  {
   "cell_type": "code",
   "execution_count": 2,
   "metadata": {},
   "outputs": [
    {
     "data": {
      "text/plain": [
       "'192.168.29.154'"
      ]
     },
     "execution_count": 2,
     "metadata": {},
     "output_type": "execute_result"
    }
   ],
   "source": [
    "socket.gethostbyname(socket.gethostname())"
   ]
  },
  {
   "cell_type": "code",
   "execution_count": 3,
   "metadata": {},
   "outputs": [
    {
     "data": {
      "text/plain": [
       "'192.168.29.142'"
      ]
     },
     "execution_count": 3,
     "metadata": {},
     "output_type": "execute_result"
    }
   ],
   "source": [
    "socket.gethostbyname('Ravi_Ramawat')"
   ]
  },
  {
   "cell_type": "code",
   "execution_count": 4,
   "metadata": {},
   "outputs": [
    {
     "data": {
      "text/plain": [
       "'mss2015'"
      ]
     },
     "execution_count": 4,
     "metadata": {},
     "output_type": "execute_result"
    }
   ],
   "source": [
    "socket.gethostname()"
   ]
  },
  {
   "cell_type": "code",
   "execution_count": 6,
   "metadata": {},
   "outputs": [
    {
     "name": "stdout",
     "output_type": "stream",
     "text": [
      "emosewa si nohtyp\n"
     ]
    }
   ],
   "source": [
    "string = 'python is awesome'\n",
    "string1 = string[::-1]\n",
    "print(string1)"
   ]
  },
  {
   "cell_type": "code",
   "execution_count": 14,
   "metadata": {},
   "outputs": [
    {
     "data": {
      "text/plain": [
       "'awesome is python'"
      ]
     },
     "execution_count": 14,
     "metadata": {},
     "output_type": "execute_result"
    }
   ],
   "source": [
    "s = 'python is awesome'\n",
    "lst = s.split(' ')\n",
    "temp = lst[0]\n",
    "lst[0] = lst[2]\n",
    "lst[2] = temp\n",
    "' '.join(lst)"
   ]
  },
  {
   "cell_type": "code",
   "execution_count": 22,
   "metadata": {},
   "outputs": [
    {
     "name": "stdout",
     "output_type": "stream",
     "text": [
      "['python', 'pythno', 'pytohn', 'pytonh', 'pytnho', 'pytnoh', 'pyhton', 'pyhtno', 'pyhotn', 'pyhont', 'pyhnto', 'pyhnot', 'pyothn', 'pyotnh', 'pyohtn', 'pyohnt', 'pyonth', 'pyonht', 'pyntho', 'pyntoh', 'pynhto', 'pynhot', 'pynoth', 'pynoht', 'ptyhon', 'ptyhno', 'ptyohn', 'ptyonh', 'ptynho', 'ptynoh', 'pthyon', 'pthyno', 'pthoyn', 'pthony', 'pthnyo', 'pthnoy', 'ptoyhn', 'ptoynh', 'ptohyn', 'ptohny', 'ptonyh', 'ptonhy', 'ptnyho', 'ptnyoh', 'ptnhyo', 'ptnhoy', 'ptnoyh', 'ptnohy', 'phyton', 'phytno', 'phyotn', 'phyont', 'phynto', 'phynot', 'phtyon', 'phtyno', 'phtoyn', 'phtony', 'phtnyo', 'phtnoy', 'phoytn', 'phoynt', 'photyn', 'photny', 'phonyt', 'phonty', 'phnyto', 'phnyot', 'phntyo', 'phntoy', 'phnoyt', 'phnoty', 'poythn', 'poytnh', 'poyhtn', 'poyhnt', 'poynth', 'poynht', 'potyhn', 'potynh', 'pothyn', 'pothny', 'potnyh', 'potnhy', 'pohytn', 'pohynt', 'pohtyn', 'pohtny', 'pohnyt', 'pohnty', 'ponyth', 'ponyht', 'pontyh', 'ponthy', 'ponhyt', 'ponhty', 'pnytho', 'pnytoh', 'pnyhto', 'pnyhot', 'pnyoth', 'pnyoht', 'pntyho', 'pntyoh', 'pnthyo', 'pnthoy', 'pntoyh', 'pntohy', 'pnhyto', 'pnhyot', 'pnhtyo', 'pnhtoy', 'pnhoyt', 'pnhoty', 'pnoyth', 'pnoyht', 'pnotyh', 'pnothy', 'pnohyt', 'pnohty', 'ypthon', 'ypthno', 'yptohn', 'yptonh', 'yptnho', 'yptnoh', 'yphton', 'yphtno', 'yphotn', 'yphont', 'yphnto', 'yphnot', 'ypothn', 'ypotnh', 'ypohtn', 'ypohnt', 'yponth', 'yponht', 'ypntho', 'ypntoh', 'ypnhto', 'ypnhot', 'ypnoth', 'ypnoht', 'ytphon', 'ytphno', 'ytpohn', 'ytponh', 'ytpnho', 'ytpnoh', 'ythpon', 'ythpno', 'ythopn', 'ythonp', 'ythnpo', 'ythnop', 'ytophn', 'ytopnh', 'ytohpn', 'ytohnp', 'ytonph', 'ytonhp', 'ytnpho', 'ytnpoh', 'ytnhpo', 'ytnhop', 'ytnoph', 'ytnohp', 'yhpton', 'yhptno', 'yhpotn', 'yhpont', 'yhpnto', 'yhpnot', 'yhtpon', 'yhtpno', 'yhtopn', 'yhtonp', 'yhtnpo', 'yhtnop', 'yhoptn', 'yhopnt', 'yhotpn', 'yhotnp', 'yhonpt', 'yhontp', 'yhnpto', 'yhnpot', 'yhntpo', 'yhntop', 'yhnopt', 'yhnotp', 'yopthn', 'yoptnh', 'yophtn', 'yophnt', 'yopnth', 'yopnht', 'yotphn', 'yotpnh', 'yothpn', 'yothnp', 'yotnph', 'yotnhp', 'yohptn', 'yohpnt', 'yohtpn', 'yohtnp', 'yohnpt', 'yohntp', 'yonpth', 'yonpht', 'yontph', 'yonthp', 'yonhpt', 'yonhtp', 'ynptho', 'ynptoh', 'ynphto', 'ynphot', 'ynpoth', 'ynpoht', 'yntpho', 'yntpoh', 'ynthpo', 'ynthop', 'yntoph', 'yntohp', 'ynhpto', 'ynhpot', 'ynhtpo', 'ynhtop', 'ynhopt', 'ynhotp', 'ynopth', 'ynopht', 'ynotph', 'ynothp', 'ynohpt', 'ynohtp', 'tpyhon', 'tpyhno', 'tpyohn', 'tpyonh', 'tpynho', 'tpynoh', 'tphyon', 'tphyno', 'tphoyn', 'tphony', 'tphnyo', 'tphnoy', 'tpoyhn', 'tpoynh', 'tpohyn', 'tpohny', 'tponyh', 'tponhy', 'tpnyho', 'tpnyoh', 'tpnhyo', 'tpnhoy', 'tpnoyh', 'tpnohy', 'typhon', 'typhno', 'typohn', 'typonh', 'typnho', 'typnoh', 'tyhpon', 'tyhpno', 'tyhopn', 'tyhonp', 'tyhnpo', 'tyhnop', 'tyophn', 'tyopnh', 'tyohpn', 'tyohnp', 'tyonph', 'tyonhp', 'tynpho', 'tynpoh', 'tynhpo', 'tynhop', 'tynoph', 'tynohp', 'thpyon', 'thpyno', 'thpoyn', 'thpony', 'thpnyo', 'thpnoy', 'thypon', 'thypno', 'thyopn', 'thyonp', 'thynpo', 'thynop', 'thopyn', 'thopny', 'thoypn', 'thoynp', 'thonpy', 'thonyp', 'thnpyo', 'thnpoy', 'thnypo', 'thnyop', 'thnopy', 'thnoyp', 'topyhn', 'topynh', 'tophyn', 'tophny', 'topnyh', 'topnhy', 'toyphn', 'toypnh', 'toyhpn', 'toyhnp', 'toynph', 'toynhp', 'tohpyn', 'tohpny', 'tohypn', 'tohynp', 'tohnpy', 'tohnyp', 'tonpyh', 'tonphy', 'tonyph', 'tonyhp', 'tonhpy', 'tonhyp', 'tnpyho', 'tnpyoh', 'tnphyo', 'tnphoy', 'tnpoyh', 'tnpohy', 'tnypho', 'tnypoh', 'tnyhpo', 'tnyhop', 'tnyoph', 'tnyohp', 'tnhpyo', 'tnhpoy', 'tnhypo', 'tnhyop', 'tnhopy', 'tnhoyp', 'tnopyh', 'tnophy', 'tnoyph', 'tnoyhp', 'tnohpy', 'tnohyp', 'hpyton', 'hpytno', 'hpyotn', 'hpyont', 'hpynto', 'hpynot', 'hptyon', 'hptyno', 'hptoyn', 'hptony', 'hptnyo', 'hptnoy', 'hpoytn', 'hpoynt', 'hpotyn', 'hpotny', 'hponyt', 'hponty', 'hpnyto', 'hpnyot', 'hpntyo', 'hpntoy', 'hpnoyt', 'hpnoty', 'hypton', 'hyptno', 'hypotn', 'hypont', 'hypnto', 'hypnot', 'hytpon', 'hytpno', 'hytopn', 'hytonp', 'hytnpo', 'hytnop', 'hyoptn', 'hyopnt', 'hyotpn', 'hyotnp', 'hyonpt', 'hyontp', 'hynpto', 'hynpot', 'hyntpo', 'hyntop', 'hynopt', 'hynotp', 'htpyon', 'htpyno', 'htpoyn', 'htpony', 'htpnyo', 'htpnoy', 'htypon', 'htypno', 'htyopn', 'htyonp', 'htynpo', 'htynop', 'htopyn', 'htopny', 'htoypn', 'htoynp', 'htonpy', 'htonyp', 'htnpyo', 'htnpoy', 'htnypo', 'htnyop', 'htnopy', 'htnoyp', 'hopytn', 'hopynt', 'hoptyn', 'hoptny', 'hopnyt', 'hopnty', 'hoyptn', 'hoypnt', 'hoytpn', 'hoytnp', 'hoynpt', 'hoyntp', 'hotpyn', 'hotpny', 'hotypn', 'hotynp', 'hotnpy', 'hotnyp', 'honpyt', 'honpty', 'honypt', 'honytp', 'hontpy', 'hontyp', 'hnpyto', 'hnpyot', 'hnptyo', 'hnptoy', 'hnpoyt', 'hnpoty', 'hnypto', 'hnypot', 'hnytpo', 'hnytop', 'hnyopt', 'hnyotp', 'hntpyo', 'hntpoy', 'hntypo', 'hntyop', 'hntopy', 'hntoyp', 'hnopyt', 'hnopty', 'hnoypt', 'hnoytp', 'hnotpy', 'hnotyp', 'opythn', 'opytnh', 'opyhtn', 'opyhnt', 'opynth', 'opynht', 'optyhn', 'optynh', 'opthyn', 'opthny', 'optnyh', 'optnhy', 'ophytn', 'ophynt', 'ophtyn', 'ophtny', 'ophnyt', 'ophnty', 'opnyth', 'opnyht', 'opntyh', 'opnthy', 'opnhyt', 'opnhty', 'oypthn', 'oyptnh', 'oyphtn', 'oyphnt', 'oypnth', 'oypnht', 'oytphn', 'oytpnh', 'oythpn', 'oythnp', 'oytnph', 'oytnhp', 'oyhptn', 'oyhpnt', 'oyhtpn', 'oyhtnp', 'oyhnpt', 'oyhntp', 'oynpth', 'oynpht', 'oyntph', 'oynthp', 'oynhpt', 'oynhtp', 'otpyhn', 'otpynh', 'otphyn', 'otphny', 'otpnyh', 'otpnhy', 'otyphn', 'otypnh', 'otyhpn', 'otyhnp', 'otynph', 'otynhp', 'othpyn', 'othpny', 'othypn', 'othynp', 'othnpy', 'othnyp', 'otnpyh', 'otnphy', 'otnyph', 'otnyhp', 'otnhpy', 'otnhyp', 'ohpytn', 'ohpynt', 'ohptyn', 'ohptny', 'ohpnyt', 'ohpnty', 'ohyptn', 'ohypnt', 'ohytpn', 'ohytnp', 'ohynpt', 'ohyntp', 'ohtpyn', 'ohtpny', 'ohtypn', 'ohtynp', 'ohtnpy', 'ohtnyp', 'ohnpyt', 'ohnpty', 'ohnypt', 'ohnytp', 'ohntpy', 'ohntyp', 'onpyth', 'onpyht', 'onptyh', 'onpthy', 'onphyt', 'onphty', 'onypth', 'onypht', 'onytph', 'onythp', 'onyhpt', 'onyhtp', 'ontpyh', 'ontphy', 'ontyph', 'ontyhp', 'onthpy', 'onthyp', 'onhpyt', 'onhpty', 'onhypt', 'onhytp', 'onhtpy', 'onhtyp', 'npytho', 'npytoh', 'npyhto', 'npyhot', 'npyoth', 'npyoht', 'nptyho', 'nptyoh', 'npthyo', 'npthoy', 'nptoyh', 'nptohy', 'nphyto', 'nphyot', 'nphtyo', 'nphtoy', 'nphoyt', 'nphoty', 'npoyth', 'npoyht', 'npotyh', 'npothy', 'npohyt', 'npohty', 'nyptho', 'nyptoh', 'nyphto', 'nyphot', 'nypoth', 'nypoht', 'nytpho', 'nytpoh', 'nythpo', 'nythop', 'nytoph', 'nytohp', 'nyhpto', 'nyhpot', 'nyhtpo', 'nyhtop', 'nyhopt', 'nyhotp', 'nyopth', 'nyopht', 'nyotph', 'nyothp', 'nyohpt', 'nyohtp', 'ntpyho', 'ntpyoh', 'ntphyo', 'ntphoy', 'ntpoyh', 'ntpohy', 'ntypho', 'ntypoh', 'ntyhpo', 'ntyhop', 'ntyoph', 'ntyohp', 'nthpyo', 'nthpoy', 'nthypo', 'nthyop', 'nthopy', 'nthoyp', 'ntopyh', 'ntophy', 'ntoyph', 'ntoyhp', 'ntohpy', 'ntohyp', 'nhpyto', 'nhpyot', 'nhptyo', 'nhptoy', 'nhpoyt', 'nhpoty', 'nhypto', 'nhypot', 'nhytpo', 'nhytop', 'nhyopt', 'nhyotp', 'nhtpyo', 'nhtpoy', 'nhtypo', 'nhtyop', 'nhtopy', 'nhtoyp', 'nhopyt', 'nhopty', 'nhoypt', 'nhoytp', 'nhotpy', 'nhotyp', 'nopyth', 'nopyht', 'noptyh', 'nopthy', 'nophyt', 'nophty', 'noypth', 'noypht', 'noytph', 'noythp', 'noyhpt', 'noyhtp', 'notpyh', 'notphy', 'notyph', 'notyhp', 'nothpy', 'nothyp', 'nohpyt', 'nohpty', 'nohypt', 'nohytp', 'nohtpy', 'nohtyp']\n"
     ]
    }
   ],
   "source": [
    "from itertools import permutations\n",
    "name = 'python'\n",
    "lst = list(permutations(name, 6))\n",
    "per = []\n",
    "for i in lst:\n",
    "    per.append(''.join(i))\n",
    "\n",
    "print(per)\n",
    "    "
   ]
  },
  {
   "cell_type": "code",
   "execution_count": null,
   "metadata": {},
   "outputs": [],
   "source": []
  },
  {
   "cell_type": "code",
   "execution_count": null,
   "metadata": {},
   "outputs": [],
   "source": []
  },
  {
   "cell_type": "code",
   "execution_count": 20,
   "metadata": {},
   "outputs": [
    {
     "name": "stdout",
     "output_type": "stream",
     "text": [
      "enter number of right circular shift : 3\n",
      "1 2 3 4 5 6 7 8 9\n",
      "[7, 8, 9]\n",
      "[1, 2, 3, 4, 5, 6]\n",
      "[7, 8, 9, 1, 2, 3, 4, 5, 6]\n"
     ]
    }
   ],
   "source": [
    "n = int(input('enter number of right circular shift : '))\n",
    "lst = list(map(int,input().split()))\n",
    "a = lst[-1:-n-1:-1][::-1]\n",
    "print(a)\n",
    "b = lst[:len(lst)-n]\n",
    "print(b)\n",
    "print(a+b)"
   ]
  },
  {
   "cell_type": "code",
   "execution_count": 17,
   "metadata": {},
   "outputs": [
    {
     "name": "stdout",
     "output_type": "stream",
     "text": [
      "[1, 2, 3, 4, 5, 6]\n"
     ]
    }
   ],
   "source": [
    "l = '[1, 2, 3, 4, 5, 6]'\n",
    "print(list(map(int,l[1:-1].split(', '))))"
   ]
  },
  {
   "cell_type": "code",
   "execution_count": null,
   "metadata": {},
   "outputs": [],
   "source": []
  },
  {
   "cell_type": "code",
   "execution_count": 22,
   "metadata": {},
   "outputs": [
    {
     "name": "stdout",
     "output_type": "stream",
     "text": [
      "enter number of right circular shift : 4\n",
      "1 2 3 4 5 6 7 8 9\n",
      "[6, 7, 8, 9, 1, 2, 3, 4, 5]\n"
     ]
    }
   ],
   "source": [
    "n = int(input('enter number of right circular shift : '))\n",
    "lst = list(map(int,input().split()))\n",
    "print(lst[-n:]+lst[:-n])"
   ]
  },
  {
   "cell_type": "code",
   "execution_count": null,
   "metadata": {},
   "outputs": [],
   "source": []
  },
  {
   "cell_type": "markdown",
   "metadata": {},
   "source": [
    "### fibonacci series"
   ]
  },
  {
   "cell_type": "code",
   "execution_count": 29,
   "metadata": {},
   "outputs": [
    {
     "name": "stdout",
     "output_type": "stream",
     "text": [
      "enter the number to get fibonacci series : 10\n",
      "0\n",
      "1\n",
      "1\n",
      "2\n",
      "3\n",
      "5\n",
      "8\n",
      "13\n",
      "21\n",
      "34\n"
     ]
    }
   ],
   "source": [
    "n = int(input('enter the number to get fibonacci series : '))\n",
    "a = 0\n",
    "b = 1\n",
    "if n == 1:\n",
    "    print(a)\n",
    "else:\n",
    "    print(a)\n",
    "    print(b)\n",
    "    for i in range(2,n):\n",
    "        c = a + b\n",
    "        a = b\n",
    "        b = c\n",
    "        print(c)\n"
   ]
  },
  {
   "cell_type": "code",
   "execution_count": 31,
   "metadata": {},
   "outputs": [
    {
     "name": "stdout",
     "output_type": "stream",
     "text": [
      "enter the number to find factorial : 5\n",
      "Factorial of 5 is : 120\n"
     ]
    }
   ],
   "source": [
    "# factorial of given number using for loop\n",
    "n = int(input('enter the number to find factorial : '))\n",
    "f = 1\n",
    "for i in range(1, n+1):\n",
    "    f = f * i\n",
    "print(f'Factorial of {n} is :',f)"
   ]
  },
  {
   "cell_type": "code",
   "execution_count": 41,
   "metadata": {},
   "outputs": [
    {
     "name": "stdout",
     "output_type": "stream",
     "text": [
      "enter the number : 5\n",
      "120\n"
     ]
    }
   ],
   "source": [
    "#way 2\n",
    "def fact(n):\n",
    "    if n == 0:\n",
    "        return 1\n",
    "    else:\n",
    "        return n * fact(n-1)\n",
    "\n",
    "n = int(input('enter the number : '))\n",
    "res = fact(n)\n",
    "print(res)"
   ]
  },
  {
   "cell_type": "code",
   "execution_count": 48,
   "metadata": {},
   "outputs": [
    {
     "name": "stdout",
     "output_type": "stream",
     "text": [
      "enter file name : deep.txt\n",
      "file not found [Errno 2] No such file or directory: 'deep.txt'\n",
      "enter file name : student.txt\n",
      "name,batch,Engilsh,Hindi,Science\n",
      "Arshika,10A,98,67,86\n",
      "Deep,10B,90,67,66\n",
      "Gaurav,10c,95,70,56\n",
      "\n"
     ]
    }
   ],
   "source": [
    "while True:\n",
    "    file = input('enter file name : ')\n",
    "    try:\n",
    "        with open(file) as fp:\n",
    "            data = fp.read()\n",
    "            print(data)\n",
    "            break\n",
    "    except FileNotFoundError as msg:\n",
    "        print('file not found',msg)"
   ]
  },
  {
   "cell_type": "code",
   "execution_count": null,
   "metadata": {},
   "outputs": [],
   "source": []
  },
  {
   "cell_type": "code",
   "execution_count": 52,
   "metadata": {},
   "outputs": [
    {
     "name": "stdout",
     "output_type": "stream",
     "text": [
      "enter value3\n",
      "\n",
      " n :  3\n"
     ]
    }
   ],
   "source": [
    "while True:\n",
    "    try:\n",
    "        n = int(input('enter value'))\n",
    "        if 1>n>20:\n",
    "            raise ValueError('number should be between 1 to 20')\n",
    "        else:\n",
    "            print('\\n n : ', n)\n",
    "            break\n",
    "    except Exception as ex:\n",
    "        print('\\n Error-->', ex)"
   ]
  },
  {
   "cell_type": "markdown",
   "metadata": {},
   "source": []
  },
  {
   "cell_type": "code",
   "execution_count": 56,
   "metadata": {},
   "outputs": [
    {
     "name": "stdout",
     "output_type": "stream",
     "text": [
      "10\n",
      "* \n",
      "* * \n",
      "* * * \n",
      "* * * * \n",
      "* * * * * \n",
      "* * * * * * \n",
      "* * * * * * * \n",
      "* * * * * * * * \n",
      "* * * * * * * * * \n",
      "* * * * * * * * * * \n"
     ]
    }
   ],
   "source": [
    "n = int(input())\n",
    "row = 0\n",
    "while row < n:\n",
    "    col = row+1\n",
    "    while col > 0:\n",
    "        print('*', end=' ')\n",
    "        col = col - 1\n",
    "    row = row + 1\n",
    "    print()\n"
   ]
  },
  {
   "cell_type": "code",
   "execution_count": null,
   "metadata": {},
   "outputs": [],
   "source": []
  },
  {
   "cell_type": "code",
   "execution_count": 75,
   "metadata": {},
   "outputs": [
    {
     "name": "stdout",
     "output_type": "stream",
     "text": [
      "34\n",
      "                                 * \n",
      "                                * * \n",
      "                               * * * \n",
      "                              * * * * \n",
      "                             * * * * * \n",
      "                            * * * * * * \n",
      "                           * * * * * * * \n",
      "                          * * * * * * * * \n",
      "                         * * * * * * * * * \n",
      "                        * * * * * * * * * * \n",
      "                       * * * * * * * * * * * \n",
      "                      * * * * * * * * * * * * \n",
      "                     * * * * * * * * * * * * * \n",
      "                    * * * * * * * * * * * * * * \n",
      "                   * * * * * * * * * * * * * * * \n",
      "                  * * * * * * * * * * * * * * * * \n",
      "                 * * * * * * * * * * * * * * * * * \n",
      "                * * * * * * * * * * * * * * * * * * \n",
      "               * * * * * * * * * * * * * * * * * * * \n",
      "              * * * * * * * * * * * * * * * * * * * * \n",
      "             * * * * * * * * * * * * * * * * * * * * * \n",
      "            * * * * * * * * * * * * * * * * * * * * * * \n",
      "           * * * * * * * * * * * * * * * * * * * * * * * \n",
      "          * * * * * * * * * * * * * * * * * * * * * * * * \n",
      "         * * * * * * * * * * * * * * * * * * * * * * * * * \n",
      "        * * * * * * * * * * * * * * * * * * * * * * * * * * \n",
      "       * * * * * * * * * * * * * * * * * * * * * * * * * * * \n",
      "      * * * * * * * * * * * * * * * * * * * * * * * * * * * * \n",
      "     * * * * * * * * * * * * * * * * * * * * * * * * * * * * * \n",
      "    * * * * * * * * * * * * * * * * * * * * * * * * * * * * * * \n",
      "   * * * * * * * * * * * * * * * * * * * * * * * * * * * * * * * \n",
      "  * * * * * * * * * * * * * * * * * * * * * * * * * * * * * * * * \n",
      " * * * * * * * * * * * * * * * * * * * * * * * * * * * * * * * * * \n",
      "* * * * * * * * * * * * * * * * * * * * * * * * * * * * * * * * * * \n"
     ]
    }
   ],
   "source": [
    "num = int(input())\n",
    "row = 0\n",
    "while row < num:\n",
    "    \n",
    "    space = num - row - 1\n",
    "    while space > 0:\n",
    "        print(end=' ')\n",
    "        space -= 1\n",
    "    \n",
    "    star = row + 1\n",
    "    while star > 0:\n",
    "        print('*', end=' ')\n",
    "        star -= 1\n",
    "        \n",
    "    row += 1\n",
    "    print()"
   ]
  },
  {
   "cell_type": "markdown",
   "metadata": {},
   "source": [
    "## Armstrong number"
   ]
  },
  {
   "cell_type": "code",
   "execution_count": 71,
   "metadata": {},
   "outputs": [
    {
     "name": "stdout",
     "output_type": "stream",
     "text": [
      "153\n",
      "153 is an armstrong number\n"
     ]
    }
   ],
   "source": [
    "n = int(input())\n",
    "sum = 0\n",
    "order = len(str(n))\n",
    "copy_n = n\n",
    "\n",
    "while n > 0:\n",
    "    digit = n % 10\n",
    "    sum += digit ** order\n",
    "    n = n // 10\n",
    "    \n",
    "if sum == copy_n:\n",
    "    print(f'{copy_n} is an armstrong number')\n",
    "else:\n",
    "    print(f'{copy_n} is not an armstrong number')\n"
   ]
  },
  {
   "cell_type": "code",
   "execution_count": null,
   "metadata": {},
   "outputs": [],
   "source": []
  },
  {
   "cell_type": "code",
   "execution_count": 78,
   "metadata": {},
   "outputs": [
    {
     "name": "stdout",
     "output_type": "stream",
     "text": [
      "{'d': '2'}\n"
     ]
    }
   ],
   "source": [
    "s = ('d2',)\n",
    "print(dict(s))"
   ]
  },
  {
   "cell_type": "code",
   "execution_count": 79,
   "metadata": {},
   "outputs": [
    {
     "ename": "ValueError",
     "evalue": "dictionary update sequence element #0 has length 1; 2 is required",
     "output_type": "error",
     "traceback": [
      "\u001b[1;31m---------------------------------------------------------------------------\u001b[0m",
      "\u001b[1;31mValueError\u001b[0m                                Traceback (most recent call last)",
      "\u001b[1;32m<ipython-input-79-b9a2e3047cc0>\u001b[0m in \u001b[0;36m<module>\u001b[1;34m\u001b[0m\n\u001b[0;32m      1\u001b[0m \u001b[0ms\u001b[0m \u001b[1;33m=\u001b[0m \u001b[1;33m(\u001b[0m\u001b[1;34m'd2'\u001b[0m\u001b[1;33m)\u001b[0m\u001b[1;33m\u001b[0m\u001b[1;33m\u001b[0m\u001b[0m\n\u001b[1;32m----> 2\u001b[1;33m \u001b[0mprint\u001b[0m\u001b[1;33m(\u001b[0m\u001b[0mdict\u001b[0m\u001b[1;33m(\u001b[0m\u001b[0ms\u001b[0m\u001b[1;33m)\u001b[0m\u001b[1;33m)\u001b[0m\u001b[1;33m\u001b[0m\u001b[1;33m\u001b[0m\u001b[0m\n\u001b[0m",
      "\u001b[1;31mValueError\u001b[0m: dictionary update sequence element #0 has length 1; 2 is required"
     ]
    }
   ],
   "source": [
    "s = ('d2')\n",
    "print(dict(s))"
   ]
  },
  {
   "cell_type": "markdown",
   "metadata": {},
   "source": [
    "# Palindrome "
   ]
  },
  {
   "cell_type": "code",
   "execution_count": 82,
   "metadata": {},
   "outputs": [
    {
     "name": "stdout",
     "output_type": "stream",
     "text": [
      "121\n",
      "121 is palindrome\n"
     ]
    }
   ],
   "source": [
    "number = int(input())\n",
    "temp = number\n",
    "reverse = 0\n",
    "\n",
    "while number > 0:\n",
    "    r = number % 10\n",
    "    reverse = reverse * 10 + r\n",
    "    number = number // 10\n",
    "\n",
    "if temp == reverse:\n",
    "    print(f'{temp} is palindrome')\n",
    "else:\n",
    "    print(f'{temp} is not palindrome')"
   ]
  },
  {
   "cell_type": "code",
   "execution_count": 92,
   "metadata": {},
   "outputs": [
    {
     "name": "stdout",
     "output_type": "stream",
     "text": [
      "2\n",
      "ddd 3456\n",
      "fff 34567\n",
      "ddd\n",
      "ddd=3456\n",
      "fff\n",
      "fff=34567\n",
      "ss\n",
      "Not found\n"
     ]
    },
    {
     "ename": "KeyboardInterrupt",
     "evalue": "Interrupted by user",
     "output_type": "error",
     "traceback": [
      "\u001b[1;31m---------------------------------------------------------------------------\u001b[0m",
      "\u001b[1;31mKeyboardInterrupt\u001b[0m                         Traceback (most recent call last)",
      "\u001b[1;32m<ipython-input-92-c25f80868f52>\u001b[0m in \u001b[0;36m<module>\u001b[1;34m\u001b[0m\n\u001b[0;32m      6\u001b[0m \u001b[1;32mwhile\u001b[0m \u001b[1;32mTrue\u001b[0m\u001b[1;33m:\u001b[0m\u001b[1;33m\u001b[0m\u001b[1;33m\u001b[0m\u001b[0m\n\u001b[0;32m      7\u001b[0m     \u001b[1;32mtry\u001b[0m\u001b[1;33m:\u001b[0m\u001b[1;33m\u001b[0m\u001b[1;33m\u001b[0m\u001b[0m\n\u001b[1;32m----> 8\u001b[1;33m         \u001b[0mb\u001b[0m\u001b[1;33m=\u001b[0m\u001b[0minput\u001b[0m\u001b[1;33m(\u001b[0m\u001b[1;33m)\u001b[0m\u001b[1;33m\u001b[0m\u001b[1;33m\u001b[0m\u001b[0m\n\u001b[0m\u001b[0;32m      9\u001b[0m         \u001b[1;32mif\u001b[0m \u001b[0mb\u001b[0m \u001b[1;32min\u001b[0m \u001b[0mdict1\u001b[0m\u001b[1;33m:\u001b[0m\u001b[1;33m\u001b[0m\u001b[1;33m\u001b[0m\u001b[0m\n\u001b[0;32m     10\u001b[0m             \u001b[0mprint\u001b[0m\u001b[1;33m(\u001b[0m\u001b[0mb\u001b[0m\u001b[1;33m+\u001b[0m\u001b[1;34m\"=\"\u001b[0m\u001b[1;33m+\u001b[0m\u001b[0mdict1\u001b[0m\u001b[1;33m[\u001b[0m\u001b[0mb\u001b[0m\u001b[1;33m]\u001b[0m\u001b[1;33m)\u001b[0m\u001b[1;33m\u001b[0m\u001b[1;33m\u001b[0m\u001b[0m\n",
      "\u001b[1;32m~\\anaconda3\\lib\\site-packages\\ipykernel\\kernelbase.py\u001b[0m in \u001b[0;36mraw_input\u001b[1;34m(self, prompt)\u001b[0m\n\u001b[0;32m    861\u001b[0m             \u001b[0mself\u001b[0m\u001b[1;33m.\u001b[0m\u001b[0m_parent_ident\u001b[0m\u001b[1;33m,\u001b[0m\u001b[1;33m\u001b[0m\u001b[1;33m\u001b[0m\u001b[0m\n\u001b[0;32m    862\u001b[0m             \u001b[0mself\u001b[0m\u001b[1;33m.\u001b[0m\u001b[0m_parent_header\u001b[0m\u001b[1;33m,\u001b[0m\u001b[1;33m\u001b[0m\u001b[1;33m\u001b[0m\u001b[0m\n\u001b[1;32m--> 863\u001b[1;33m             \u001b[0mpassword\u001b[0m\u001b[1;33m=\u001b[0m\u001b[1;32mFalse\u001b[0m\u001b[1;33m,\u001b[0m\u001b[1;33m\u001b[0m\u001b[1;33m\u001b[0m\u001b[0m\n\u001b[0m\u001b[0;32m    864\u001b[0m         )\n\u001b[0;32m    865\u001b[0m \u001b[1;33m\u001b[0m\u001b[0m\n",
      "\u001b[1;32m~\\anaconda3\\lib\\site-packages\\ipykernel\\kernelbase.py\u001b[0m in \u001b[0;36m_input_request\u001b[1;34m(self, prompt, ident, parent, password)\u001b[0m\n\u001b[0;32m    902\u001b[0m             \u001b[1;32mexcept\u001b[0m \u001b[0mKeyboardInterrupt\u001b[0m\u001b[1;33m:\u001b[0m\u001b[1;33m\u001b[0m\u001b[1;33m\u001b[0m\u001b[0m\n\u001b[0;32m    903\u001b[0m                 \u001b[1;31m# re-raise KeyboardInterrupt, to truncate traceback\u001b[0m\u001b[1;33m\u001b[0m\u001b[1;33m\u001b[0m\u001b[1;33m\u001b[0m\u001b[0m\n\u001b[1;32m--> 904\u001b[1;33m                 \u001b[1;32mraise\u001b[0m \u001b[0mKeyboardInterrupt\u001b[0m\u001b[1;33m(\u001b[0m\u001b[1;34m\"Interrupted by user\"\u001b[0m\u001b[1;33m)\u001b[0m \u001b[1;32mfrom\u001b[0m \u001b[1;32mNone\u001b[0m\u001b[1;33m\u001b[0m\u001b[1;33m\u001b[0m\u001b[0m\n\u001b[0m\u001b[0;32m    905\u001b[0m             \u001b[1;32mexcept\u001b[0m \u001b[0mException\u001b[0m \u001b[1;32mas\u001b[0m \u001b[0me\u001b[0m\u001b[1;33m:\u001b[0m\u001b[1;33m\u001b[0m\u001b[1;33m\u001b[0m\u001b[0m\n\u001b[0;32m    906\u001b[0m                 \u001b[0mself\u001b[0m\u001b[1;33m.\u001b[0m\u001b[0mlog\u001b[0m\u001b[1;33m.\u001b[0m\u001b[0mwarning\u001b[0m\u001b[1;33m(\u001b[0m\u001b[1;34m\"Invalid Message:\"\u001b[0m\u001b[1;33m,\u001b[0m \u001b[0mexc_info\u001b[0m\u001b[1;33m=\u001b[0m\u001b[1;32mTrue\u001b[0m\u001b[1;33m)\u001b[0m\u001b[1;33m\u001b[0m\u001b[1;33m\u001b[0m\u001b[0m\n",
      "\u001b[1;31mKeyboardInterrupt\u001b[0m: Interrupted by user"
     ]
    },
    {
     "name": "stdout",
     "output_type": "stream",
     "text": [
      "\n"
     ]
    }
   ],
   "source": [
    "n = int(input())\n",
    "dict1 = {}\n",
    "for i in range(n):\n",
    "    name, number = input().split()\n",
    "    dict1[name] = number\n",
    "while True:\n",
    "    try:\n",
    "        b=input()\n",
    "        if b in dict1:\n",
    "            print(b+\"=\"+dict1[b])\n",
    "        else:\n",
    "            print(\"Not found\")\n",
    "    except EOFError:\n",
    "        break"
   ]
  },
  {
   "cell_type": "code",
   "execution_count": 100,
   "metadata": {},
   "outputs": [
    {
     "name": "stdout",
     "output_type": "stream",
     "text": [
      "0b1101\n"
     ]
    }
   ],
   "source": [
    "a = 13\n",
    "print(bin(a))"
   ]
  },
  {
   "cell_type": "code",
   "execution_count": 95,
   "metadata": {},
   "outputs": [
    {
     "name": "stdout",
     "output_type": "stream",
     "text": [
      "\n",
      "Help on NoneType object:\n",
      "\n",
      "class NoneType(object)\n",
      " |  Methods defined here:\n",
      " |  \n",
      " |  __bool__(self, /)\n",
      " |      self != 0\n",
      " |  \n",
      " |  __repr__(self, /)\n",
      " |      Return repr(self).\n",
      " |  \n",
      " |  ----------------------------------------------------------------------\n",
      " |  Static methods defined here:\n",
      " |  \n",
      " |  __new__(*args, **kwargs) from builtins.type\n",
      " |      Create and return a new object.  See help(type) for accurate signature.\n",
      "\n"
     ]
    }
   ],
   "source": [
    "help(print())"
   ]
  },
  {
   "cell_type": "code",
   "execution_count": 119,
   "metadata": {},
   "outputs": [
    {
     "name": "stdout",
     "output_type": "stream",
     "text": [
      "5 3\n",
      "91 92 83 89 90.5\n",
      "90 91 85 88 86\n",
      "89 90 78 93 80\n",
      "[1, 2, 3, 4, 5]\n",
      "[[91.0, 92.0, 83.0, 89.0, 90.5], [90.0, 91.0, 85.0, 88.0, 86.0], [89.0, 90.0, 78.0, 93.0, 80.0]]\n",
      "[(91.0, 90.0, 89.0), (92.0, 91.0, 90.0), (83.0, 85.0, 78.0), (89.0, 88.0, 93.0), (90.5, 86.0, 80.0)]\n"
     ]
    },
    {
     "ename": "TypeError",
     "evalue": "list indices must be integers or slices, not tuple",
     "output_type": "error",
     "traceback": [
      "\u001b[1;31m---------------------------------------------------------------------------\u001b[0m",
      "\u001b[1;31mTypeError\u001b[0m                                 Traceback (most recent call last)",
      "\u001b[1;32m<ipython-input-119-a97c5925c435>\u001b[0m in \u001b[0;36m<module>\u001b[1;34m\u001b[0m\n\u001b[0;32m     14\u001b[0m \u001b[0mprint\u001b[0m\u001b[1;33m(\u001b[0m\u001b[0mlst2\u001b[0m\u001b[1;33m)\u001b[0m\u001b[1;33m\u001b[0m\u001b[1;33m\u001b[0m\u001b[0m\n\u001b[0;32m     15\u001b[0m \u001b[1;32mfor\u001b[0m \u001b[0mi\u001b[0m \u001b[1;32min\u001b[0m \u001b[0mlst2\u001b[0m\u001b[1;33m:\u001b[0m\u001b[1;33m\u001b[0m\u001b[1;33m\u001b[0m\u001b[0m\n\u001b[1;32m---> 16\u001b[1;33m     \u001b[0mprint\u001b[0m\u001b[1;33m(\u001b[0m\u001b[0msum\u001b[0m\u001b[1;33m(\u001b[0m\u001b[0mlst2\u001b[0m\u001b[1;33m[\u001b[0m\u001b[0mi\u001b[0m\u001b[1;33m]\u001b[0m\u001b[1;33m)\u001b[0m\u001b[1;33m)\u001b[0m\u001b[1;33m\u001b[0m\u001b[1;33m\u001b[0m\u001b[0m\n\u001b[0m",
      "\u001b[1;31mTypeError\u001b[0m: list indices must be integers or slices, not tuple"
     ]
    }
   ],
   "source": [
    "# Enter your code here. Read input from STDIN. Print output to STDOUT\n",
    "N, X = map(int, input().split())\n",
    "\n",
    "lst = []\n",
    "lst1 = []\n",
    "\n",
    "for i in range(1,N+1):\n",
    "    lst.append(i)\n",
    "for j in range(X):\n",
    "    lst1.append(list(map(float, input().split())))\n",
    "print(lst)\n",
    "print(lst1)\n",
    "lst2 = list(zip(*lst1))\n",
    "print(lst2)\n",
    "for i in lst2:\n",
    "    print(sum(lst2[i]))"
   ]
  },
  {
   "cell_type": "code",
   "execution_count": null,
   "metadata": {},
   "outputs": [],
   "source": []
  }
 ],
 "metadata": {
  "kernelspec": {
   "display_name": "Python 3",
   "language": "python",
   "name": "python3"
  },
  "language_info": {
   "codemirror_mode": {
    "name": "ipython",
    "version": 3
   },
   "file_extension": ".py",
   "mimetype": "text/x-python",
   "name": "python",
   "nbconvert_exporter": "python",
   "pygments_lexer": "ipython3",
   "version": "3.7.9"
  }
 },
 "nbformat": 4,
 "nbformat_minor": 4
}
